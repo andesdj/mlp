{
 "cells": [
  {
   "cell_type": "code",
   "execution_count": 2,
   "metadata": {},
   "outputs": [],
   "source": [
    "from scipy.spatial import distance_matrix\n",
    "from scipy.cluster.hierarchy import dendrogram, linkage\n",
    "import pandas as pd\n",
    "import numpy as np\n",
    "import matplotlib.pyplot as plt\n",
    "\n",
    "%matplotlib inline"
   ]
  },
  {
   "cell_type": "markdown",
   "metadata": {},
   "source": [
    "### Metodo K Means Python\n",
    "* Kk Means debe saber a Priori cuantos K grupos debe tener antes de analizar"
   ]
  },
  {
   "cell_type": "code",
   "execution_count": 7,
   "metadata": {},
   "outputs": [
    {
     "data": {
      "text/plain": [
       "array([[0.54690293, 0.75845725, 0.40693562],\n",
       "       [0.84429477, 0.56954866, 0.19053273],\n",
       "       [0.5494156 , 0.11235986, 0.11420505],\n",
       "       [0.04910938, 0.54622701, 0.69234719],\n",
       "       [0.07101279, 0.34602496, 0.63499327],\n",
       "       [0.57974553, 0.53160477, 0.30505963],\n",
       "       [0.48272484, 0.86542016, 0.5587936 ],\n",
       "       [0.33291317, 0.81415924, 0.46722704],\n",
       "       [0.79188368, 0.25815849, 0.57303903],\n",
       "       [0.52197557, 0.19382821, 0.30108102],\n",
       "       [0.10489855, 0.6626103 , 0.83896082],\n",
       "       [0.80440501, 0.45084159, 0.84988541],\n",
       "       [0.11789697, 0.00735591, 0.97040092],\n",
       "       [0.07898782, 0.56672114, 0.99808553],\n",
       "       [0.47760222, 0.67089046, 0.3484867 ],\n",
       "       [0.56456876, 0.29615845, 0.55053709],\n",
       "       [0.28723004, 0.75369478, 0.59529457],\n",
       "       [0.34973848, 0.25932111, 0.75414169],\n",
       "       [0.09343942, 0.20634343, 0.65200152],\n",
       "       [0.81280467, 0.70088059, 0.28745819],\n",
       "       [0.92847084, 0.41444865, 0.91349937],\n",
       "       [0.81336011, 0.63952993, 0.83432014],\n",
       "       [0.98808014, 0.02923473, 0.239993  ],\n",
       "       [0.69017463, 0.60575141, 0.84527432],\n",
       "       [0.28236912, 0.24795139, 0.39890058],\n",
       "       [0.50102417, 0.70587629, 0.64308389],\n",
       "       [0.75583394, 0.47520065, 0.87081462],\n",
       "       [0.42911683, 0.05130142, 0.40923464],\n",
       "       [0.81423118, 0.13266338, 0.44920792],\n",
       "       [0.21467812, 0.83718016, 0.23651663]])"
      ]
     },
     "execution_count": 7,
     "metadata": {},
     "output_type": "execute_result"
    }
   ],
   "source": [
    "data= np.random.random(90).reshape(30,3)\n",
    "data"
   ]
  },
  {
   "cell_type": "code",
   "execution_count": 12,
   "metadata": {},
   "outputs": [
    {
     "data": {
      "text/plain": [
       "array([[0.5494156 , 0.11235986, 0.11420505],\n",
       "       [0.79188368, 0.25815849, 0.57303903]])"
      ]
     },
     "execution_count": 12,
     "metadata": {},
     "output_type": "execute_result"
    }
   ],
   "source": [
    "# Elegir 2 centroides al azar par calcular su distancia\n",
    "c1= np.random.choice(range(len(data)))\n",
    "c2= np.random.choice(range(len(data)))\n",
    "\n",
    "clust_center=np.vstack([data[c1], data[c2]])\n",
    "clust_center"
   ]
  },
  {
   "cell_type": "code",
   "execution_count": 15,
   "metadata": {},
   "outputs": [
    {
     "data": {
      "text/plain": [
       "(array([1, 1, 0, 1, 1, 1, 1, 1, 1, 0, 1, 1, 1, 1, 1, 1, 1, 1, 1, 1, 1, 1,\n",
       "        1, 1, 0, 1, 1, 0, 1, 0]),\n",
       " array([0.58129576, 0.49600588, 0.        , 0.8055629 , 0.72884408,\n",
       "        0.43770815, 0.68157822, 0.72868851, 0.        , 0.20570045,\n",
       "        0.84038339, 0.33753145, 0.82161821, 0.88549192, 0.56528247,\n",
       "        0.23156513, 0.70762054, 0.47779903, 0.70480087, 0.52725418,\n",
       "        0.39874291, 0.46278854, 0.44924247, 0.45307574, 0.41321959,\n",
       "        0.53847634, 0.37023936, 0.32441083, 0.17771488, 0.80769658]))"
      ]
     },
     "execution_count": 15,
     "metadata": {},
     "output_type": "execute_result"
    }
   ],
   "source": [
    "from scipy.cluster.vq import vq\n",
    "vq(data,clust_center)"
   ]
  },
  {
   "cell_type": "code",
   "execution_count": 19,
   "metadata": {},
   "outputs": [
    {
     "data": {
      "text/plain": [
       "(array([[0.65258962, 0.28397181, 0.34720444],\n",
       "        [0.40528439, 0.55716076, 0.69005594]]),\n",
       " 0.36942756484220174)"
      ]
     },
     "execution_count": 19,
     "metadata": {},
     "output_type": "execute_result"
    }
   ],
   "source": [
    "from scipy.cluster.vq import kmeans\n",
    "kmeans(data,clust_center)\n",
    "#Información de lso varicentros  \n",
    "# El numero final es el error cuadrado  normalizado de cada uno de los puntos."
   ]
  },
  {
   "cell_type": "code",
   "execution_count": 22,
   "metadata": {},
   "outputs": [
    {
     "data": {
      "text/plain": [
       "(array([[0.63344381, 0.51504227, 0.50386884],\n",
       "        [0.17517437, 0.32153963, 0.7054518 ]]),\n",
       " 0.36438036430896953)"
      ]
     },
     "execution_count": 22,
     "metadata": {},
     "output_type": "execute_result"
    }
   ],
   "source": [
    "kmeans(data, 2)\n",
    "\n"
   ]
  }
 ],
 "metadata": {
  "kernelspec": {
   "display_name": "Python 3",
   "language": "python",
   "name": "python3"
  },
  "language_info": {
   "codemirror_mode": {
    "name": "ipython",
    "version": 3
   },
   "file_extension": ".py",
   "mimetype": "text/x-python",
   "name": "python",
   "nbconvert_exporter": "python",
   "pygments_lexer": "ipython3",
   "version": "3.7.6"
  }
 },
 "nbformat": 4,
 "nbformat_minor": 4
}
