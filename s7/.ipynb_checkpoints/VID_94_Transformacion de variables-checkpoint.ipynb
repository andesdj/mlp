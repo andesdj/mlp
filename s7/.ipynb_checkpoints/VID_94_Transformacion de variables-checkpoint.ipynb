{
 "cells": [
  {
   "cell_type": "code",
   "execution_count": 50,
   "metadata": {},
   "outputs": [
    {
     "data": {
      "text/plain": [
       "(406, 9)"
      ]
     },
     "execution_count": 50,
     "metadata": {},
     "output_type": "execute_result"
    }
   ],
   "source": [
    "from sklearn.linear_model import LinearRegression\n",
    "import pandas as pd\n",
    "import numpy as np\n",
    "import matplotlib.pyplot as plt\n",
    "%matplotlib inline\n",
    "data=pd.read_csv('../src/datasets/auto/auto-mpg.csv')\n",
    "data.head()\n",
    "data.shape\n"
   ]
  },
  {
   "cell_type": "code",
   "execution_count": 9,
   "metadata": {},
   "outputs": [],
   "source": [
    "# Borrar los N/A\n",
    "data['mpg']=data['mpg'].dropna()\n",
    "data['horsepower']=data['horsepower'].dropna()\n"
   ]
  },
  {
   "cell_type": "code",
   "execution_count": 12,
   "metadata": {},
   "outputs": [
    {
     "data": {
      "text/plain": [
       "Text(0, 0.5, 'Millas por Galon')"
      ]
     },
     "execution_count": 12,
     "metadata": {},
     "output_type": "execute_result"
    },
    {
     "data": {
      "image/png": "[encoded data removed]",
      "text/plain": [
       "<Figure size 432x288 with 1 Axes>"
      ]
     },
     "metadata": {
      "needs_background": "light"
     },
     "output_type": "display_data"
    }
   ],
   "source": [
    "plt.plot(data['horsepower'], data['mpg'], 'ro')\n",
    "plt.xlabel('Horse Power ')\n",
    "plt.ylabel('Millas por Galon')\n",
    "\n",
    "#La grafica tiene un atendencia exponencial..  parabola"
   ]
  },
  {
   "cell_type": "markdown",
   "metadata": {},
   "source": [
    "## Modelo de regresion Lineal\n",
    "\n",
    "#### MPG = a+b*HP"
   ]
  },
  {
   "cell_type": "code",
   "execution_count": 22,
   "metadata": {},
   "outputs": [],
   "source": [
    "# DATOS DEL MODELO\n",
    "X=data['horsepower'].fillna(data['horsepower'].mean())\n",
    "Y=data['mpg'].fillna(data['mpg'].mean())"
   ]
  },
  {
   "cell_type": "code",
   "execution_count": 34,
   "metadata": {},
   "outputs": [
    {
     "data": {
      "text/plain": [
       "LinearRegression()"
      ]
     },
     "execution_count": 34,
     "metadata": {},
     "output_type": "execute_result"
    }
   ],
   "source": [
    "#Como X es unidimensional se debe crear un elemento con unadimensionalidad para que el modelo lo reciba como un Array\n",
    "lm= LinearRegression()\n",
    "x_data=X[:, np.newaxis]\n",
    "lm.fit(x_data,Y)\n"
   ]
  },
  {
   "cell_type": "code",
   "execution_count": 35,
   "metadata": {},
   "outputs": [
    {
     "data": {
      "text/plain": [
       "numpy.ndarray"
      ]
     },
     "execution_count": 35,
     "metadata": {},
     "output_type": "execute_result"
    }
   ],
   "source": [
    "type(X[:, np.newaxis])"
   ]
  },
  {
   "cell_type": "code",
   "execution_count": 38,
   "metadata": {},
   "outputs": [
    {
     "data": {
      "text/plain": [
       "Text(0, 0.5, 'Millas por Galon')"
      ]
     },
     "execution_count": 38,
     "metadata": {},
     "output_type": "execute_result"
    },
    {
     "data": {
      "image/png": "[encoded data removed]",
      "text/plain": [
       "<Figure size 432x288 with 1 Axes>"
      ]
     },
     "metadata": {
      "needs_background": "light"
     },
     "output_type": "display_data"
    }
   ],
   "source": [
    "plt.plot(X,Y, 'ro')\n",
    "plt.plot(X, lm.predict(x_data) , color=\"blue\")\n",
    "plt.xlabel('Horse Power ')\n",
    "plt.ylabel('Millas por Galon')\n",
    "\n",
    "#La grafica tiene un atendencia exponencial..  parabola"
   ]
  },
  {
   "cell_type": "code",
   "execution_count": 61,
   "metadata": {},
   "outputs": [
    {
     "data": {
      "text/plain": [
       "(10315.751960060918,\n",
       " 5.046879480825511,\n",
       " 0.21462773361633472,\n",
       " 23.514572864321607)"
      ]
     },
     "execution_count": 61,
     "metadata": {},
     "output_type": "execute_result"
    }
   ],
   "source": [
    "lm.score(x_data,Y)\n",
    "SSD= np.sum((Y- lm.predict(x_data))**2)\n",
    "RSE= np.sqrt(SSD/(len(x_data)-1))\n",
    "y_mean=np.mean(Y)\n",
    "error=RSE/y_mean\n",
    "\n",
    "SSD,RSE,error,y_mean"
   ]
  },
  {
   "cell_type": "markdown",
   "metadata": {},
   "source": [
    "#### Se considera que el modelo puede optimizarse\n",
    "#### Modelo de regresion cuadratico \n",
    "\n",
    "* mpg= a + b * HP^2 "
   ]
  },
  {
   "cell_type": "code",
   "execution_count": 73,
   "metadata": {},
   "outputs": [
    {
     "data": {
      "text/plain": [
       "LinearRegression()"
      ]
     },
     "execution_count": 73,
     "metadata": {},
     "output_type": "execute_result"
    }
   ],
   "source": [
    "x_data=X**2\n",
    "x_data=x_data[:, np.newaxis]\n",
    "lm=LinearRegression()\n",
    "lm.fit(x_data,Y)"
   ]
  },
  {
   "cell_type": "code",
   "execution_count": 74,
   "metadata": {},
   "outputs": [
    {
     "data": {
      "text/plain": [
       "(12490.350340501926,\n",
       " 5.553410772769817,\n",
       " 0.23616889852998113,\n",
       " 23.514572864321607)"
      ]
     },
     "execution_count": 74,
     "metadata": {},
     "output_type": "execute_result"
    }
   ],
   "source": [
    "lm.score(x_data,Y)\n",
    "lm.score(x_data,Y)\n",
    "SSD= np.sum((Y- lm.predict(x_data))**2)\n",
    "RSE= np.sqrt(SSD/(len(x_data)-1))\n",
    "y_mean=np.mean(Y)\n",
    "error=RSE/y_mean\n",
    "\n",
    "SSD,RSE,error,y_mean\n"
   ]
  },
  {
   "cell_type": "markdown",
   "metadata": {},
   "source": [
    "## Modelo de regresion Lineal y cuadratico (Combinado)\n",
    "* mpg= a + +b* HP + c * HP^2 "
   ]
  },
  {
   "cell_type": "code",
   "execution_count": 79,
   "metadata": {},
   "outputs": [],
   "source": [
    "from sklearn.preprocessing import PolynomialFeatures\n",
    "from sklearn import linear_model\n"
   ]
  },
  {
   "cell_type": "code",
   "execution_count": 80,
   "metadata": {},
   "outputs": [],
   "source": [
    "poly = PolynomialFeatures(degree=2)\n",
    "x_data=poly.fit_transform(x[:, np.newaxis])\n",
    "\n"
   ]
  }
 ],
 "metadata": {
  "kernelspec": {
   "display_name": "Python 3",
   "language": "python",
   "name": "python3"
  },
  "language_info": {
   "codemirror_mode": {
    "name": "ipython",
    "version": 3
   },
   "file_extension": ".py",
   "mimetype": "text/x-python",
   "name": "python",
   "nbconvert_exporter": "python",
   "pygments_lexer": "ipython3",
   "version": "3.8.3"
  }
 },
 "nbformat": 4,
 "nbformat_minor": 4
}
