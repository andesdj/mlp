{
 "cells": [
  {
   "cell_type": "code",
   "execution_count": 134,
   "metadata": {},
   "outputs": [
    {
     "data": {
      "text/plain": [
       "(406, 9)"
      ]
     },
     "execution_count": 134,
     "metadata": {},
     "output_type": "execute_result"
    }
   ],
   "source": [
    "%config IPCompleter.greedy=True\n",
    "from sklearn.linear_model import LinearRegression\n",
    "import pandas as pd\n",
    "import numpy as np\n",
    "import matplotlib.pyplot as plt\n",
    "%matplotlib inline\n",
    "data=pd.read_csv('../src/datasets/auto/auto-mpg.csv')\n",
    "data.head()\n",
    "data.shape\n"
   ]
  },
  {
   "cell_type": "code",
   "execution_count": 9,
   "metadata": {},
   "outputs": [],
   "source": [
    "# Borrar los N/A\n",
    "data['mpg']=data['mpg'].dropna()\n",
    "data['horsepower']=data['horsepower'].dropna()\n"
   ]
  },
  {
   "cell_type": "code",
   "execution_count": 12,
   "metadata": {},
   "outputs": [
    {
     "data": {
      "text/plain": [
       "Text(0, 0.5, 'Millas por Galon')"
      ]
     },
     "execution_count": 12,
     "metadata": {},
     "output_type": "execute_result"
    },
    {
     "data": {
      "image/png": "[encoded data removed]",
      "text/plain": [
       "<Figure size 432x288 with 1 Axes>"
      ]
     },
     "metadata": {
      "needs_background": "light"
     },
     "output_type": "display_data"
    }
   ],
   "source": [
    "plt.plot(data['horsepower'], data['mpg'], 'ro')\n",
    "plt.xlabel('Horse Power ')\n",
    "plt.ylabel('Millas por Galon')\n",
    "\n",
    "#La grafica tiene un atendencia exponencial..  parabola"
   ]
  },
  {
   "cell_type": "markdown",
   "metadata": {},
   "source": [
    "## Modelo de regresion Lineal\n",
    "\n",
    "#### MPG = a+b*HP"
   ]
  },
  {
   "cell_type": "code",
   "execution_count": 22,
   "metadata": {},
   "outputs": [],
   "source": [
    "# DATOS DEL MODELO\n",
    "X=data['horsepower'].fillna(data['horsepower'].mean())\n",
    "Y=data['mpg'].fillna(data['mpg'].mean())"
   ]
  },
  {
   "cell_type": "code",
   "execution_count": 34,
   "metadata": {},
   "outputs": [
    {
     "data": {
      "text/plain": [
       "LinearRegression()"
      ]
     },
     "execution_count": 34,
     "metadata": {},
     "output_type": "execute_result"
    }
   ],
   "source": [
    "#Como X es unidimensional se debe crear un elemento con unadimensionalidad para que el modelo lo reciba como un Array\n",
    "lm= LinearRegression()\n",
    "x_data=X[:, np.newaxis]\n",
    "lm.fit(x_data,Y)\n"
   ]
  },
  {
   "cell_type": "code",
   "execution_count": 35,
   "metadata": {},
   "outputs": [
    {
     "data": {
      "text/plain": [
       "numpy.ndarray"
      ]
     },
     "execution_count": 35,
     "metadata": {},
     "output_type": "execute_result"
    }
   ],
   "source": [
    "type(X[:, np.newaxis])"
   ]
  },
  {
   "cell_type": "code",
   "execution_count": 38,
   "metadata": {},
   "outputs": [
    {
     "data": {
      "text/plain": [
       "Text(0, 0.5, 'Millas por Galon')"
      ]
     },
     "execution_count": 38,
     "metadata": {},
     "output_type": "execute_result"
    },
    {
     "data": {
      "image/png": "[encoded data removed]",
      "text/plain": [
       "<Figure size 432x288 with 1 Axes>"
      ]
     },
     "metadata": {
      "needs_background": "light"
     },
     "output_type": "display_data"
    }
   ],
   "source": [
    "plt.plot(X,Y, 'ro')\n",
    "plt.plot(X, lm.predict(x_data) , color=\"blue\")\n",
    "plt.xlabel('Horse Power ')\n",
    "plt.ylabel('Millas por Galon')\n",
    "\n",
    "#La grafica tiene un atendencia exponencial..  parabola"
   ]
  },
  {
   "cell_type": "code",
   "execution_count": 61,
   "metadata": {},
   "outputs": [
    {
     "data": {
      "text/plain": [
       "(10315.751960060918,\n",
       " 5.046879480825511,\n",
       " 0.21462773361633472,\n",
       " 23.514572864321607)"
      ]
     },
     "execution_count": 61,
     "metadata": {},
     "output_type": "execute_result"
    }
   ],
   "source": [
    "lm.score(x_data,Y)\n",
    "SSD= np.sum((Y- lm.predict(x_data))**2)\n",
    "RSE= np.sqrt(SSD/(len(x_data)-1))\n",
    "y_mean=np.mean(Y)\n",
    "error=RSE/y_mean\n",
    "\n",
    "SSD,RSE,error,y_mean"
   ]
  },
  {
   "cell_type": "markdown",
   "metadata": {},
   "source": [
    "#### Se considera que el modelo puede optimizarse\n",
    "#### Modelo de regresion cuadratico \n",
    "\n",
    "* mpg= a + b * HP^2 "
   ]
  },
  {
   "cell_type": "code",
   "execution_count": 73,
   "metadata": {},
   "outputs": [
    {
     "data": {
      "text/plain": [
       "LinearRegression()"
      ]
     },
     "execution_count": 73,
     "metadata": {},
     "output_type": "execute_result"
    }
   ],
   "source": [
    "x_data=X**2\n",
    "x_data=x_data[:, np.newaxis]\n",
    "lm=LinearRegression()\n",
    "lm.fit(x_data,Y)"
   ]
  },
  {
   "cell_type": "code",
   "execution_count": 74,
   "metadata": {},
   "outputs": [
    {
     "data": {
      "text/plain": [
       "(12490.350340501926,\n",
       " 5.553410772769817,\n",
       " 0.23616889852998113,\n",
       " 23.514572864321607)"
      ]
     },
     "execution_count": 74,
     "metadata": {},
     "output_type": "execute_result"
    }
   ],
   "source": [
    "lm.score(x_data,Y)\n",
    "lm.score(x_data,Y)\n",
    "SSD= np.sum((Y- lm.predict(x_data))**2)\n",
    "RSE= np.sqrt(SSD/(len(x_data)-1))\n",
    "y_mean=np.mean(Y)\n",
    "error=RSE/y_mean\n",
    "\n",
    "SSD,RSE,error,y_mean\n"
   ]
  },
  {
   "cell_type": "markdown",
   "metadata": {},
   "source": [
    "## Modelo de regresion Lineal y cuadratico (Combinado)\n",
    "* mpg= a + +b* HP + c * HP^2 "
   ]
  },
  {
   "cell_type": "code",
   "execution_count": 79,
   "metadata": {},
   "outputs": [],
   "source": [
    "from sklearn.preprocessing import PolynomialFeatures\n",
    "from sklearn import linear_model\n"
   ]
  },
  {
   "cell_type": "code",
   "execution_count": 91,
   "metadata": {},
   "outputs": [
    {
     "data": {
      "text/plain": [
       "(55.02619244708036, array([ 0.        , -0.43404318,  0.00112615]))"
      ]
     },
     "execution_count": 91,
     "metadata": {},
     "output_type": "execute_result"
    }
   ],
   "source": [
    "poly = PolynomialFeatures(degree=2)\n",
    "x_data=poly.fit_transform(X[:, np.newaxis])\n",
    "lm= linear_model.LinearRegression()\n",
    "lm.fit(x_data,Y)\n",
    "lm.score(x_data, Y)\n",
    "lm.intercept_ , lm.coef_"
   ]
  },
  {
   "cell_type": "code",
   "execution_count": 133,
   "metadata": {},
   "outputs": [
    {
     "name": "stdout",
     "output_type": "stream",
     "text": [
      "Regresion de grado:  1\n",
      "0.5746533406450252\n",
      "39.53387982903449\n",
      "[ 0.         -0.15244505]\n",
      "SSD:  10315.751960060918 ,   RSE: 5.046879480825511 ,   Error: 0.21462773361633472 ,   Y-Mean: 23.514572864321607\n",
      "None\n",
      "  \n",
      "Regresion de grado:  2\n",
      "0.6439066584257469\n",
      "55.02619244708036\n",
      "[ 0.         -0.43404318  0.00112615]\n",
      "SSD:  8636.180643524502 ,   RSE: 4.61778115803654 ,   Error: 0.196379546619069 ,   Y-Mean: 23.514572864321607\n",
      "None\n",
      "  \n",
      "Regresion de grado:  3\n",
      "0.6444678885560744\n",
      "58.44877411191831\n",
      "[ 0.00000000e+00 -5.27113167e-01  1.89736722e-03 -1.95723195e-06]\n",
      "SSD:  8622.569367428549 ,   RSE: 4.614140736300907 ,   Error: 0.19622473106036684 ,   Y-Mean: 23.514572864321607\n",
      "None\n",
      "  \n",
      "Regresion de grado:  4\n",
      "0.6467674189704502\n",
      "40.09664384818936\n",
      "[ 0.00000000e+00  1.62563541e-01 -7.10892744e-03  4.65580255e-05\n",
      " -9.15840093e-08]\n",
      "SSD:  8566.799832491353 ,   RSE: 4.5991947315797574 ,   Error: 0.1955891250126879 ,   Y-Mean: 23.514572864321607\n",
      "None\n",
      "  \n",
      "Regresion de grado:  5\n",
      "0.6547512489367358\n",
      "-40.693812902382106\n",
      "[ 0.00000000e+00  4.00021432e+00 -7.54801920e-02  6.19621369e-04\n",
      " -2.36220932e-06  3.41982935e-09]\n",
      "SSD:  8373.171393635388 ,   RSE: 4.54692173544207 ,   Error: 0.19336612073192547 ,   Y-Mean: 23.514572864321607\n",
      "None\n",
      "  \n",
      "Regresion de grado:  6\n",
      "0.6572844623527504\n",
      "-157.07318255041025\n",
      "[ 0.00000000e+00  1.07623366e+01 -2.30128498e-01  2.40537386e-03\n",
      " -1.33773692e-05  3.79725608e-08 -4.32487457e-11]\n",
      "SSD:  8311.734444063164 ,   RSE: 4.530209829185869 ,   Error: 0.19265541650809673 ,   Y-Mean: 23.514572864321607\n",
      "None\n",
      "  \n",
      "Regresion de grado:  7\n",
      "0.6538574333739281\n",
      "14.781132464392712\n",
      "[ 0.00000000e+00  1.14613092e-03  4.31541934e-02 -1.25404018e-03\n",
      "  1.46299225e-05 -8.50482188e-08  2.45097257e-10 -2.79311314e-13]\n",
      "SSD:  8394.848723035244 ,   RSE: 4.552803700837389 ,   Error: 0.19361626201364288 ,   Y-Mean: 23.514572864321607\n",
      "None\n",
      "  \n",
      "Regresion de grado:  8\n",
      "0.6512432184836016\n",
      "36.406737283711536\n",
      "[ 0.00000000e+00  4.43770809e-07  3.03135016e-06  8.84885464e-05\n",
      " -3.97067199e-06  5.47393594e-08 -3.43825953e-10  1.02689458e-12\n",
      " -1.18561695e-15]\n",
      "SSD:  8458.250166976997 ,   RSE: 4.569963710307058 ,   Error: 0.19434602264202774 ,   Y-Mean: 23.514572864321607\n",
      "None\n",
      "  \n",
      "Regresion de grado:  9\n",
      "0.6510536294705571\n",
      "39.46631607557593\n",
      "[ 0.00000000e+00 -7.80041692e-09 -1.27991658e-09 -6.48447594e-08\n",
      " -1.77132822e-06  3.55551193e-08 -3.00241187e-10  1.32278877e-12\n",
      " -3.04048260e-15  2.92448889e-18]\n",
      "SSD:  8462.848188825541 ,   RSE: 4.571205689300168 ,   Error: 0.19439884005871125 ,   Y-Mean: 23.514572864321607\n",
      "None\n",
      "  \n",
      "Regresion de grado:  10\n",
      "0.6523558258742266\n",
      "38.43818584682923\n",
      "[ 0.00000000e+00 -1.18722912e-09  1.01472644e-13 -2.72056157e-11\n",
      " -1.29823237e-09 -3.51560163e-08  8.70020949e-10 -8.86594135e-12\n",
      "  4.60161932e-14 -1.20804737e-16  1.27734039e-19]\n",
      "SSD:  8431.266572259166 ,   RSE: 4.56266831511193 ,   Error: 0.19403577268608668 ,   Y-Mean: 23.514572864321607\n",
      "None\n",
      "  \n",
      "Regresion de grado:  11\n",
      "0.651167440756232\n",
      "36.408539260140614\n",
      "[ 0.00000000e+00 -6.36831957e-12 -9.59488818e-15 -4.92414852e-15\n",
      " -3.14729553e-13 -1.49252088e-11 -4.09649856e-10  1.04700231e-11\n",
      " -1.08552660e-13  5.67262902e-16 -1.48811862e-18  1.56362014e-21]\n",
      "SSD:  8460.087972029532 ,   RSE: 4.570460163241402 ,   Error: 0.19436713520644508 ,   Y-Mean: 23.514572864321607\n",
      "None\n",
      "  \n"
     ]
    }
   ],
   "source": [
    "def reg_validation(x_data, Y, y_predict):\n",
    "    SSD= np.sum((Y- y_predict)**2)\n",
    "    RSE= np.sqrt(SSD/(len(x_data)-1))\n",
    "    y_mean=np.mean(Y)\n",
    "    error=RSE/y_mean\n",
    "    print(\"SSD: \",SSD,\",   RSE:\",RSE,\",   Error:\",error,\",   Y-Mean:\",y_mean)\n",
    "\n",
    "for d in range (1,12):\n",
    "    poly = PolynomialFeatures(degree=d)\n",
    "    x_data=poly.fit_transform(X[:, np.newaxis])\n",
    "    lm= linear_model.LinearRegression()\n",
    "    lm.fit(x_data,Y)\n",
    "    print(\"Regresion de grado: \", str(d))\n",
    "    print(lm.score(x_data, Y))\n",
    "    print(lm.intercept_)\n",
    "    print(lm.coef_)   \n",
    "    print(reg_validation(x_data, Y, lm.predict(x_data) ))\n",
    "    print(\"  \")\n",
    "\n",
    "    \n"
   ]
  },
  {
   "cell_type": "markdown",
   "metadata": {},
   "source": [
    "##### mpg_ 55.02619 -0.4434*HP + 0.001126*HP^2"
   ]
  },
  {
   "cell_type": "markdown",
   "metadata": {},
   "source": [
    "### EL problema de los Outliers (Datos alejados de los valores centrales)"
   ]
  },
  {
   "cell_type": "code",
   "execution_count": 146,
   "metadata": {},
   "outputs": [
    {
     "data": {
      "text/plain": [
       "[<matplotlib.lines.Line2D at 0x1ffd80a1250>]"
      ]
     },
     "execution_count": 146,
     "metadata": {},
     "output_type": "execute_result"
    },
    {
     "data": {
      "image/png": "[encoded data removed]",
      "text/plain": [
       "<Figure size 432x288 with 1 Axes>"
      ]
     },
     "metadata": {
      "needs_background": "light"
     },
     "output_type": "display_data"
    }
   ],
   "source": [
    "plt.plot(data['displacement'], data['mpg'], 'ro')"
   ]
  },
  {
   "cell_type": "code",
   "execution_count": 151,
   "metadata": {},
   "outputs": [
    {
     "name": "stdout",
     "output_type": "stream",
     "text": [
      "0.6261049762826918\n"
     ]
    },
    {
     "data": {
      "text/plain": [
       "[<matplotlib.lines.Line2D at 0x1ffd8dd0340>]"
      ]
     },
     "execution_count": 151,
     "metadata": {},
     "output_type": "execute_result"
    },
    {
     "data": {
      "image/png": "[encoded data removed]",
      "text/plain": [
       "<Figure size 432x288 with 1 Axes>"
      ]
     },
     "metadata": {
      "needs_background": "light"
     },
     "output_type": "display_data"
    }
   ],
   "source": [
    "X=data['displacement'].fillna(data['displacement'].mean())\n",
    "X=X[:, np.newaxis]\n",
    "Y=data['mpg'].fillna(data['mpg'].mean())\n",
    "lm= LinearRegression()\n",
    "lm.fit(X, Y)\n",
    "print(lm.score(X,Y))\n",
    "plt.plot(data['displacement'], data['mpg'], 'ro')\n",
    "plt.plot(X, lm.predict(X), color='blue')\n"
   ]
  },
  {
   "cell_type": "markdown",
   "metadata": {},
   "source": [
    "#### Buscar el valor de Outlier"
   ]
  },
  {
   "cell_type": "code",
   "execution_count": 159,
   "metadata": {},
   "outputs": [
    {
     "data": {
      "text/html": [
       "<div>\n",
       "<style scoped>\n",
       "    .dataframe tbody tr th:only-of-type {\n",
       "        vertical-align: middle;\n",
       "    }\n",
       "\n",
       "    .dataframe tbody tr th {\n",
       "        vertical-align: top;\n",
       "    }\n",
       "\n",
       "    .dataframe thead th {\n",
       "        text-align: right;\n",
       "    }\n",
       "</style>\n",
       "<table border=\"1\" class=\"dataframe\">\n",
       "  <thead>\n",
       "    <tr style=\"text-align: right;\">\n",
       "      <th></th>\n",
       "      <th>mpg</th>\n",
       "      <th>cylinders</th>\n",
       "      <th>displacement</th>\n",
       "      <th>horsepower</th>\n",
       "      <th>weight</th>\n",
       "      <th>acceleration</th>\n",
       "      <th>model year</th>\n",
       "      <th>origin</th>\n",
       "      <th>car name</th>\n",
       "    </tr>\n",
       "  </thead>\n",
       "  <tbody>\n",
       "    <tr>\n",
       "      <th>258</th>\n",
       "      <td>20.2</td>\n",
       "      <td>8</td>\n",
       "      <td>302.0</td>\n",
       "      <td>139.0</td>\n",
       "      <td>3570</td>\n",
       "      <td>12.8</td>\n",
       "      <td>78</td>\n",
       "      <td>1</td>\n",
       "      <td>mercury monarch ghia</td>\n",
       "    </tr>\n",
       "    <tr>\n",
       "      <th>305</th>\n",
       "      <td>23.0</td>\n",
       "      <td>8</td>\n",
       "      <td>350.0</td>\n",
       "      <td>125.0</td>\n",
       "      <td>3900</td>\n",
       "      <td>17.4</td>\n",
       "      <td>79</td>\n",
       "      <td>1</td>\n",
       "      <td>cadillac eldorado</td>\n",
       "    </tr>\n",
       "    <tr>\n",
       "      <th>372</th>\n",
       "      <td>26.6</td>\n",
       "      <td>8</td>\n",
       "      <td>350.0</td>\n",
       "      <td>105.0</td>\n",
       "      <td>3725</td>\n",
       "      <td>19.0</td>\n",
       "      <td>81</td>\n",
       "      <td>1</td>\n",
       "      <td>oldsmobile cutlass ls</td>\n",
       "    </tr>\n",
       "  </tbody>\n",
       "</table>\n",
       "</div>"
      ],
      "text/plain": [
       "      mpg  cylinders  displacement  horsepower  weight  acceleration  \\\n",
       "258  20.2          8         302.0       139.0    3570          12.8   \n",
       "305  23.0          8         350.0       125.0    3900          17.4   \n",
       "372  26.6          8         350.0       105.0    3725          19.0   \n",
       "\n",
       "     model year  origin               car name  \n",
       "258          78       1   mercury monarch ghia  \n",
       "305          79       1      cadillac eldorado  \n",
       "372          81       1  oldsmobile cutlass ls  "
      ]
     },
     "execution_count": 159,
     "metadata": {},
     "output_type": "execute_result"
    }
   ],
   "source": [
    "data[(data['displacement']>300)& (data['mpg']>20)]"
   ]
  },
  {
   "cell_type": "code",
   "execution_count": 160,
   "metadata": {},
   "outputs": [
    {
     "data": {
      "text/html": [
       "<div>\n",
       "<style scoped>\n",
       "    .dataframe tbody tr th:only-of-type {\n",
       "        vertical-align: middle;\n",
       "    }\n",
       "\n",
       "    .dataframe tbody tr th {\n",
       "        vertical-align: top;\n",
       "    }\n",
       "\n",
       "    .dataframe thead th {\n",
       "        text-align: right;\n",
       "    }\n",
       "</style>\n",
       "<table border=\"1\" class=\"dataframe\">\n",
       "  <thead>\n",
       "    <tr style=\"text-align: right;\">\n",
       "      <th></th>\n",
       "      <th>mpg</th>\n",
       "      <th>cylinders</th>\n",
       "      <th>displacement</th>\n",
       "      <th>horsepower</th>\n",
       "      <th>weight</th>\n",
       "      <th>acceleration</th>\n",
       "      <th>model year</th>\n",
       "      <th>origin</th>\n",
       "      <th>car name</th>\n",
       "    </tr>\n",
       "  </thead>\n",
       "  <tbody>\n",
       "    <tr>\n",
       "      <th>395</th>\n",
       "      <td>38.0</td>\n",
       "      <td>6</td>\n",
       "      <td>262.0</td>\n",
       "      <td>85.0</td>\n",
       "      <td>3015</td>\n",
       "      <td>17.0</td>\n",
       "      <td>82</td>\n",
       "      <td>1</td>\n",
       "      <td>oldsmobile cutlass ciera (diesel)</td>\n",
       "    </tr>\n",
       "  </tbody>\n",
       "</table>\n",
       "</div>"
      ],
      "text/plain": [
       "      mpg  cylinders  displacement  horsepower  weight  acceleration  \\\n",
       "395  38.0          6         262.0        85.0    3015          17.0   \n",
       "\n",
       "     model year  origin                           car name  \n",
       "395          82       1  oldsmobile cutlass ciera (diesel)  "
      ]
     },
     "execution_count": 160,
     "metadata": {},
     "output_type": "execute_result"
    }
   ],
   "source": [
    "data[(data['displacement']>250)& (data['mpg']>35)]"
   ]
  },
  {
   "cell_type": "code",
   "execution_count": 164,
   "metadata": {},
   "outputs": [],
   "source": [
    "data_clean=data.drop(([395,258,305,372]))\n"
   ]
  },
  {
   "cell_type": "markdown",
   "metadata": {},
   "source": [
    "#### Borrar por un momento los outliers para modelar de nuevo"
   ]
  },
  {
   "cell_type": "code",
   "execution_count": 165,
   "metadata": {},
   "outputs": [
    {
     "name": "stdout",
     "output_type": "stream",
     "text": [
      "0.6466514317531822\n"
     ]
    },
    {
     "data": {
      "text/plain": [
       "[<matplotlib.lines.Line2D at 0x1ffd8cc2610>]"
      ]
     },
     "execution_count": 165,
     "metadata": {},
     "output_type": "execute_result"
    },
    {
     "data": {
      "image/png": "[encoded data removed]",
      "text/plain": [
       "<Figure size 432x288 with 1 Axes>"
      ]
     },
     "metadata": {
      "needs_background": "light"
     },
     "output_type": "display_data"
    }
   ],
   "source": [
    "X=data_clean['displacement'].fillna(data_clean['displacement'].mean())\n",
    "X=X[:, np.newaxis]\n",
    "Y=data_clean['mpg'].fillna(data_clean['mpg'].mean())\n",
    "lm= LinearRegression()\n",
    "lm.fit(X, Y)\n",
    "print(lm.score(X,Y))\n",
    "plt.plot(data_clean['displacement'], data_clean['mpg'], 'ro')\n",
    "plt.plot(X, lm.predict(X), color='blue')\n"
   ]
  }
 ],
 "metadata": {
  "kernelspec": {
   "display_name": "Python 3",
   "language": "python",
   "name": "python3"
  },
  "language_info": {
   "codemirror_mode": {
    "name": "ipython",
    "version": 3
   },
   "file_extension": ".py",
   "mimetype": "text/x-python",
   "name": "python",
   "nbconvert_exporter": "python",
   "pygments_lexer": "ipython3",
   "version": "3.8.3"
  }
 },
 "nbformat": 4,
 "nbformat_minor": 4
}
