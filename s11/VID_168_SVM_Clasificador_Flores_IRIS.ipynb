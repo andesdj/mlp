{
 "cells": [
  {
   "cell_type": "code",
   "execution_count": 3,
   "metadata": {},
   "outputs": [],
   "source": [
    "%config IPCompleter.greedy=True\n",
    "import numpy as np\n",
    "import pandas as pd\n",
    "from sklearn import svm, datasets\n",
    "import matplotlib.pyplot as plt\n",
    "from matplotlib import style\n",
    "%matplotlib inline\n"
   ]
  },
  {
   "cell_type": "markdown",
   "metadata": {},
   "source": [
    "## Clasificador flores IRIS"
   ]
  },
  {
   "cell_type": "code",
   "execution_count": null,
   "metadata": {},
   "outputs": [],
   "source": [
    "iris= datasets.load_iris()\n",
    "print(iris)"
   ]
  },
  {
   "cell_type": "code",
   "execution_count": null,
   "metadata": {},
   "outputs": [],
   "source": [
    "X=iris.data[:, :2]\n",
    "Y= iris.target\n",
    "\n"
   ]
  },
  {
   "cell_type": "code",
   "execution_count": null,
   "metadata": {},
   "outputs": [],
   "source": [
    "x_min, x_max= X[:,0].min()-1, X[:,0].max()+1\n",
    "y_min, y_max= X[:,1].min()-1, X[:,1].max()+1\n",
    "h=(x_max-x_min)/100\n",
    "\n",
    "xx,yy= np.meshgrid(np.arange(x_min,x_max, h ), np.arange(y_min, y_max, h))\n",
    "x_plot=np.c_[xx.ravel(), yy.ravel()]"
   ]
  },
  {
   "cell_type": "code",
   "execution_count": null,
   "metadata": {},
   "outputs": [],
   "source": [
    "C=1.0\n",
    "svc=svm.SVC(kernel=\"linear\" ,  C=C,  decision_function_shape=\"ovr\").fit(X,Y)\n",
    "Ypred=svc.predict(x_plot)\n",
    "Ypred=Ypred.reshape(xx.shape)\n"
   ]
  },
  {
   "cell_type": "code",
   "execution_count": null,
   "metadata": {},
   "outputs": [],
   "source": []
  },
  {
   "cell_type": "code",
   "execution_count": null,
   "metadata": {},
   "outputs": [],
   "source": [
    "C=1\n",
    "svc=svm.SVC(kernel=\"rbf\" ,  C=C,  decision_function_shape=\"ovr\").fit(X,Y)\n",
    "Ypred=svc.predict(x_plot)\n",
    "Ypred=Ypred.reshape(xx.shape)"
   ]
  },
  {
   "cell_type": "code",
   "execution_count": null,
   "metadata": {},
   "outputs": [],
   "source": [
    "plt.figure(figsize=(16,9))\n",
    "plt.contourf(xx,yy,Ypred, cmap=plt.cm.tab10, alpha=0.3)\n",
    "plt.scatter(X[:,0], X[:,1], c=Y, cmap=\"autumn\")\n",
    "plt.xlabel(\"Longitud de los petalos\")\n",
    "plt.ylabel(\"Ancho de los pétalos\")\n",
    "plt.xlim(xx.min(), xx.max())\n",
    "plt.title(\"SVC para las Flores de IRIS con Kernel RADIAL RBF\")"
   ]
  },
  {
   "cell_type": "code",
   "execution_count": null,
   "metadata": {},
   "outputs": [],
   "source": [
    "C=1\n",
    "svc=svm.SVC(kernel=\"sigmoid\" ,  C=C,  decision_function_shape=\"ovr\").fit(X,Y)\n",
    "Ypred=svc.predict(x_plot)\n",
    "Ypred=Ypred.reshape(xx.shape)\n",
    "plt.figure(figsize=(16,9))\n",
    "plt.contourf(xx,yy,Ypred, cmap=plt.cm.tab10, alpha=0.3)\n",
    "plt.scatter(X[:,0], X[:,1], c=Y, cmap=\"autumn\")\n",
    "plt.xlabel(\"Longitud de los petalos\")\n",
    "plt.ylabel(\"Ancho de los pétalos\")\n",
    "plt.xlim(xx.min(), xx.max())\n",
    "plt.title(\"SVC para las Flores de IRIS con Kernel RADIAL RBF\")"
   ]
  },
  {
   "cell_type": "code",
   "execution_count": null,
   "metadata": {},
   "outputs": [],
   "source": [
    "C=1\n",
    "svc=svm.SVC(kernel=\"poly\" ,  C=C,  decision_function_shape=\"ovr\").fit(X,Y)\n",
    "Ypred=svc.predict(x_plot)\n",
    "Ypred=Ypred.reshape(xx.shape)\n",
    "plt.figure(figsize=(16,9))\n",
    "plt.contourf(xx,yy,Ypred, cmap=plt.cm.tab10, alpha=0.3)\n",
    "plt.scatter(X[:,0], X[:,1], c=Y, cmap=\"autumn\")\n",
    "plt.xlabel(\"Longitud de los petalos\")\n",
    "plt.ylabel(\"Ancho de los pétalos\")\n",
    "plt.xlim(xx.min(), xx.max())\n",
    "plt.title(\"SVC para las Flores de IRIS con Kernel RADIAL RBF\")"
   ]
  },
  {
   "cell_type": "code",
   "execution_count": null,
   "metadata": {},
   "outputs": [],
   "source": [
    "from sklearn.model_selection  import train_test_split, GridSearchCV\n",
    "from sklearn.metrics import classification_report\n",
    "from sklearn.utils import shuffle"
   ]
  },
  {
   "cell_type": "code",
   "execution_count": null,
   "metadata": {},
   "outputs": [],
   "source": [
    "X,Y = shuffle (X,Y, random_state=0)\n",
    "x_train,x_test, y_train, y_test=train_test_split(X,Y, test_size=0.25, random_state=0)\n"
   ]
  },
  {
   "cell_type": "code",
   "execution_count": null,
   "metadata": {},
   "outputs": [],
   "source": [
    "parameters= [\n",
    "    {\n",
    "        'kernel': ['rbf'],\n",
    "        'gamma': [1e-4, 1e-3, 1e-2,0.1, 0.2,0.5],\n",
    "        'C':[1,10,100,1000]\n",
    "    },\n",
    "    {\n",
    "        'kernel': ['linear'],\n",
    "        'C':[1,10,100,1000]\n",
    "    }\n",
    "]\n",
    "\n",
    "clf=GridSearchCV(svm.SVC(decision_function_shape=\"ovr\"), param_grid=parameters, cv=5)\n",
    "clf.fit(X,Y)"
   ]
  },
  {
   "cell_type": "code",
   "execution_count": null,
   "metadata": {},
   "outputs": [],
   "source": [
    "clf.best_params_"
   ]
  },
  {
   "cell_type": "code",
   "execution_count": null,
   "metadata": {
    "scrolled": true
   },
   "outputs": [],
   "source": [
    "means=clf.cv_results_['mean_test_score']\n",
    "stds=clf.cv_results_['std_test_score']\n",
    "params=clf.cv_results_['params']\n",
    "\n",
    "for m, s, p in zip(means, stds, params):\n",
    "    print(\"%0.3f (+/-%0.3f) para %r\"%(m, 2*s, p))"
   ]
  },
  {
   "cell_type": "code",
   "execution_count": null,
   "metadata": {},
   "outputs": [],
   "source": [
    "Y_pred=clf.predict(x_test)\n",
    "print(classification_report(y_test,Y_pred, target_names=[\"Setosas\", \"Versicolor\", \"Virginica\"]))"
   ]
  },
  {
   "cell_type": "code",
   "execution_count": null,
   "metadata": {},
   "outputs": [],
   "source": [
    "C=10\n",
    "svc=svm.SVC(kernel=\"rbf\" ,  C=C, gamma=0.01, decision_function_shape=\"ovr\").fit(X,Y)\n",
    "Ypred=svc.predict(x_plot)\n",
    "Ypred=Ypred.reshape(xx.shape)\n",
    "\n",
    "plt.figure(figsize=(16,9))\n",
    "plt.contourf(xx,yy,Ypred, cmap=plt.cm.tab10, alpha=0.3)\n",
    "plt.scatter(X[:,0], X[:,1], c=Y, cmap=\"autumn\")\n",
    "plt.xlabel(\"Longitud de los petalos\")\n",
    "plt.ylabel(\"Ancho de los pétalos\")\n",
    "plt.xlim(xx.min(), xx.max())\n",
    "plt.title(\"SVC para las Flores de IRIS con Kernel RADIAL RBF\")"
   ]
  },
  {
   "cell_type": "code",
   "execution_count": 6,
   "metadata": {},
   "outputs": [],
   "source": [
    "def svm_iris(C=1.0, gamma=0.01 , kernel=\"rbf\"):\n",
    "    %config IPCompleter.greedy=True\n",
    "    import numpy as np\n",
    "    import pandas as pd\n",
    "    from sklearn import svm, datasets\n",
    "    import matplotlib.pyplot as plt\n",
    "    from matplotlib import style\n",
    "    %matplotlib inline\n",
    "    iris= datasets.load_iris()\n",
    "    X=iris.data[:, :2]\n",
    "    Y= iris.target\n",
    "    x_min, x_max= X[:,0].min()-1, X[:,0].max()+1\n",
    "    y_min, y_max= X[:,1].min()-1, X[:,1].max()+1\n",
    "    h=(x_max-x_min)/100\n",
    "\n",
    "    xx,yy= np.meshgrid(np.arange(x_min,x_max, h ), np.arange(y_min, y_max, h))\n",
    "    x_plot=np.c_[xx.ravel(), yy.ravel()]\n",
    "   \n",
    "    svc=svm.SVC(kernel=kernel ,  C=C,  gamma=gamma ,decision_function_shape=\"ovr\").fit(X,Y)\n",
    "    Ypred=svc.predict(x_plot)\n",
    "    Ypred=Ypred.reshape(xx.shape)\n",
    "    \n",
    "    plt.figure(figsize=(10,5))\n",
    "    plt.contourf(xx,yy,Ypred, cmap=plt.cm.tab10, alpha=0.3)\n",
    "    plt.scatter(X[:,0], X[:,1], c=Y, cmap=\"autumn\")\n",
    "    plt.xlabel(\"Longitud de los petalos\")\n",
    "    plt.ylabel(\"Ancho de los pétalos\")\n",
    "    plt.xlim(xx.min(), xx.max())\n",
    "    plt.title(\"SVC para las Flores de IRIS con Kernel: \"+ kernel)\n",
    "\n",
    "\n"
   ]
  },
  {
   "cell_type": "code",
   "execution_count": null,
   "metadata": {},
   "outputs": [],
   "source": []
  },
  {
   "cell_type": "code",
   "execution_count": 7,
   "metadata": {},
   "outputs": [
    {
     "data": {
      "application/vnd.jupyter.widget-view+json": {
       "model_id": "d2e6ff8d9afc4eebb0c38a14c47fbf88",
       "version_major": 2,
       "version_minor": 0
      },
      "text/plain": [
       "interactive(children=(Dropdown(description='C', index=2, options=(0.01, 0.1, 1.0, 10.0, 100.0, 1000, 1000000.0…"
      ]
     },
     "metadata": {},
     "output_type": "display_data"
    },
    {
     "data": {
      "text/plain": [
       "<function __main__.svm_iris(C=1.0, gamma=0.01, kernel='rbf')>"
      ]
     },
     "execution_count": 7,
     "metadata": {},
     "output_type": "execute_result"
    }
   ],
   "source": [
    "from ipywidgets import interact, fixed\n",
    "interact(svm_iris, C= [0.01, 0.1, 1.0, 10.0, 100.0, 1000, 1e6, 1e10 ], \n",
    "                  gamma= [0.00001, 0.0001, 0.001, 0.01, 0.2, 0.5, 0.99],\n",
    "                  kernel=[\"linear\",\"rbf\",\"poly\", \"sigmoid\"])\n",
    "                  "
   ]
  }
 ],
 "metadata": {
  "kernelspec": {
   "display_name": "Python 3",
   "language": "python",
   "name": "python3"
  },
  "language_info": {
   "codemirror_mode": {
    "name": "ipython",
    "version": 3
   },
   "file_extension": ".py",
   "mimetype": "text/x-python",
   "name": "python",
   "nbconvert_exporter": "python",
   "pygments_lexer": "ipython3",
   "version": "3.7.6"
  }
 },
 "nbformat": 4,
 "nbformat_minor": 4
}
