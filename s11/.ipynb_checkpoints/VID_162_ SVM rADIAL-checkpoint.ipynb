{
 "cells": [
  {
   "cell_type": "markdown",
   "metadata": {},
   "source": [
    "### Identificar fronteras lo lineales"
   ]
  },
  {
   "cell_type": "code",
   "execution_count": 4,
   "metadata": {},
   "outputs": [],
   "source": [
    "import numpy as np\n",
    "import matplotlib.pyplot as plt\n",
    "from matplotlib import style\n",
    "from scipy import stats\n",
    "#Graficos con Seaborn\n",
    "import seaborn as sns; sns.set()\n",
    "style.use('ggplot')\n",
    "from sklearn import svm\n",
    "from sklearn.datasets.samples_generator import make_circles\n"
   ]
  },
  {
   "cell_type": "code",
   "execution_count": 9,
   "metadata": {},
   "outputs": [],
   "source": [
    "X,Y= make_circles(100, factor= .1, noise=.1)\n"
   ]
  },
  {
   "cell_type": "code",
   "execution_count": 7,
   "metadata": {},
   "outputs": [],
   "source": [
    "def plot_svc(model, ax=None, plot_support=True):\n",
    "    \"\"\" Plot de la función de decisión para una clasificación en 2D con SVC\"\"\"\n",
    "    if ax is None:\n",
    "        ax = plt.gca()\n",
    "    xlim=ax.get_xlim()\n",
    "    ylim=ax.get_ylim()\n",
    "    ## Genramos la parrilla de puntos para evaluar el Modelo\n",
    "    \n",
    "    ### Muestra 30 puntos\n",
    "    xx= np.linspace(xlim[0], xlim[1],30)\n",
    "    yy= np.linspace(ylim[0], ylim[1],30)\n",
    "    Y,X=np.meshgrid(yy,xx)\n",
    "    \n",
    "    #TUpla T\n",
    "    #xy=np.vstack([X.ravel(), Y.ravel()]).T\n",
    "    xy=tuple(np.vstack([X.ravel(), Y.ravel()]))\n",
    "    P = model.decision_function(xy).reshape(X.shape)\n",
    "    \n",
    "        ## Representamos las fronteras y los margenes del SVC\n",
    "    ax.contour(X,Y,P, colors=\"k\", levels= [-1,0,1] , alpha=0.5, linestyles=[\"--\",\"-\", \"--\"])\n",
    "    #print(\"Vectores de soporte:\")\n",
    "    #print(model.support_vectors_)\n",
    "    if plot_support:\n",
    "        ax.scatter(model.support_vectors_[:,0], \n",
    "                   model.support_vectors_[:,1],\n",
    "                   s=100, linewidth=1, facecolors=\"black\")\n",
    "    ax.set_xlim(xlim)\n",
    "    ax.set_ylim(ylim)\n",
    "    \n",
    "        "
   ]
  },
  {
   "cell_type": "code",
   "execution_count": 14,
   "metadata": {},
   "outputs": [
    {
     "data": {
      "text/plain": [
       "<matplotlib.collections.PathCollection at 0x294b77f1e88>"
      ]
     },
     "execution_count": 14,
     "metadata": {},
     "output_type": "execute_result"
    },
    {
     "data": {
      "image/png": "[encoded data removed]",
      "text/plain": [
       "<Figure size 432x288 with 1 Axes>"
      ]
     },
     "metadata": {},
     "output_type": "display_data"
    }
   ],
   "source": [
    "plt.scatter(X[:,0],X[:,1], c=Y, cmap=\"winter\")"
   ]
  },
  {
   "cell_type": "code",
   "execution_count": 18,
   "metadata": {},
   "outputs": [
    {
     "data": {
      "text/plain": [
       "array([0.99925816, 0.29413844, 0.9731877 , 0.34915027, 0.96490502,\n",
       "       0.30004192, 0.99147115, 0.97142465, 0.97839484, 0.97516801,\n",
       "       0.99334777, 0.94405097, 0.32297738, 0.97670327, 0.32392442,\n",
       "       0.98631753, 0.36194244, 0.35152409, 0.98173658, 0.3210121 ,\n",
       "       0.96628677, 0.97713917, 0.30261612, 0.20384252, 0.34406147,\n",
       "       0.49928115, 0.31203035, 0.33814299, 0.40817252, 0.38765273,\n",
       "       0.9975374 , 0.40323102, 0.38573139, 0.48929371, 0.64750301,\n",
       "       0.48897502, 0.26491127, 0.97861211, 0.30397676, 0.99593534,\n",
       "       0.25374898, 0.24084682, 0.94881131, 0.37745282, 0.99606265,\n",
       "       0.99805359, 0.40110422, 0.99863023, 0.9832149 , 0.42236238,\n",
       "       0.96212089, 0.95594726, 0.98258264, 0.9656163 , 0.99767122,\n",
       "       0.3777779 , 0.32907176, 0.2922945 , 0.95675182, 0.9596484 ,\n",
       "       0.97425886, 0.45690954, 0.95306832, 0.97856646, 0.95125468,\n",
       "       0.87522929, 0.97610971, 0.41718373, 0.99732877, 0.25545689,\n",
       "       0.37266323, 0.98765881, 0.2981044 , 0.53356772, 0.41946903,\n",
       "       0.28976611, 0.36586374, 0.38492491, 0.96140591, 0.95965501,\n",
       "       0.3374892 , 0.33296764, 0.99797705, 0.98563141, 0.45866344,\n",
       "       0.97763517, 0.95698988, 0.37341607, 0.34990151, 0.99827769,\n",
       "       0.99866293, 0.97432325, 0.97775104, 0.92418346, 0.94435202,\n",
       "       0.99191677, 0.31409653, 0.51713365, 0.31436156, 0.24831526])"
      ]
     },
     "execution_count": 18,
     "metadata": {},
     "output_type": "execute_result"
    }
   ],
   "source": [
    "#Alturas de los puntos para verlos en 3D\n",
    "r=np.exp(-(X**2).sum(1))\n",
    "r"
   ]
  },
  {
   "cell_type": "code",
   "execution_count": 22,
   "metadata": {},
   "outputs": [],
   "source": [
    "from  mpl_toolkits import mplot3d\n",
    "def plot_3d(elev=30, azim=30, X=X,Y=Y, r=r):\n",
    "    ax=plt.subplot(projection=\"3d\")\n",
    "    ax.scatter3D(X[:,0], X[:,1],r, c=Y, s=50, cmap=\"winter\")\n",
    "    ax.view_init(elev=elev, azim=azim)\n",
    "    \n",
    "    ax.set_xlabel(\"x[0]\")\n",
    "    ax.set_ylabel(\"y[1]\")\n",
    "    ax.set_zlabel(\"r\")"
   ]
  },
  {
   "cell_type": "code",
   "execution_count": 24,
   "metadata": {},
   "outputs": [],
   "source": [
    "from ipywidgets import interact, fixed"
   ]
  },
  {
   "cell_type": "code",
   "execution_count": 32,
   "metadata": {},
   "outputs": [
    {
     "data": {
      "application/vnd.jupyter.widget-view+json": {
       "model_id": "aaa0d353134344dda87c2310bdb52ebd",
       "version_major": 2,
       "version_minor": 0
      },
      "text/plain": [
       "interactive(children=(IntSlider(value=30, description='elev', max=90, min=-90), Dropdown(description='azim', i…"
      ]
     },
     "metadata": {},
     "output_type": "display_data"
    },
    {
     "data": {
      "text/plain": [
       "<function __main__.plot_3d(elev=30, azim=30, X=array([[-0.0014837 ,  0.02720128],\n",
       "       [ 0.88029948,  0.66990862],\n",
       "       [-0.11530089, -0.11783043],\n",
       "       [ 0.86928449,  0.54460752],\n",
       "       [-0.03168081, -0.18633822],\n",
       "       [ 0.21738105,  1.07544343],\n",
       "       [ 0.05574906,  0.07387468],\n",
       "       [-0.13759368,  0.10029734],\n",
       "       [-0.06620361,  0.1321327 ],\n",
       "       [ 0.15091246,  0.04869227],\n",
       "       [ 0.06178283, -0.05345405],\n",
       "       [-0.2396423 ,  0.01211163],\n",
       "       [-0.86456197, -0.61863203],\n",
       "       [ 0.1394886 ,  0.06415077],\n",
       "       [-1.00082662, -0.35438839],\n",
       "       [-0.08654745,  0.07928729],\n",
       "       [-0.99569127, -0.15769908],\n",
       "       [ 0.30371739,  0.97633641],\n",
       "       [-0.11010338, -0.0794324 ],\n",
       "       [ 0.15300334,  1.05492484],\n",
       "       [-0.13914868, -0.12219765],\n",
       "       [ 0.09531764,  0.1184936 ],\n",
       "       [ 1.08895956,  0.09724847],\n",
       "       [ 0.219763  ,  1.24181794],\n",
       "       [ 1.03254132,  0.02816705],\n",
       "       [ 0.0376734 , -0.8325663 ],\n",
       "       [-0.07848095,  1.07633431],\n",
       "       [ 0.96667283, -0.38707891],\n",
       "       [-0.49813719, -0.80493769],\n",
       "       [-0.65895085,  0.71653969],\n",
       "       [ 0.02138811,  0.04481283],\n",
       "       [-0.43987331,  0.84543308],\n",
       "       [-0.1315178 , -0.96711794],\n",
       "       [-0.32657357,  0.77983463],\n",
       "       [-0.29638278,  0.588888  ],\n",
       "       [ 0.75813955,  0.37505774],\n",
       "       [ 0.99847028, -0.57568866],\n",
       "       [ 0.11972897, -0.08535161],\n",
       "       [-1.07978573,  0.15769214],\n",
       "       [-0.05491452, -0.03251681],\n",
       "       [ 0.82873459, -0.82741086],\n",
       "       [ 0.6908646 ,  0.97277964],\n",
       "       [-0.22893623,  0.01155564],\n",
       "       [ 0.53312816, -0.83071298],\n",
       "       [ 0.03915682, -0.04911075],\n",
       "       [-0.04092302,  0.0165412 ],\n",
       "       [ 0.25365289, -0.92151734],\n",
       "       [-0.00846658, -0.03604195],\n",
       "       [-0.07959833,  0.10291585],\n",
       "       [ 0.83477314, -0.40625781],\n",
       "       [ 0.17268435,  0.09378318],\n",
       "       [-0.06297795, -0.20269759],\n",
       "       [-0.11586594,  0.06438875],\n",
       "       [-0.14944449, -0.11249476],\n",
       "       [-0.0068286 ,  0.04780024],\n",
       "       [ 0.35747154, -0.91959933],\n",
       "       [ 0.20093881, -1.03494107],\n",
       "       [-1.07571473,  0.26987265],\n",
       "       [ 0.00412645,  0.21022423],\n",
       "       [ 0.18543574,  0.08247359],\n",
       "       [ 0.16143664, -0.00405616],\n",
       "       [ 0.39257823,  0.79319114],\n",
       "       [-0.05830059,  0.21135215],\n",
       "       [-0.02300653,  0.14538663],\n",
       "       [ 0.05197703,  0.21742088],\n",
       "       [ 0.32928494, -0.15760969],\n",
       "       [ 0.15449189,  0.01767905],\n",
       "       [-0.86964205,  0.34344034],\n",
       "       [ 0.00303234,  0.05162951],\n",
       "       [-0.92284505, -0.7162811 ],\n",
       "       [ 0.93860362,  0.32573516],\n",
       "       [ 0.03959515, -0.1041643 ],\n",
       "       [-0.82660977,  0.72596681],\n",
       "       [-0.74154988,  0.27977321],\n",
       "       [-0.57122542, -0.73652366],\n",
       "       [-0.10678353,  1.10782601],\n",
       "       [-0.17720202, -0.98696188],\n",
       "       [ 0.65269085,  0.72711874],\n",
       "       [-0.0274049 , -0.19648804],\n",
       "       [ 0.12715489,  0.15815517],\n",
       "       [ 0.4677108 , -0.93137983],\n",
       "       [ 1.04840949, -0.02339947],\n",
       "       [-0.03859935, -0.02313209],\n",
       "       [-0.11010515,  0.04847338],\n",
       "       [-0.41146777, -0.78111002],\n",
       "       [ 0.09131518,  0.11950002],\n",
       "       [-0.14625138, -0.15024312],\n",
       "       [-0.23775935, -0.96360391],\n",
       "       [-0.61456547, -0.82000784],\n",
       "       [ 0.03347479,  0.02456088],\n",
       "       [-0.00442605,  0.03630949],\n",
       "       [ 0.03229267, -0.15801688],\n",
       "       [-0.07267402,  0.13121999],\n",
       "       [ 0.27158947,  0.07130106],\n",
       "       [ 0.10840928, -0.21331598],\n",
       "       [ 0.03567216,  0.08272589],\n",
       "       [-1.01677601, -0.35245065],\n",
       "       [-0.72614121,  0.36355588],\n",
       "       [ 0.96247422, -0.4804736 ],\n",
       "       [-1.15062003,  0.26292526]]), Y=array([1, 0, 1, 0, 1, 0, 1, 1, 1, 1, 1, 1, 0, 1, 0, 1, 0, 0, 1, 0, 1, 1,\n",
       "       0, 0, 0, 0, 0, 0, 0, 0, 1, 0, 0, 0, 0, 0, 0, 1, 0, 1, 0, 0, 1, 0,\n",
       "       1, 1, 0, 1, 1, 0, 1, 1, 1, 1, 1, 0, 0, 0, 1, 1, 1, 0, 1, 1, 1, 1,\n",
       "       1, 0, 1, 0, 0, 1, 0, 0, 0, 0, 0, 0, 1, 1, 0, 0, 1, 1, 0, 1, 1, 0,\n",
       "       0, 1, 1, 1, 1, 1, 1, 1, 0, 0, 0, 0], dtype=int64), r=array([0.99925816, 0.29413844, 0.9731877 , 0.34915027, 0.96490502,\n",
       "       0.30004192, 0.99147115, 0.97142465, 0.97839484, 0.97516801,\n",
       "       0.99334777, 0.94405097, 0.32297738, 0.97670327, 0.32392442,\n",
       "       0.98631753, 0.36194244, 0.35152409, 0.98173658, 0.3210121 ,\n",
       "       0.96628677, 0.97713917, 0.30261612, 0.20384252, 0.34406147,\n",
       "       0.49928115, 0.31203035, 0.33814299, 0.40817252, 0.38765273,\n",
       "       0.9975374 , 0.40323102, 0.38573139, 0.48929371, 0.64750301,\n",
       "       0.48897502, 0.26491127, 0.97861211, 0.30397676, 0.99593534,\n",
       "       0.25374898, 0.24084682, 0.94881131, 0.37745282, 0.99606265,\n",
       "       0.99805359, 0.40110422, 0.99863023, 0.9832149 , 0.42236238,\n",
       "       0.96212089, 0.95594726, 0.98258264, 0.9656163 , 0.99767122,\n",
       "       0.3777779 , 0.32907176, 0.2922945 , 0.95675182, 0.9596484 ,\n",
       "       0.97425886, 0.45690954, 0.95306832, 0.97856646, 0.95125468,\n",
       "       0.87522929, 0.97610971, 0.41718373, 0.99732877, 0.25545689,\n",
       "       0.37266323, 0.98765881, 0.2981044 , 0.53356772, 0.41946903,\n",
       "       0.28976611, 0.36586374, 0.38492491, 0.96140591, 0.95965501,\n",
       "       0.3374892 , 0.33296764, 0.99797705, 0.98563141, 0.45866344,\n",
       "       0.97763517, 0.95698988, 0.37341607, 0.34990151, 0.99827769,\n",
       "       0.99866293, 0.97432325, 0.97775104, 0.92418346, 0.94435202,\n",
       "       0.99191677, 0.31409653, 0.51713365, 0.31436156, 0.24831526]))>"
      ]
     },
     "execution_count": 32,
     "metadata": {},
     "output_type": "execute_result"
    }
   ],
   "source": [
    "interact(plot_3d, elev=[-180,-150, -120, -90,-60,-30,0, 30,60,90,120,150,180], azim=[-180,-150, -120, -90,-60,-30,0, 30,60,90,120,150,180], X=fixed(X), Y=fixed(Y), r=fixed(r))"
   ]
  }
 ],
 "metadata": {
  "kernelspec": {
   "display_name": "Python 3",
   "language": "python",
   "name": "python3"
  },
  "language_info": {
   "codemirror_mode": {
    "name": "ipython",
    "version": 3
   },
   "file_extension": ".py",
   "mimetype": "text/x-python",
   "name": "python",
   "nbconvert_exporter": "python",
   "pygments_lexer": "ipython3",
   "version": "3.7.6"
  }
 },
 "nbformat": 4,
 "nbformat_minor": 4
}
