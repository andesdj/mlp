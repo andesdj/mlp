{
 "cells": [
  {
   "cell_type": "markdown",
   "metadata": {},
   "source": [
    "# Modelos de regresion linea\n",
    "* y= a+b*x\n",
    "* x: 100 valores distribuidos segun una N(1.5,2.5) N(media,Dev Estandar)\n",
    "* Ye= 2 + 0.3*X\n",
    "* Ye   12 +3.1X + e\n",
    "* e Estará distribuido con una N(0, 0.8) "
   ]
  },
  {
   "cell_type": "code",
   "execution_count": 117,
   "metadata": {},
   "outputs": [],
   "source": [
    "import pandas as pd\n",
    "import numpy as np\n",
    "import matplotlib.pyplot as plt\n",
    "%matplotlib inline"
   ]
  },
  {
   "cell_type": "code",
   "execution_count": 118,
   "metadata": {},
   "outputs": [
    {
     "data": {
      "text/html": [
       "<div>\n",
       "<style scoped>\n",
       "    .dataframe tbody tr th:only-of-type {\n",
       "        vertical-align: middle;\n",
       "    }\n",
       "\n",
       "    .dataframe tbody tr th {\n",
       "        vertical-align: top;\n",
       "    }\n",
       "\n",
       "    .dataframe thead th {\n",
       "        text-align: right;\n",
       "    }\n",
       "</style>\n",
       "<table border=\"1\" class=\"dataframe\">\n",
       "  <thead>\n",
       "    <tr style=\"text-align: right;\">\n",
       "      <th></th>\n",
       "      <th>x</th>\n",
       "      <th>y_actual</th>\n",
       "      <th>y_pred</th>\n",
       "    </tr>\n",
       "  </thead>\n",
       "  <tbody>\n",
       "    <tr>\n",
       "      <td>0</td>\n",
       "      <td>4.386251</td>\n",
       "      <td>14.531284</td>\n",
       "      <td>13.333877</td>\n",
       "    </tr>\n",
       "    <tr>\n",
       "      <td>1</td>\n",
       "      <td>4.452962</td>\n",
       "      <td>13.862431</td>\n",
       "      <td>13.460628</td>\n",
       "    </tr>\n",
       "    <tr>\n",
       "      <td>2</td>\n",
       "      <td>4.153505</td>\n",
       "      <td>12.977186</td>\n",
       "      <td>12.891660</td>\n",
       "    </tr>\n",
       "    <tr>\n",
       "      <td>3</td>\n",
       "      <td>-2.904010</td>\n",
       "      <td>0.388901</td>\n",
       "      <td>-0.517620</td>\n",
       "    </tr>\n",
       "    <tr>\n",
       "      <td>4</td>\n",
       "      <td>1.153041</td>\n",
       "      <td>7.913705</td>\n",
       "      <td>7.190778</td>\n",
       "    </tr>\n",
       "  </tbody>\n",
       "</table>\n",
       "</div>"
      ],
      "text/plain": [
       "          x   y_actual     y_pred\n",
       "0  4.386251  14.531284  13.333877\n",
       "1  4.452962  13.862431  13.460628\n",
       "2  4.153505  12.977186  12.891660\n",
       "3 -2.904010   0.388901  -0.517620\n",
       "4  1.153041   7.913705   7.190778"
      ]
     },
     "execution_count": 118,
     "metadata": {},
     "output_type": "execute_result"
    }
   ],
   "source": [
    "x=  1.5 + 2.5 *  np.random.randn(100)\n",
    "res = 0 + 0.8 * np.random.randn(100)\n",
    "y_pred= 5 + 1.9 *x\n",
    "y_act= 5+1.9 * x + res\n",
    "x_list= x.tolist()\n",
    "y_pred_list=y_pred.tolist()\n",
    "y_act_list=y_act.tolist()\n",
    "data=pd.DataFrame(\n",
    "    {\n",
    "        'x' : x_list,\n",
    "        'y_actual' : y_act_list,\n",
    "        'y_pred'  : y_pred_list\n",
    "    \n",
    "    }\n",
    ")\n",
    "data.head()"
   ]
  },
  {
   "cell_type": "code",
   "execution_count": 119,
   "metadata": {},
   "outputs": [],
   "source": [
    "\n",
    "y_mean=[np.mean(y_act) for i in range(1,len(x_list)+1)]\n"
   ]
  },
  {
   "cell_type": "code",
   "execution_count": 120,
   "metadata": {},
   "outputs": [
    {
     "data": {
      "text/plain": [
       "Text(0.5, 1.0, 'Valor actual vs Prediccion')"
      ]
     },
     "execution_count": 120,
     "metadata": {},
     "output_type": "execute_result"
    },
    {
     "data": {
      "image/png": "[encoded data removed]",
      "text/plain": [
       "<Figure size 432x288 with 1 Axes>"
      ]
     },
     "metadata": {
      "needs_background": "light"
     },
     "output_type": "display_data"
    }
   ],
   "source": [
    "plt.plot(x,y_pred)\n",
    "plt.plot(x,y_act, 'ro')\n",
    "plt.plot(x,y_mean, 'g')\n",
    "plt.title('Valor actual vs Prediccion')\n"
   ]
  },
  {
   "cell_type": "code",
   "execution_count": 121,
   "metadata": {},
   "outputs": [
    {
     "data": {
      "text/html": [
       "<div>\n",
       "<style scoped>\n",
       "    .dataframe tbody tr th:only-of-type {\n",
       "        vertical-align: middle;\n",
       "    }\n",
       "\n",
       "    .dataframe tbody tr th {\n",
       "        vertical-align: top;\n",
       "    }\n",
       "\n",
       "    .dataframe thead th {\n",
       "        text-align: right;\n",
       "    }\n",
       "</style>\n",
       "<table border=\"1\" class=\"dataframe\">\n",
       "  <thead>\n",
       "    <tr style=\"text-align: right;\">\n",
       "      <th></th>\n",
       "      <th>x</th>\n",
       "      <th>y_actual</th>\n",
       "      <th>y_pred</th>\n",
       "      <th>SSR</th>\n",
       "      <th>SSD</th>\n",
       "      <th>SST</th>\n",
       "    </tr>\n",
       "  </thead>\n",
       "  <tbody>\n",
       "    <tr>\n",
       "      <td>0</td>\n",
       "      <td>4.386251</td>\n",
       "      <td>14.531284</td>\n",
       "      <td>13.333877</td>\n",
       "      <td>36.553240</td>\n",
       "      <td>1.433784</td>\n",
       "      <td>52.465899</td>\n",
       "    </tr>\n",
       "    <tr>\n",
       "      <td>1</td>\n",
       "      <td>4.452962</td>\n",
       "      <td>13.862431</td>\n",
       "      <td>13.460628</td>\n",
       "      <td>38.101959</td>\n",
       "      <td>0.161446</td>\n",
       "      <td>43.223813</td>\n",
       "    </tr>\n",
       "    <tr>\n",
       "      <td>2</td>\n",
       "      <td>4.153505</td>\n",
       "      <td>12.977186</td>\n",
       "      <td>12.891660</td>\n",
       "      <td>31.401577</td>\n",
       "      <td>0.007315</td>\n",
       "      <td>32.367408</td>\n",
       "    </tr>\n",
       "    <tr>\n",
       "      <td>3</td>\n",
       "      <td>-2.904010</td>\n",
       "      <td>0.388901</td>\n",
       "      <td>-0.517620</td>\n",
       "      <td>60.926910</td>\n",
       "      <td>0.821779</td>\n",
       "      <td>47.596873</td>\n",
       "    </tr>\n",
       "    <tr>\n",
       "      <td>4</td>\n",
       "      <td>1.153041</td>\n",
       "      <td>7.913705</td>\n",
       "      <td>7.190778</td>\n",
       "      <td>0.009442</td>\n",
       "      <td>0.522623</td>\n",
       "      <td>0.391570</td>\n",
       "    </tr>\n",
       "  </tbody>\n",
       "</table>\n",
       "</div>"
      ],
      "text/plain": [
       "          x   y_actual     y_pred        SSR       SSD        SST\n",
       "0  4.386251  14.531284  13.333877  36.553240  1.433784  52.465899\n",
       "1  4.452962  13.862431  13.460628  38.101959  0.161446  43.223813\n",
       "2  4.153505  12.977186  12.891660  31.401577  0.007315  32.367408\n",
       "3 -2.904010   0.388901  -0.517620  60.926910  0.821779  47.596873\n",
       "4  1.153041   7.913705   7.190778   0.009442  0.522623   0.391570"
      ]
     },
     "execution_count": 121,
     "metadata": {},
     "output_type": "execute_result"
    }
   ],
   "source": [
    "data['SSR']=(data['y_pred']-np.mean(data['y_actual']))**2\n",
    "data['SSD']=(data['y_pred']-data['y_actual'])**2\n",
    "data['SST']=(data['y_actual']-np.mean(data['y_actual']))**2\n",
    "data.head()\n",
    "\n"
   ]
  },
  {
   "cell_type": "code",
   "execution_count": 122,
   "metadata": {},
   "outputs": [],
   "source": [
    "SSR=sum(data['SSR'])\n",
    "SSD=sum(data['SSD'])\n",
    "SST=sum(data['SST'])\n"
   ]
  },
  {
   "cell_type": "code",
   "execution_count": 123,
   "metadata": {},
   "outputs": [
    {
     "data": {
      "text/plain": [
       "2367.5528882184763"
      ]
     },
     "execution_count": 123,
     "metadata": {},
     "output_type": "execute_result"
    }
   ],
   "source": [
    "SST"
   ]
  },
  {
   "cell_type": "code",
   "execution_count": 124,
   "metadata": {},
   "outputs": [
    {
     "data": {
      "text/plain": [
       "66.70242267747057"
      ]
     },
     "execution_count": 124,
     "metadata": {},
     "output_type": "execute_result"
    }
   ],
   "source": [
    "SSD"
   ]
  },
  {
   "cell_type": "code",
   "execution_count": 125,
   "metadata": {},
   "outputs": [
    {
     "data": {
      "text/plain": [
       "2347.746336617828"
      ]
     },
     "execution_count": 125,
     "metadata": {},
     "output_type": "execute_result"
    }
   ],
   "source": [
    "SSR"
   ]
  },
  {
   "cell_type": "code",
   "execution_count": 126,
   "metadata": {},
   "outputs": [
    {
     "data": {
      "text/plain": [
       "2414.4487592952987"
      ]
     },
     "execution_count": 126,
     "metadata": {},
     "output_type": "execute_result"
    }
   ],
   "source": [
    "SSR+SSD"
   ]
  },
  {
   "cell_type": "code",
   "execution_count": 127,
   "metadata": {},
   "outputs": [],
   "source": [
    "R2=SSR/SST"
   ]
  },
  {
   "cell_type": "code",
   "execution_count": 103,
   "metadata": {},
   "outputs": [
    {
     "data": {
      "text/plain": [
       "0.9595993310282863"
      ]
     },
     "execution_count": 103,
     "metadata": {},
     "output_type": "execute_result"
    }
   ],
   "source": [
    "R2"
   ]
  },
  {
   "cell_type": "code",
   "execution_count": 105,
   "metadata": {},
   "outputs": [
    {
     "data": {
      "text/plain": [
       "(array([ 7.,  6., 10., 10., 13., 11., 17., 10., 12.,  4.]),\n",
       " array([-1.7493223 , -1.43063069, -1.11193909, -0.79324749, -0.47455588,\n",
       "        -0.15586428,  0.16282733,  0.48151893,  0.80021053,  1.11890214,\n",
       "         1.43759374]),\n",
       " <a list of 10 Patch objects>)"
      ]
     },
     "execution_count": 105,
     "metadata": {},
     "output_type": "execute_result"
    },
    {
     "data": {
      "image/png": "[encoded data removed]",
      "text/plain": [
       "<Figure size 432x288 with 1 Axes>"
      ]
     },
     "metadata": {
      "needs_background": "light"
     },
     "output_type": "display_data"
    }
   ],
   "source": [
    "plt.hist(data['y_pred']-data['y_actual'])"
   ]
  }
 ],
 "metadata": {
  "kernelspec": {
   "display_name": "Python 3",
   "language": "python",
   "name": "python3"
  },
  "language_info": {
   "codemirror_mode": {
    "name": "ipython",
    "version": 3
   },
   "file_extension": ".py",
   "mimetype": "text/x-python",
   "name": "python",
   "nbconvert_exporter": "python",
   "pygments_lexer": "ipython3",
   "version": "3.7.4"
  }
 },
 "nbformat": 4,
 "nbformat_minor": 2
}
