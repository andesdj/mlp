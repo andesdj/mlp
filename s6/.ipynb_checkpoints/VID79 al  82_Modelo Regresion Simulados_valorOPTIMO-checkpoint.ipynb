{
 "cells": [
  {
   "cell_type": "markdown",
   "metadata": {},
   "source": [
    "# Modelos de regresion linea\n",
    "* y= a+b*x\n",
    "* x: 100 valores distribuidos segun una N(1.5,2.5) N(media,Dev Estandar)\n",
    "* Ye= 2 + 0.3*X\n",
    "* Ye   12 +3.1X + e\n",
    "* e Estará distribuido con una N(0, 0.8) "
   ]
  },
  {
   "cell_type": "code",
   "execution_count": 143,
   "metadata": {},
   "outputs": [],
   "source": [
    "import pandas as pd\n",
    "import numpy as np\n",
    "import matplotlib.pyplot as plt\n",
    "%matplotlib inline"
   ]
  },
  {
   "cell_type": "code",
   "execution_count": 144,
   "metadata": {},
   "outputs": [
    {
     "data": {
      "text/html": [
       "<div>\n",
       "<style scoped>\n",
       "    .dataframe tbody tr th:only-of-type {\n",
       "        vertical-align: middle;\n",
       "    }\n",
       "\n",
       "    .dataframe tbody tr th {\n",
       "        vertical-align: top;\n",
       "    }\n",
       "\n",
       "    .dataframe thead th {\n",
       "        text-align: right;\n",
       "    }\n",
       "</style>\n",
       "<table border=\"1\" class=\"dataframe\">\n",
       "  <thead>\n",
       "    <tr style=\"text-align: right;\">\n",
       "      <th></th>\n",
       "      <th>x</th>\n",
       "      <th>y_actual</th>\n",
       "      <th>y_pred</th>\n",
       "    </tr>\n",
       "  </thead>\n",
       "  <tbody>\n",
       "    <tr>\n",
       "      <td>0</td>\n",
       "      <td>6.512794</td>\n",
       "      <td>17.095348</td>\n",
       "      <td>17.374309</td>\n",
       "    </tr>\n",
       "    <tr>\n",
       "      <td>1</td>\n",
       "      <td>2.303119</td>\n",
       "      <td>9.838728</td>\n",
       "      <td>9.375927</td>\n",
       "    </tr>\n",
       "    <tr>\n",
       "      <td>2</td>\n",
       "      <td>-3.258766</td>\n",
       "      <td>-0.645354</td>\n",
       "      <td>-1.191656</td>\n",
       "    </tr>\n",
       "    <tr>\n",
       "      <td>3</td>\n",
       "      <td>3.491012</td>\n",
       "      <td>11.664337</td>\n",
       "      <td>11.632923</td>\n",
       "    </tr>\n",
       "    <tr>\n",
       "      <td>4</td>\n",
       "      <td>3.085451</td>\n",
       "      <td>11.217742</td>\n",
       "      <td>10.862357</td>\n",
       "    </tr>\n",
       "  </tbody>\n",
       "</table>\n",
       "</div>"
      ],
      "text/plain": [
       "          x   y_actual     y_pred\n",
       "0  6.512794  17.095348  17.374309\n",
       "1  2.303119   9.838728   9.375927\n",
       "2 -3.258766  -0.645354  -1.191656\n",
       "3  3.491012  11.664337  11.632923\n",
       "4  3.085451  11.217742  10.862357"
      ]
     },
     "execution_count": 144,
     "metadata": {},
     "output_type": "execute_result"
    }
   ],
   "source": [
    "x=  1.5 + 2.5 *  np.random.randn(100)\n",
    "res = 0 + 0.8 * np.random.randn(100)\n",
    "y_pred= 5 + 1.9 *x\n",
    "y_act= 5+1.9 * x + res\n",
    "x_list= x.tolist()\n",
    "y_pred_list=y_pred.tolist()\n",
    "y_act_list=y_act.tolist()\n",
    "data=pd.DataFrame(\n",
    "    {\n",
    "        'x' : x_list,\n",
    "        'y_actual' : y_act_list,\n",
    "        'y_pred'  : y_pred_list\n",
    "    \n",
    "    }\n",
    ")\n",
    "data.head()"
   ]
  },
  {
   "cell_type": "code",
   "execution_count": 145,
   "metadata": {},
   "outputs": [],
   "source": [
    "\n",
    "y_mean=[np.mean(y_act) for i in range(1,len(x_list)+1)]\n"
   ]
  },
  {
   "cell_type": "code",
   "execution_count": 146,
   "metadata": {},
   "outputs": [
    {
     "data": {
      "text/plain": [
       "Text(0.5, 1.0, 'Valor actual vs Prediccion')"
      ]
     },
     "execution_count": 146,
     "metadata": {},
     "output_type": "execute_result"
    },
    {
     "data": {
      "image/png": "[encoded data removed]",
      "text/plain": [
       "<Figure size 432x288 with 1 Axes>"
      ]
     },
     "metadata": {
      "needs_background": "light"
     },
     "output_type": "display_data"
    }
   ],
   "source": [
    "plt.plot(x,y_pred)\n",
    "plt.plot(x,y_act, 'ro')\n",
    "plt.plot(x,y_mean, 'g')\n",
    "plt.title('Valor actual vs Prediccion')\n"
   ]
  },
  {
   "cell_type": "code",
   "execution_count": 147,
   "metadata": {},
   "outputs": [
    {
     "data": {
      "text/html": [
       "<div>\n",
       "<style scoped>\n",
       "    .dataframe tbody tr th:only-of-type {\n",
       "        vertical-align: middle;\n",
       "    }\n",
       "\n",
       "    .dataframe tbody tr th {\n",
       "        vertical-align: top;\n",
       "    }\n",
       "\n",
       "    .dataframe thead th {\n",
       "        text-align: right;\n",
       "    }\n",
       "</style>\n",
       "<table border=\"1\" class=\"dataframe\">\n",
       "  <thead>\n",
       "    <tr style=\"text-align: right;\">\n",
       "      <th></th>\n",
       "      <th>x</th>\n",
       "      <th>y_actual</th>\n",
       "      <th>y_pred</th>\n",
       "      <th>SSR</th>\n",
       "      <th>SSD</th>\n",
       "      <th>SST</th>\n",
       "    </tr>\n",
       "  </thead>\n",
       "  <tbody>\n",
       "    <tr>\n",
       "      <td>0</td>\n",
       "      <td>6.512794</td>\n",
       "      <td>17.095348</td>\n",
       "      <td>17.374309</td>\n",
       "      <td>100.575989</td>\n",
       "      <td>0.077819</td>\n",
       "      <td>95.058539</td>\n",
       "    </tr>\n",
       "    <tr>\n",
       "      <td>1</td>\n",
       "      <td>2.303119</td>\n",
       "      <td>9.838728</td>\n",
       "      <td>9.375927</td>\n",
       "      <td>4.122427</td>\n",
       "      <td>0.214185</td>\n",
       "      <td>6.215933</td>\n",
       "    </tr>\n",
       "    <tr>\n",
       "      <td>2</td>\n",
       "      <td>-3.258766</td>\n",
       "      <td>-0.645354</td>\n",
       "      <td>-1.191656</td>\n",
       "      <td>72.883897</td>\n",
       "      <td>0.298445</td>\n",
       "      <td>63.854563</td>\n",
       "    </tr>\n",
       "    <tr>\n",
       "      <td>3</td>\n",
       "      <td>3.491012</td>\n",
       "      <td>11.664337</td>\n",
       "      <td>11.632923</td>\n",
       "      <td>18.381562</td>\n",
       "      <td>0.000987</td>\n",
       "      <td>18.651916</td>\n",
       "    </tr>\n",
       "    <tr>\n",
       "      <td>4</td>\n",
       "      <td>3.085451</td>\n",
       "      <td>11.217742</td>\n",
       "      <td>10.862357</td>\n",
       "      <td>12.367929</td>\n",
       "      <td>0.126298</td>\n",
       "      <td>14.993868</td>\n",
       "    </tr>\n",
       "  </tbody>\n",
       "</table>\n",
       "</div>"
      ],
      "text/plain": [
       "          x   y_actual     y_pred         SSR       SSD        SST\n",
       "0  6.512794  17.095348  17.374309  100.575989  0.077819  95.058539\n",
       "1  2.303119   9.838728   9.375927    4.122427  0.214185   6.215933\n",
       "2 -3.258766  -0.645354  -1.191656   72.883897  0.298445  63.854563\n",
       "3  3.491012  11.664337  11.632923   18.381562  0.000987  18.651916\n",
       "4  3.085451  11.217742  10.862357   12.367929  0.126298  14.993868"
      ]
     },
     "execution_count": 147,
     "metadata": {},
     "output_type": "execute_result"
    }
   ],
   "source": [
    "y_m=np.mean(data['y_actual'])\n",
    "data['SSR']=(data['y_pred']-y_m)**2\n",
    "data['SSD']=(data['y_pred']-data['y_actual'])**2\n",
    "data['SST']=(data['y_actual']-y_m)**2\n",
    "data.head()\n",
    "\n"
   ]
  },
  {
   "cell_type": "code",
   "execution_count": 148,
   "metadata": {},
   "outputs": [],
   "source": [
    "SSR=sum(data['SSR'])\n",
    "SSD=sum(data['SSD'])\n",
    "SST=sum(data['SST'])\n"
   ]
  },
  {
   "cell_type": "code",
   "execution_count": 149,
   "metadata": {},
   "outputs": [
    {
     "data": {
      "text/plain": [
       "2093.2139532111073"
      ]
     },
     "execution_count": 149,
     "metadata": {},
     "output_type": "execute_result"
    }
   ],
   "source": [
    "SST"
   ]
  },
  {
   "cell_type": "code",
   "execution_count": 150,
   "metadata": {},
   "outputs": [
    {
     "data": {
      "text/plain": [
       "53.57826622494264"
      ]
     },
     "execution_count": 150,
     "metadata": {},
     "output_type": "execute_result"
    }
   ],
   "source": [
    "SSD"
   ]
  },
  {
   "cell_type": "code",
   "execution_count": 151,
   "metadata": {},
   "outputs": [
    {
     "data": {
      "text/plain": [
       "2076.2015447574277"
      ]
     },
     "execution_count": 151,
     "metadata": {},
     "output_type": "execute_result"
    }
   ],
   "source": [
    "SSR"
   ]
  },
  {
   "cell_type": "code",
   "execution_count": 152,
   "metadata": {},
   "outputs": [
    {
     "data": {
      "text/plain": [
       "2129.7798109823702"
      ]
     },
     "execution_count": 152,
     "metadata": {},
     "output_type": "execute_result"
    }
   ],
   "source": [
    "SSR+SSD"
   ]
  },
  {
   "cell_type": "code",
   "execution_count": 153,
   "metadata": {},
   "outputs": [],
   "source": [
    "R2=SSR/SST"
   ]
  },
  {
   "cell_type": "code",
   "execution_count": 154,
   "metadata": {},
   "outputs": [
    {
     "data": {
      "text/plain": [
       "0.9918725897906511"
      ]
     },
     "execution_count": 154,
     "metadata": {},
     "output_type": "execute_result"
    }
   ],
   "source": [
    "R2"
   ]
  },
  {
   "cell_type": "code",
   "execution_count": 155,
   "metadata": {},
   "outputs": [
    {
     "data": {
      "text/plain": [
       "(array([ 1.,  3.,  7.,  7., 26., 26., 18.,  8.,  3.,  1.]),\n",
       " array([-2.29327168, -1.86200536, -1.43073904, -0.99947272, -0.56820641,\n",
       "        -0.13694009,  0.29432623,  0.72559255,  1.15685887,  1.58812518,\n",
       "         2.0193915 ]),\n",
       " <a list of 10 Patch objects>)"
      ]
     },
     "execution_count": 155,
     "metadata": {},
     "output_type": "execute_result"
    },
    {
     "data": {
      "image/png": "[encoded data removed]",
      "text/plain": [
       "<Figure size 432x288 with 1 Axes>"
      ]
     },
     "metadata": {
      "needs_background": "light"
     },
     "output_type": "display_data"
    }
   ],
   "source": [
    "plt.hist(data['y_pred']-data['y_actual'])"
   ]
  },
  {
   "cell_type": "code",
   "execution_count": 156,
   "metadata": {},
   "outputs": [],
   "source": [
    "x_mean=np.mean(data['x'])\n",
    "y_mean2=np.mean(data['y_actual'])"
   ]
  },
  {
   "cell_type": "code",
   "execution_count": null,
   "metadata": {},
   "outputs": [],
   "source": []
  },
  {
   "cell_type": "code",
   "execution_count": 157,
   "metadata": {},
   "outputs": [],
   "source": [
    "# Data covarianza\n",
    "data['beta_n'] = (data['x']-x_mean)*(data['y_actual']-y_mean2)\n",
    "# Data Varianza\n",
    "data['beta_d'] = (data['x']-x_mean)**2\n"
   ]
  },
  {
   "cell_type": "code",
   "execution_count": 158,
   "metadata": {},
   "outputs": [],
   "source": [
    "beta=sum(data['beta_n'])/sum(data['beta_d'])\n",
    "alpha=y_mean2-beta*x_mean\n"
   ]
  },
  {
   "cell_type": "markdown",
   "metadata": {},
   "source": [
    "## El Modelo lineal obtenido por regresion lineal es:\n",
    "* Y= a+b*X"
   ]
  },
  {
   "cell_type": "code",
   "execution_count": 159,
   "metadata": {},
   "outputs": [
    {
     "data": {
      "text/plain": [
       "(5.083003183286001, 1.883632717135352)"
      ]
     },
     "execution_count": 159,
     "metadata": {},
     "output_type": "execute_result"
    }
   ],
   "source": [
    "alpha,beta"
   ]
  },
  {
   "cell_type": "code",
   "execution_count": 160,
   "metadata": {},
   "outputs": [
    {
     "data": {
      "text/html": [
       "<div>\n",
       "<style scoped>\n",
       "    .dataframe tbody tr th:only-of-type {\n",
       "        vertical-align: middle;\n",
       "    }\n",
       "\n",
       "    .dataframe tbody tr th {\n",
       "        vertical-align: top;\n",
       "    }\n",
       "\n",
       "    .dataframe thead th {\n",
       "        text-align: right;\n",
       "    }\n",
       "</style>\n",
       "<table border=\"1\" class=\"dataframe\">\n",
       "  <thead>\n",
       "    <tr style=\"text-align: right;\">\n",
       "      <th></th>\n",
       "      <th>x</th>\n",
       "      <th>y_actual</th>\n",
       "      <th>y_pred</th>\n",
       "      <th>SSR</th>\n",
       "      <th>SSD</th>\n",
       "      <th>SST</th>\n",
       "      <th>beta_n</th>\n",
       "      <th>beta_d</th>\n",
       "      <th>y_model</th>\n",
       "    </tr>\n",
       "  </thead>\n",
       "  <tbody>\n",
       "    <tr>\n",
       "      <td>0</td>\n",
       "      <td>6.512794</td>\n",
       "      <td>17.095348</td>\n",
       "      <td>17.374309</td>\n",
       "      <td>100.575989</td>\n",
       "      <td>0.077819</td>\n",
       "      <td>95.058539</td>\n",
       "      <td>51.787337</td>\n",
       "      <td>28.213439</td>\n",
       "      <td>17.350715</td>\n",
       "    </tr>\n",
       "    <tr>\n",
       "      <td>1</td>\n",
       "      <td>2.303119</td>\n",
       "      <td>9.838728</td>\n",
       "      <td>9.375927</td>\n",
       "      <td>4.122427</td>\n",
       "      <td>0.214185</td>\n",
       "      <td>6.215933</td>\n",
       "      <td>2.747376</td>\n",
       "      <td>1.214310</td>\n",
       "      <td>9.421234</td>\n",
       "    </tr>\n",
       "    <tr>\n",
       "      <td>2</td>\n",
       "      <td>-3.258766</td>\n",
       "      <td>-0.645354</td>\n",
       "      <td>-1.191656</td>\n",
       "      <td>72.883897</td>\n",
       "      <td>0.298445</td>\n",
       "      <td>63.854563</td>\n",
       "      <td>35.638861</td>\n",
       "      <td>19.890958</td>\n",
       "      <td>-1.055316</td>\n",
       "    </tr>\n",
       "    <tr>\n",
       "      <td>3</td>\n",
       "      <td>3.491012</td>\n",
       "      <td>11.664337</td>\n",
       "      <td>11.632923</td>\n",
       "      <td>18.381562</td>\n",
       "      <td>0.000987</td>\n",
       "      <td>18.651916</td>\n",
       "      <td>9.889375</td>\n",
       "      <td>5.243415</td>\n",
       "      <td>11.658788</td>\n",
       "    </tr>\n",
       "    <tr>\n",
       "      <td>4</td>\n",
       "      <td>3.085451</td>\n",
       "      <td>11.217742</td>\n",
       "      <td>10.862357</td>\n",
       "      <td>12.367929</td>\n",
       "      <td>0.126298</td>\n",
       "      <td>14.993868</td>\n",
       "      <td>7.296330</td>\n",
       "      <td>3.550547</td>\n",
       "      <td>10.894860</td>\n",
       "    </tr>\n",
       "  </tbody>\n",
       "</table>\n",
       "</div>"
      ],
      "text/plain": [
       "          x   y_actual     y_pred         SSR       SSD        SST     beta_n  \\\n",
       "0  6.512794  17.095348  17.374309  100.575989  0.077819  95.058539  51.787337   \n",
       "1  2.303119   9.838728   9.375927    4.122427  0.214185   6.215933   2.747376   \n",
       "2 -3.258766  -0.645354  -1.191656   72.883897  0.298445  63.854563  35.638861   \n",
       "3  3.491012  11.664337  11.632923   18.381562  0.000987  18.651916   9.889375   \n",
       "4  3.085451  11.217742  10.862357   12.367929  0.126298  14.993868   7.296330   \n",
       "\n",
       "      beta_d    y_model  \n",
       "0  28.213439  17.350715  \n",
       "1   1.214310   9.421234  \n",
       "2  19.890958  -1.055316  \n",
       "3   5.243415  11.658788  \n",
       "4   3.550547  10.894860  "
      ]
     },
     "execution_count": 160,
     "metadata": {},
     "output_type": "execute_result"
    }
   ],
   "source": [
    "data['y_model']=alpha +beta*data['x']\n",
    "data.head()"
   ]
  },
  {
   "cell_type": "code",
   "execution_count": 161,
   "metadata": {},
   "outputs": [],
   "source": [
    "y_mean=[np.mean(y_act) for i in range(1,len(x_list)+1)]\n",
    "\n",
    "SSR=sum((data['y_model']-np.mean(data['y_actual']))**2)\n",
    "SSD=sum((data['y_model']-data['y_actual'])**2)\n",
    "SST=sum((data['y_actual']-y_mean)**2)"
   ]
  },
  {
   "cell_type": "code",
   "execution_count": 162,
   "metadata": {},
   "outputs": [
    {
     "data": {
      "text/plain": [
       "(2040.1909652936924, 53.02298791741819, 2093.2139532111078)"
      ]
     },
     "execution_count": 162,
     "metadata": {},
     "output_type": "execute_result"
    }
   ],
   "source": [
    "SSR, SSD, SST"
   ]
  },
  {
   "cell_type": "code",
   "execution_count": 163,
   "metadata": {},
   "outputs": [
    {
     "data": {
      "text/plain": [
       "0.9746691025845327"
      ]
     },
     "execution_count": 163,
     "metadata": {},
     "output_type": "execute_result"
    }
   ],
   "source": [
    "R2= SSR/SST\n",
    "R2\n"
   ]
  },
  {
   "cell_type": "code",
   "execution_count": 164,
   "metadata": {},
   "outputs": [
    {
     "data": {
      "text/plain": [
       "Text(0.5, 1.0, 'Valor actual vs Prediccion')"
      ]
     },
     "execution_count": 164,
     "metadata": {},
     "output_type": "execute_result"
    },
    {
     "data": {
      "image/png": "[encoded data removed]",
      "text/plain": [
       "<Figure size 432x288 with 1 Axes>"
      ]
     },
     "metadata": {
      "needs_background": "light"
     },
     "output_type": "display_data"
    }
   ],
   "source": [
    "plt.plot(data['x'],data['y_pred'])\n",
    "plt.plot(data['x'],data['y_actual'], 'ro')\n",
    "plt.plot(data['x'],y_mean, 'g')\n",
    "plt.plot(data['x'],data['y_model'], 'm')\n",
    "plt.title('Valor actual vs Prediccion')"
   ]
  },
  {
   "cell_type": "code",
   "execution_count": 165,
   "metadata": {},
   "outputs": [
    {
     "data": {
      "text/plain": [
       "0.7355616202035776"
      ]
     },
     "execution_count": 165,
     "metadata": {},
     "output_type": "execute_result"
    }
   ],
   "source": [
    "# Calcular el Error estandar de los residuos\n",
    "RSE=np.sqrt(SSD/(len(data)-2))\n",
    "RSE"
   ]
  },
  {
   "cell_type": "code",
   "execution_count": 166,
   "metadata": {},
   "outputs": [
    {
     "data": {
      "text/plain": [
       "0.1001370281169531"
      ]
     },
     "execution_count": 166,
     "metadata": {},
     "output_type": "execute_result"
    }
   ],
   "source": [
    "# Porcentaje del RSE\n",
    "RSE/np.mean(data['y_actual'])"
   ]
  }
 ],
 "metadata": {
  "kernelspec": {
   "display_name": "Python 3",
   "language": "python",
   "name": "python3"
  },
  "language_info": {
   "codemirror_mode": {
    "name": "ipython",
    "version": 3
   },
   "file_extension": ".py",
   "mimetype": "text/x-python",
   "name": "python",
   "nbconvert_exporter": "python",
   "pygments_lexer": "ipython3",
   "version": "3.7.4"
  }
 },
 "nbformat": 4,
 "nbformat_minor": 2
}
