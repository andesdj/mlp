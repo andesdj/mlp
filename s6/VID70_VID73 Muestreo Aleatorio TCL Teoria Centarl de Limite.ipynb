{
 "cells": [
  {
   "cell_type": "markdown",
   "metadata": {},
   "source": [
    "## Muestra aleatoria: Subconjunto  de una poblacion total\n",
    "\n",
    "* n: Tamaño de la muestra\n",
    "* valores: {x1, x2, x3.... xn }\n",
    "\n",
    "#### Calcular\n",
    "* Media\n",
    "* Desv Tipica\n",
    "* Proporcion muestral"
   ]
  },
  {
   "cell_type": "markdown",
   "metadata": {},
   "source": [
    "## Teorema central del limite\n",
    "* Segun este teorema: La distribución de las medias de la poblacion  tiende a una distribucion normal. debido a esto se le aplican las formulas de DN3\n",
    "\n",
    "* Sigma: Muchas veces no se conoce la desviacion tipica de la muestra o poblacion\n",
    "\n",
    "* T student converge y aproxima ya que no se conoce \n",
    "\n"
   ]
  },
  {
   "cell_type": "markdown",
   "metadata": {},
   "source": [
    "# Repasar contrastes de Hipotesis\n",
    "\n",
    "*  H0: Hipotesis nula : Premisa Inicial, Querer defender que es cierto hasta que se defienda lo contrario\n",
    "*  H1: Hipotesis alternativa. No estamos seguros, buscamos contradecir , no la quedamos si no hay remedio.\n",
    "\n",
    "* H0 mu= Mu0. \n",
    "\n",
    "\n",
    "* Bilateral\n",
    "* Unilateral\n",
    "\n",
    "#### EJ Edad promedio : inferior 38 años. Esta es la Hipotesis nula\n",
    "#### Si se obtiene una evidencia con  edad promedio 42 años. H1 seria verdadera y H0\n",
    "\n",
    "\n",
    "\n"
   ]
  },
  {
   "cell_type": "markdown",
   "metadata": {},
   "source": [
    "# Repasar Chi cuadrado"
   ]
  },
  {
   "cell_type": "code",
   "execution_count": null,
   "metadata": {},
   "outputs": [],
   "source": []
  }
 ],
 "metadata": {
  "kernelspec": {
   "display_name": "Python 3",
   "language": "python",
   "name": "python3"
  },
  "language_info": {
   "codemirror_mode": {
    "name": "ipython",
    "version": 3
   },
   "file_extension": ".py",
   "mimetype": "text/x-python",
   "name": "python",
   "nbconvert_exporter": "python",
   "pygments_lexer": "ipython3",
   "version": "3.8.3"
  }
 },
 "nbformat": 4,
 "nbformat_minor": 2
}
