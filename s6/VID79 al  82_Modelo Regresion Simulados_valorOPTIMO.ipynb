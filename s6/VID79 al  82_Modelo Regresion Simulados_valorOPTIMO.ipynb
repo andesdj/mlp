{
 "cells": [
  {
   "cell_type": "markdown",
   "metadata": {},
   "source": [
    "# Modelos de regresion linea\n",
    "* y= a+b*x\n",
    "* x: 100 valores distribuidos segun una N(1.5,2.5) N(media,Dev Estandar)\n",
    "* Ye= 2 + 0.3*X\n",
    "* Ye   12 +3.1X + e\n",
    "* e Estará distribuido con una N(0, 0.8) "
   ]
  },
  {
   "cell_type": "code",
   "execution_count": 1,
   "metadata": {},
   "outputs": [],
   "source": [
    "import pandas as pd\n",
    "import numpy as np\n",
    "import matplotlib.pyplot as plt\n",
    "%matplotlib inline"
   ]
  },
  {
   "cell_type": "code",
   "execution_count": 2,
   "metadata": {},
   "outputs": [
    {
     "data": {
      "text/html": [
       "<div>\n",
       "<style scoped>\n",
       "    .dataframe tbody tr th:only-of-type {\n",
       "        vertical-align: middle;\n",
       "    }\n",
       "\n",
       "    .dataframe tbody tr th {\n",
       "        vertical-align: top;\n",
       "    }\n",
       "\n",
       "    .dataframe thead th {\n",
       "        text-align: right;\n",
       "    }\n",
       "</style>\n",
       "<table border=\"1\" class=\"dataframe\">\n",
       "  <thead>\n",
       "    <tr style=\"text-align: right;\">\n",
       "      <th></th>\n",
       "      <th>x</th>\n",
       "      <th>y_actual</th>\n",
       "      <th>y_pred</th>\n",
       "    </tr>\n",
       "  </thead>\n",
       "  <tbody>\n",
       "    <tr>\n",
       "      <th>0</th>\n",
       "      <td>0.373304</td>\n",
       "      <td>5.137586</td>\n",
       "      <td>5.709278</td>\n",
       "    </tr>\n",
       "    <tr>\n",
       "      <th>1</th>\n",
       "      <td>1.678422</td>\n",
       "      <td>6.002314</td>\n",
       "      <td>8.189001</td>\n",
       "    </tr>\n",
       "    <tr>\n",
       "      <th>2</th>\n",
       "      <td>-0.856830</td>\n",
       "      <td>3.895120</td>\n",
       "      <td>3.372024</td>\n",
       "    </tr>\n",
       "    <tr>\n",
       "      <th>3</th>\n",
       "      <td>6.549156</td>\n",
       "      <td>18.029679</td>\n",
       "      <td>17.443396</td>\n",
       "    </tr>\n",
       "    <tr>\n",
       "      <th>4</th>\n",
       "      <td>2.291470</td>\n",
       "      <td>8.513924</td>\n",
       "      <td>9.353793</td>\n",
       "    </tr>\n",
       "  </tbody>\n",
       "</table>\n",
       "</div>"
      ],
      "text/plain": [
       "          x   y_actual     y_pred\n",
       "0  0.373304   5.137586   5.709278\n",
       "1  1.678422   6.002314   8.189001\n",
       "2 -0.856830   3.895120   3.372024\n",
       "3  6.549156  18.029679  17.443396\n",
       "4  2.291470   8.513924   9.353793"
      ]
     },
     "execution_count": 2,
     "metadata": {},
     "output_type": "execute_result"
    }
   ],
   "source": [
    "x=  1.5 + 2.5 *  np.random.randn(100)\n",
    "res = 0 + 0.8 * np.random.randn(100)\n",
    "y_pred= 5 + 1.9 *x\n",
    "y_act= 5+1.9 * x + res\n",
    "x_list= x.tolist()\n",
    "y_pred_list=y_pred.tolist()\n",
    "y_act_list=y_act.tolist()\n",
    "data=pd.DataFrame(\n",
    "    {\n",
    "        'x' : x_list,\n",
    "        'y_actual' : y_act_list,\n",
    "        'y_pred'  : y_pred_list\n",
    "    \n",
    "    }\n",
    ")\n",
    "data.head()"
   ]
  },
  {
   "cell_type": "code",
   "execution_count": 3,
   "metadata": {},
   "outputs": [],
   "source": [
    "\n",
    "y_mean=[np.mean(y_act) for i in range(1,len(x_list)+1)]\n"
   ]
  },
  {
   "cell_type": "code",
   "execution_count": 4,
   "metadata": {},
   "outputs": [
    {
     "data": {
      "text/plain": [
       "Text(0.5, 1.0, 'Valor actual vs Prediccion')"
      ]
     },
     "execution_count": 4,
     "metadata": {},
     "output_type": "execute_result"
    },
    {
     "data": {
      "image/png": "[encoded data removed]",
      "text/plain": [
       "<Figure size 432x288 with 1 Axes>"
      ]
     },
     "metadata": {
      "needs_background": "light"
     },
     "output_type": "display_data"
    }
   ],
   "source": [
    "plt.plot(x,y_pred)\n",
    "plt.plot(x,y_act, 'ro')\n",
    "plt.plot(x,y_mean, 'g')\n",
    "plt.title('Valor actual vs Prediccion')\n"
   ]
  },
  {
   "cell_type": "code",
   "execution_count": 5,
   "metadata": {},
   "outputs": [
    {
     "data": {
      "text/html": [
       "<div>\n",
       "<style scoped>\n",
       "    .dataframe tbody tr th:only-of-type {\n",
       "        vertical-align: middle;\n",
       "    }\n",
       "\n",
       "    .dataframe tbody tr th {\n",
       "        vertical-align: top;\n",
       "    }\n",
       "\n",
       "    .dataframe thead th {\n",
       "        text-align: right;\n",
       "    }\n",
       "</style>\n",
       "<table border=\"1\" class=\"dataframe\">\n",
       "  <thead>\n",
       "    <tr style=\"text-align: right;\">\n",
       "      <th></th>\n",
       "      <th>x</th>\n",
       "      <th>y_actual</th>\n",
       "      <th>y_pred</th>\n",
       "      <th>SSR</th>\n",
       "      <th>SSD</th>\n",
       "      <th>SST</th>\n",
       "    </tr>\n",
       "  </thead>\n",
       "  <tbody>\n",
       "    <tr>\n",
       "      <th>0</th>\n",
       "      <td>0.373304</td>\n",
       "      <td>5.137586</td>\n",
       "      <td>5.709278</td>\n",
       "      <td>3.251255</td>\n",
       "      <td>0.326831</td>\n",
       "      <td>5.639748</td>\n",
       "    </tr>\n",
       "    <tr>\n",
       "      <th>1</th>\n",
       "      <td>1.678422</td>\n",
       "      <td>6.002314</td>\n",
       "      <td>8.189001</td>\n",
       "      <td>0.457787</td>\n",
       "      <td>4.781602</td>\n",
       "      <td>2.280365</td>\n",
       "    </tr>\n",
       "    <tr>\n",
       "      <th>2</th>\n",
       "      <td>-0.856830</td>\n",
       "      <td>3.895120</td>\n",
       "      <td>3.372024</td>\n",
       "      <td>17.142729</td>\n",
       "      <td>0.273630</td>\n",
       "      <td>13.084725</td>\n",
       "    </tr>\n",
       "    <tr>\n",
       "      <th>3</th>\n",
       "      <td>6.549156</td>\n",
       "      <td>18.029679</td>\n",
       "      <td>17.443396</td>\n",
       "      <td>98.624645</td>\n",
       "      <td>0.343728</td>\n",
       "      <td>110.613132</td>\n",
       "    </tr>\n",
       "    <tr>\n",
       "      <th>4</th>\n",
       "      <td>2.291470</td>\n",
       "      <td>8.513924</td>\n",
       "      <td>9.353793</td>\n",
       "      <td>3.390721</td>\n",
       "      <td>0.705380</td>\n",
       "      <td>1.003046</td>\n",
       "    </tr>\n",
       "  </tbody>\n",
       "</table>\n",
       "</div>"
      ],
      "text/plain": [
       "          x   y_actual     y_pred        SSR       SSD         SST\n",
       "0  0.373304   5.137586   5.709278   3.251255  0.326831    5.639748\n",
       "1  1.678422   6.002314   8.189001   0.457787  4.781602    2.280365\n",
       "2 -0.856830   3.895120   3.372024  17.142729  0.273630   13.084725\n",
       "3  6.549156  18.029679  17.443396  98.624645  0.343728  110.613132\n",
       "4  2.291470   8.513924   9.353793   3.390721  0.705380    1.003046"
      ]
     },
     "execution_count": 5,
     "metadata": {},
     "output_type": "execute_result"
    }
   ],
   "source": [
    "y_m=np.mean(data['y_actual'])\n",
    "data['SSR']=(data['y_pred']-y_m)**2\n",
    "data['SSD']=(data['y_pred']-data['y_actual'])**2\n",
    "data['SST']=(data['y_actual']-y_m)**2\n",
    "data.head()\n",
    "\n"
   ]
  },
  {
   "cell_type": "code",
   "execution_count": 6,
   "metadata": {},
   "outputs": [],
   "source": [
    "SSR=sum(data['SSR'])\n",
    "SSD=sum(data['SSD'])\n",
    "SST=sum(data['SST'])\n"
   ]
  },
  {
   "cell_type": "code",
   "execution_count": 7,
   "metadata": {},
   "outputs": [
    {
     "data": {
      "text/plain": [
       "2830.1008986679717"
      ]
     },
     "execution_count": 7,
     "metadata": {},
     "output_type": "execute_result"
    }
   ],
   "source": [
    "SST"
   ]
  },
  {
   "cell_type": "code",
   "execution_count": 8,
   "metadata": {},
   "outputs": [
    {
     "data": {
      "text/plain": [
       "62.58985731567859"
      ]
     },
     "execution_count": 8,
     "metadata": {},
     "output_type": "execute_result"
    }
   ],
   "source": [
    "SSD"
   ]
  },
  {
   "cell_type": "code",
   "execution_count": 9,
   "metadata": {},
   "outputs": [
    {
     "data": {
      "text/plain": [
       "2835.163683919591"
      ]
     },
     "execution_count": 9,
     "metadata": {},
     "output_type": "execute_result"
    }
   ],
   "source": [
    "SSR"
   ]
  },
  {
   "cell_type": "code",
   "execution_count": 10,
   "metadata": {},
   "outputs": [
    {
     "data": {
      "text/plain": [
       "2897.75354123527"
      ]
     },
     "execution_count": 10,
     "metadata": {},
     "output_type": "execute_result"
    }
   ],
   "source": [
    "SSR+SSD"
   ]
  },
  {
   "cell_type": "code",
   "execution_count": 11,
   "metadata": {},
   "outputs": [],
   "source": [
    "R2=SSR/SST"
   ]
  },
  {
   "cell_type": "code",
   "execution_count": 12,
   "metadata": {},
   "outputs": [
    {
     "data": {
      "text/plain": [
       "1.0017889062732719"
      ]
     },
     "execution_count": 12,
     "metadata": {},
     "output_type": "execute_result"
    }
   ],
   "source": [
    "R2"
   ]
  },
  {
   "cell_type": "code",
   "execution_count": 13,
   "metadata": {},
   "outputs": [
    {
     "data": {
      "text/plain": [
       "(array([ 6.,  5., 14., 18., 25., 12.,  8.,  8.,  3.,  1.]),\n",
       " array([-1.74238465, -1.34947744, -0.95657023, -0.56366302, -0.17075581,\n",
       "         0.2221514 ,  0.61505861,  1.00796581,  1.40087302,  1.79378023,\n",
       "         2.18668744]),\n",
       " <a list of 10 Patch objects>)"
      ]
     },
     "execution_count": 13,
     "metadata": {},
     "output_type": "execute_result"
    },
    {
     "data": {
      "image/png": "[encoded data removed]",
      "text/plain": [
       "<Figure size 432x288 with 1 Axes>"
      ]
     },
     "metadata": {
      "needs_background": "light"
     },
     "output_type": "display_data"
    }
   ],
   "source": [
    "plt.hist(data['y_pred']-data['y_actual'])"
   ]
  },
  {
   "cell_type": "code",
   "execution_count": 14,
   "metadata": {},
   "outputs": [],
   "source": [
    "x_mean=np.mean(data['x'])\n",
    "y_mean2=np.mean(data['y_actual'])"
   ]
  },
  {
   "cell_type": "code",
   "execution_count": null,
   "metadata": {},
   "outputs": [],
   "source": []
  },
  {
   "cell_type": "code",
   "execution_count": 15,
   "metadata": {},
   "outputs": [],
   "source": [
    "# Data covarianza\n",
    "data['beta_n'] = (data['x']-x_mean)*(data['y_actual']-y_mean2)\n",
    "# Data Varianza\n",
    "data['beta_d'] = (data['x']-x_mean)**2\n"
   ]
  },
  {
   "cell_type": "code",
   "execution_count": 16,
   "metadata": {},
   "outputs": [],
   "source": [
    "beta=sum(data['beta_n'])/sum(data['beta_d'])\n",
    "alpha=y_mean2-beta*x_mean\n"
   ]
  },
  {
   "cell_type": "markdown",
   "metadata": {},
   "source": [
    "## El Modelo lineal obtenido por regresion lineal es:\n",
    "* Y= a+b*X"
   ]
  },
  {
   "cell_type": "code",
   "execution_count": 17,
   "metadata": {},
   "outputs": [
    {
     "data": {
      "text/plain": [
       "(5.067141534818767, 1.8774254237415184)"
      ]
     },
     "execution_count": 17,
     "metadata": {},
     "output_type": "execute_result"
    }
   ],
   "source": [
    "alpha,beta"
   ]
  },
  {
   "cell_type": "code",
   "execution_count": 18,
   "metadata": {},
   "outputs": [
    {
     "data": {
      "text/html": [
       "<div>\n",
       "<style scoped>\n",
       "    .dataframe tbody tr th:only-of-type {\n",
       "        vertical-align: middle;\n",
       "    }\n",
       "\n",
       "    .dataframe tbody tr th {\n",
       "        vertical-align: top;\n",
       "    }\n",
       "\n",
       "    .dataframe thead th {\n",
       "        text-align: right;\n",
       "    }\n",
       "</style>\n",
       "<table border=\"1\" class=\"dataframe\">\n",
       "  <thead>\n",
       "    <tr style=\"text-align: right;\">\n",
       "      <th></th>\n",
       "      <th>x</th>\n",
       "      <th>y_actual</th>\n",
       "      <th>y_pred</th>\n",
       "      <th>SSR</th>\n",
       "      <th>SSD</th>\n",
       "      <th>SST</th>\n",
       "      <th>beta_n</th>\n",
       "      <th>beta_d</th>\n",
       "      <th>y_model</th>\n",
       "    </tr>\n",
       "  </thead>\n",
       "  <tbody>\n",
       "    <tr>\n",
       "      <th>0</th>\n",
       "      <td>0.373304</td>\n",
       "      <td>5.137586</td>\n",
       "      <td>5.709278</td>\n",
       "      <td>3.251255</td>\n",
       "      <td>0.326831</td>\n",
       "      <td>5.639748</td>\n",
       "      <td>2.206559</td>\n",
       "      <td>0.863319</td>\n",
       "      <td>5.767992</td>\n",
       "    </tr>\n",
       "    <tr>\n",
       "      <th>1</th>\n",
       "      <td>1.678422</td>\n",
       "      <td>6.002314</td>\n",
       "      <td>8.189001</td>\n",
       "      <td>0.457787</td>\n",
       "      <td>4.781602</td>\n",
       "      <td>2.280365</td>\n",
       "      <td>-0.567744</td>\n",
       "      <td>0.141352</td>\n",
       "      <td>8.218253</td>\n",
       "    </tr>\n",
       "    <tr>\n",
       "      <th>2</th>\n",
       "      <td>-0.856830</td>\n",
       "      <td>3.895120</td>\n",
       "      <td>3.372024</td>\n",
       "      <td>17.142729</td>\n",
       "      <td>0.273630</td>\n",
       "      <td>13.084725</td>\n",
       "      <td>7.810736</td>\n",
       "      <td>4.662505</td>\n",
       "      <td>3.458508</td>\n",
       "    </tr>\n",
       "    <tr>\n",
       "      <th>3</th>\n",
       "      <td>6.549156</td>\n",
       "      <td>18.029679</td>\n",
       "      <td>17.443396</td>\n",
       "      <td>98.624645</td>\n",
       "      <td>0.343728</td>\n",
       "      <td>110.613132</td>\n",
       "      <td>55.181020</td>\n",
       "      <td>27.527879</td>\n",
       "      <td>17.362693</td>\n",
       "    </tr>\n",
       "    <tr>\n",
       "      <th>4</th>\n",
       "      <td>2.291470</td>\n",
       "      <td>8.513924</td>\n",
       "      <td>9.353793</td>\n",
       "      <td>3.390721</td>\n",
       "      <td>0.705380</td>\n",
       "      <td>1.003046</td>\n",
       "      <td>0.990521</td>\n",
       "      <td>0.978153</td>\n",
       "      <td>9.369205</td>\n",
       "    </tr>\n",
       "  </tbody>\n",
       "</table>\n",
       "</div>"
      ],
      "text/plain": [
       "          x   y_actual     y_pred        SSR       SSD         SST     beta_n  \\\n",
       "0  0.373304   5.137586   5.709278   3.251255  0.326831    5.639748   2.206559   \n",
       "1  1.678422   6.002314   8.189001   0.457787  4.781602    2.280365  -0.567744   \n",
       "2 -0.856830   3.895120   3.372024  17.142729  0.273630   13.084725   7.810736   \n",
       "3  6.549156  18.029679  17.443396  98.624645  0.343728  110.613132  55.181020   \n",
       "4  2.291470   8.513924   9.353793   3.390721  0.705380    1.003046   0.990521   \n",
       "\n",
       "      beta_d    y_model  \n",
       "0   0.863319   5.767992  \n",
       "1   0.141352   8.218253  \n",
       "2   4.662505   3.458508  \n",
       "3  27.527879  17.362693  \n",
       "4   0.978153   9.369205  "
      ]
     },
     "execution_count": 18,
     "metadata": {},
     "output_type": "execute_result"
    }
   ],
   "source": [
    "data['y_model']=alpha +beta*data['x']\n",
    "data.head()"
   ]
  },
  {
   "cell_type": "code",
   "execution_count": 19,
   "metadata": {},
   "outputs": [],
   "source": [
    "y_mean=[np.mean(y_act) for i in range(1,len(x_list)+1)]\n",
    "\n",
    "SSR=sum((data['y_model']-np.mean(data['y_actual']))**2)\n",
    "SSD=sum((data['y_model']-data['y_actual'])**2)\n",
    "SST=sum((data['y_actual']-y_mean)**2)"
   ]
  },
  {
   "cell_type": "code",
   "execution_count": 20,
   "metadata": {},
   "outputs": [
    {
     "data": {
      "text/plain": [
       "(2768.0536763630175, 62.047222304955845, 2830.1008986679717)"
      ]
     },
     "execution_count": 20,
     "metadata": {},
     "output_type": "execute_result"
    }
   ],
   "source": [
    "SSR, SSD, SST"
   ]
  },
  {
   "cell_type": "code",
   "execution_count": 21,
   "metadata": {},
   "outputs": [
    {
     "data": {
      "text/plain": [
       "0.9780759681274411"
      ]
     },
     "execution_count": 21,
     "metadata": {},
     "output_type": "execute_result"
    }
   ],
   "source": [
    "R2= SSR/SST\n",
    "R2\n"
   ]
  },
  {
   "cell_type": "code",
   "execution_count": 22,
   "metadata": {},
   "outputs": [
    {
     "data": {
      "text/plain": [
       "Text(0.5, 1.0, 'Valor actual vs Prediccion')"
      ]
     },
     "execution_count": 22,
     "metadata": {},
     "output_type": "execute_result"
    },
    {
     "data": {
      "image/png": "[encoded data removed]",
      "text/plain": [
       "<Figure size 432x288 with 1 Axes>"
      ]
     },
     "metadata": {
      "needs_background": "light"
     },
     "output_type": "display_data"
    }
   ],
   "source": [
    "plt.plot(data['x'],data['y_pred'])\n",
    "plt.plot(data['x'],data['y_actual'], 'ro')\n",
    "plt.plot(data['x'],y_mean, 'g')\n",
    "plt.plot(data['x'],data['y_model'], 'm')\n",
    "plt.title('Valor actual vs Prediccion')"
   ]
  },
  {
   "cell_type": "code",
   "execution_count": 23,
   "metadata": {},
   "outputs": [
    {
     "data": {
      "text/plain": [
       "0.7956977576185202"
      ]
     },
     "execution_count": 23,
     "metadata": {},
     "output_type": "execute_result"
    }
   ],
   "source": [
    "# Calcular el Error estandar de los residuos\n",
    "RSE=np.sqrt(SSD/(len(data)-2))\n",
    "RSE"
   ]
  },
  {
   "cell_type": "code",
   "execution_count": 38,
   "metadata": {},
   "outputs": [
    {
     "name": "stdout",
     "output_type": "stream",
     "text": [
      "0.10591789419297502 %\n"
     ]
    }
   ],
   "source": [
    "# Porcentaje del RSE\n",
    "PRSE=(RSE/np.mean(data['y_actual']))\n",
    "print(PRSE, \"%\")"
   ]
  },
  {
   "cell_type": "code",
   "execution_count": 30,
   "metadata": {},
   "outputs": [
    {
     "data": {
      "text/plain": [
       "1.302453899104825"
      ]
     },
     "execution_count": 30,
     "metadata": {},
     "output_type": "execute_result"
    }
   ],
   "source": [
    "x_mean=np.mean(data['x'])\n",
    "x_mean"
   ]
  },
  {
   "cell_type": "code",
   "execution_count": 32,
   "metadata": {},
   "outputs": [
    {
     "data": {
      "text/plain": [
       "7.512401598249436"
      ]
     },
     "execution_count": 32,
     "metadata": {},
     "output_type": "execute_result"
    }
   ],
   "source": [
    "y_mean=np.mean(data['y_actual'])\n",
    "y_mean"
   ]
  },
  {
   "cell_type": "code",
   "execution_count": 34,
   "metadata": {},
   "outputs": [
    {
     "data": {
      "text/plain": [
       "(1.302453899104825, 7.512401598249436)"
      ]
     },
     "execution_count": 34,
     "metadata": {},
     "output_type": "execute_result"
    }
   ],
   "source": [
    "x_mean,y_mean"
   ]
  },
  {
   "cell_type": "markdown",
   "metadata": {},
   "source": [
    "### Calcular por Pases las predicciones\n"
   ]
  },
  {
   "cell_type": "code",
   "execution_count": 35,
   "metadata": {},
   "outputs": [
    {
     "data": {
      "text/html": [
       "<div>\n",
       "<style scoped>\n",
       "    .dataframe tbody tr th:only-of-type {\n",
       "        vertical-align: middle;\n",
       "    }\n",
       "\n",
       "    .dataframe tbody tr th {\n",
       "        vertical-align: top;\n",
       "    }\n",
       "\n",
       "    .dataframe thead th {\n",
       "        text-align: right;\n",
       "    }\n",
       "</style>\n",
       "<table border=\"1\" class=\"dataframe\">\n",
       "  <thead>\n",
       "    <tr style=\"text-align: right;\">\n",
       "      <th></th>\n",
       "      <th>x</th>\n",
       "      <th>y_actual</th>\n",
       "      <th>y_pred</th>\n",
       "      <th>SSR</th>\n",
       "      <th>SSD</th>\n",
       "      <th>SST</th>\n",
       "      <th>beta_n</th>\n",
       "      <th>beta_d</th>\n",
       "      <th>y_model</th>\n",
       "    </tr>\n",
       "  </thead>\n",
       "  <tbody>\n",
       "    <tr>\n",
       "      <th>0</th>\n",
       "      <td>0.373304</td>\n",
       "      <td>5.137586</td>\n",
       "      <td>5.709278</td>\n",
       "      <td>3.251255</td>\n",
       "      <td>0.326831</td>\n",
       "      <td>5.639748</td>\n",
       "      <td>2.206559</td>\n",
       "      <td>0.863319</td>\n",
       "      <td>5.767992</td>\n",
       "    </tr>\n",
       "    <tr>\n",
       "      <th>1</th>\n",
       "      <td>1.678422</td>\n",
       "      <td>6.002314</td>\n",
       "      <td>8.189001</td>\n",
       "      <td>0.457787</td>\n",
       "      <td>4.781602</td>\n",
       "      <td>2.280365</td>\n",
       "      <td>-0.567744</td>\n",
       "      <td>0.141352</td>\n",
       "      <td>8.218253</td>\n",
       "    </tr>\n",
       "    <tr>\n",
       "      <th>2</th>\n",
       "      <td>-0.856830</td>\n",
       "      <td>3.895120</td>\n",
       "      <td>3.372024</td>\n",
       "      <td>17.142729</td>\n",
       "      <td>0.273630</td>\n",
       "      <td>13.084725</td>\n",
       "      <td>7.810736</td>\n",
       "      <td>4.662505</td>\n",
       "      <td>3.458508</td>\n",
       "    </tr>\n",
       "    <tr>\n",
       "      <th>3</th>\n",
       "      <td>6.549156</td>\n",
       "      <td>18.029679</td>\n",
       "      <td>17.443396</td>\n",
       "      <td>98.624645</td>\n",
       "      <td>0.343728</td>\n",
       "      <td>110.613132</td>\n",
       "      <td>55.181020</td>\n",
       "      <td>27.527879</td>\n",
       "      <td>17.362693</td>\n",
       "    </tr>\n",
       "    <tr>\n",
       "      <th>4</th>\n",
       "      <td>2.291470</td>\n",
       "      <td>8.513924</td>\n",
       "      <td>9.353793</td>\n",
       "      <td>3.390721</td>\n",
       "      <td>0.705380</td>\n",
       "      <td>1.003046</td>\n",
       "      <td>0.990521</td>\n",
       "      <td>0.978153</td>\n",
       "      <td>9.369205</td>\n",
       "    </tr>\n",
       "    <tr>\n",
       "      <th>...</th>\n",
       "      <td>...</td>\n",
       "      <td>...</td>\n",
       "      <td>...</td>\n",
       "      <td>...</td>\n",
       "      <td>...</td>\n",
       "      <td>...</td>\n",
       "      <td>...</td>\n",
       "      <td>...</td>\n",
       "      <td>...</td>\n",
       "    </tr>\n",
       "    <tr>\n",
       "      <th>95</th>\n",
       "      <td>4.314437</td>\n",
       "      <td>12.927693</td>\n",
       "      <td>13.197430</td>\n",
       "      <td>32.319543</td>\n",
       "      <td>0.072758</td>\n",
       "      <td>29.325381</td>\n",
       "      <td>16.310764</td>\n",
       "      <td>9.072040</td>\n",
       "      <td>13.167175</td>\n",
       "    </tr>\n",
       "    <tr>\n",
       "      <th>96</th>\n",
       "      <td>2.094082</td>\n",
       "      <td>8.449074</td>\n",
       "      <td>8.978756</td>\n",
       "      <td>2.150195</td>\n",
       "      <td>0.280563</td>\n",
       "      <td>0.877355</td>\n",
       "      <td>0.741496</td>\n",
       "      <td>0.626675</td>\n",
       "      <td>8.998624</td>\n",
       "    </tr>\n",
       "    <tr>\n",
       "      <th>97</th>\n",
       "      <td>-4.651291</td>\n",
       "      <td>-4.516266</td>\n",
       "      <td>-3.837454</td>\n",
       "      <td>128.819215</td>\n",
       "      <td>0.460786</td>\n",
       "      <td>144.688840</td>\n",
       "      <td>71.615622</td>\n",
       "      <td>35.447083</td>\n",
       "      <td>-3.665311</td>\n",
       "    </tr>\n",
       "    <tr>\n",
       "      <th>98</th>\n",
       "      <td>-1.063055</td>\n",
       "      <td>3.130354</td>\n",
       "      <td>2.980196</td>\n",
       "      <td>20.540891</td>\n",
       "      <td>0.022547</td>\n",
       "      <td>19.202345</td>\n",
       "      <td>10.365774</td>\n",
       "      <td>5.595632</td>\n",
       "      <td>3.071335</td>\n",
       "    </tr>\n",
       "    <tr>\n",
       "      <th>99</th>\n",
       "      <td>-7.033142</td>\n",
       "      <td>-8.075698</td>\n",
       "      <td>-8.362970</td>\n",
       "      <td>252.027411</td>\n",
       "      <td>0.082525</td>\n",
       "      <td>242.988855</td>\n",
       "      <td>129.936099</td>\n",
       "      <td>69.482157</td>\n",
       "      <td>-8.137058</td>\n",
       "    </tr>\n",
       "  </tbody>\n",
       "</table>\n",
       "<p>100 rows × 9 columns</p>\n",
       "</div>"
      ],
      "text/plain": [
       "           x   y_actual     y_pred         SSR       SSD         SST  \\\n",
       "0   0.373304   5.137586   5.709278    3.251255  0.326831    5.639748   \n",
       "1   1.678422   6.002314   8.189001    0.457787  4.781602    2.280365   \n",
       "2  -0.856830   3.895120   3.372024   17.142729  0.273630   13.084725   \n",
       "3   6.549156  18.029679  17.443396   98.624645  0.343728  110.613132   \n",
       "4   2.291470   8.513924   9.353793    3.390721  0.705380    1.003046   \n",
       "..       ...        ...        ...         ...       ...         ...   \n",
       "95  4.314437  12.927693  13.197430   32.319543  0.072758   29.325381   \n",
       "96  2.094082   8.449074   8.978756    2.150195  0.280563    0.877355   \n",
       "97 -4.651291  -4.516266  -3.837454  128.819215  0.460786  144.688840   \n",
       "98 -1.063055   3.130354   2.980196   20.540891  0.022547   19.202345   \n",
       "99 -7.033142  -8.075698  -8.362970  252.027411  0.082525  242.988855   \n",
       "\n",
       "        beta_n     beta_d    y_model  \n",
       "0     2.206559   0.863319   5.767992  \n",
       "1    -0.567744   0.141352   8.218253  \n",
       "2     7.810736   4.662505   3.458508  \n",
       "3    55.181020  27.527879  17.362693  \n",
       "4     0.990521   0.978153   9.369205  \n",
       "..         ...        ...        ...  \n",
       "95   16.310764   9.072040  13.167175  \n",
       "96    0.741496   0.626675   8.998624  \n",
       "97   71.615622  35.447083  -3.665311  \n",
       "98   10.365774   5.595632   3.071335  \n",
       "99  129.936099  69.482157  -8.137058  \n",
       "\n",
       "[100 rows x 9 columns]"
      ]
     },
     "execution_count": 35,
     "metadata": {},
     "output_type": "execute_result"
    }
   ],
   "source": [
    "data['beta_n']=(data['x']-x_mean)*(data['y_actual']-y_mean)\n",
    "data"
   ]
  }
 ],
 "metadata": {
  "kernelspec": {
   "display_name": "Python 3",
   "language": "python",
   "name": "python3"
  },
  "language_info": {
   "codemirror_mode": {
    "name": "ipython",
    "version": 3
   },
   "file_extension": ".py",
   "mimetype": "text/x-python",
   "name": "python",
   "nbconvert_exporter": "python",
   "pygments_lexer": "ipython3",
   "version": "3.8.3"
  }
 },
 "nbformat": 4,
 "nbformat_minor": 2
}
