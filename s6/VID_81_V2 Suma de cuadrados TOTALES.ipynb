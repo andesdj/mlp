{
 "cells": [
  {
   "cell_type": "markdown",
   "metadata": {},
   "source": [
    "## Modelos de regresion lineal\n",
    "\n",
    "* Y= a +B*x\n",
    "* X: 100 Valores Distribuidos N(1.5 , 2.5)        media=1.5 DT=2.5  \n",
    "* Ye: 5 +1.9*x  +e \n",
    "* e estará distribuida segun una DN N(0, 0.8)"
   ]
  },
  {
   "cell_type": "code",
   "execution_count": 1,
   "metadata": {},
   "outputs": [],
   "source": [
    "import pandas as pd\n",
    "import numpy as np\n"
   ]
  },
  {
   "cell_type": "code",
   "execution_count": 2,
   "metadata": {},
   "outputs": [],
   "source": [
    "# Crear  una array de datos que siga una Distribucion normal \n",
    "x= 1.5 +2.5*np.random.randn(100)\n",
    "#Residuos o errores siguen otra distribución Normal\n",
    "res=0 +0.8*np.random.randn(100)\n"
   ]
  },
  {
   "cell_type": "code",
   "execution_count": 3,
   "metadata": {},
   "outputs": [],
   "source": [
    "y_pred=5+1.9*x\n"
   ]
  },
  {
   "cell_type": "code",
   "execution_count": 4,
   "metadata": {},
   "outputs": [],
   "source": [
    "y_act=5 + 1.9*x+res"
   ]
  },
  {
   "cell_type": "code",
   "execution_count": 5,
   "metadata": {},
   "outputs": [],
   "source": [
    "# Para crear un DF se convierten de array a listas\n",
    "x_list=x.tolist()\n",
    "y_pred_list=y_pred.tolist()\n",
    "y_act_list=y_act.tolist()\n"
   ]
  },
  {
   "cell_type": "code",
   "execution_count": 6,
   "metadata": {},
   "outputs": [],
   "source": [
    "y_mean=[np.mean(y_act) for i in range (1,len(x_list)+1)]\n",
    "                                       "
   ]
  },
  {
   "cell_type": "code",
   "execution_count": 7,
   "metadata": {},
   "outputs": [
    {
     "data": {
      "text/html": [
       "<div>\n",
       "<style scoped>\n",
       "    .dataframe tbody tr th:only-of-type {\n",
       "        vertical-align: middle;\n",
       "    }\n",
       "\n",
       "    .dataframe tbody tr th {\n",
       "        vertical-align: top;\n",
       "    }\n",
       "\n",
       "    .dataframe thead th {\n",
       "        text-align: right;\n",
       "    }\n",
       "</style>\n",
       "<table border=\"1\" class=\"dataframe\">\n",
       "  <thead>\n",
       "    <tr style=\"text-align: right;\">\n",
       "      <th></th>\n",
       "      <th>x</th>\n",
       "      <th>y_actual</th>\n",
       "      <th>y_prediccion</th>\n",
       "    </tr>\n",
       "  </thead>\n",
       "  <tbody>\n",
       "    <tr>\n",
       "      <th>0</th>\n",
       "      <td>-1.405618</td>\n",
       "      <td>0.732558</td>\n",
       "      <td>2.329326</td>\n",
       "    </tr>\n",
       "    <tr>\n",
       "      <th>1</th>\n",
       "      <td>-2.248618</td>\n",
       "      <td>1.668005</td>\n",
       "      <td>0.727625</td>\n",
       "    </tr>\n",
       "    <tr>\n",
       "      <th>2</th>\n",
       "      <td>2.205230</td>\n",
       "      <td>9.160822</td>\n",
       "      <td>9.189938</td>\n",
       "    </tr>\n",
       "    <tr>\n",
       "      <th>3</th>\n",
       "      <td>-0.130872</td>\n",
       "      <td>5.244277</td>\n",
       "      <td>4.751344</td>\n",
       "    </tr>\n",
       "    <tr>\n",
       "      <th>4</th>\n",
       "      <td>-2.453379</td>\n",
       "      <td>0.760633</td>\n",
       "      <td>0.338580</td>\n",
       "    </tr>\n",
       "    <tr>\n",
       "      <th>...</th>\n",
       "      <td>...</td>\n",
       "      <td>...</td>\n",
       "      <td>...</td>\n",
       "    </tr>\n",
       "    <tr>\n",
       "      <th>95</th>\n",
       "      <td>0.780003</td>\n",
       "      <td>5.747392</td>\n",
       "      <td>6.482006</td>\n",
       "    </tr>\n",
       "    <tr>\n",
       "      <th>96</th>\n",
       "      <td>0.905072</td>\n",
       "      <td>6.175515</td>\n",
       "      <td>6.719637</td>\n",
       "    </tr>\n",
       "    <tr>\n",
       "      <th>97</th>\n",
       "      <td>4.183510</td>\n",
       "      <td>13.850754</td>\n",
       "      <td>12.948668</td>\n",
       "    </tr>\n",
       "    <tr>\n",
       "      <th>98</th>\n",
       "      <td>1.097872</td>\n",
       "      <td>6.637726</td>\n",
       "      <td>7.085957</td>\n",
       "    </tr>\n",
       "    <tr>\n",
       "      <th>99</th>\n",
       "      <td>2.133385</td>\n",
       "      <td>9.708061</td>\n",
       "      <td>9.053432</td>\n",
       "    </tr>\n",
       "  </tbody>\n",
       "</table>\n",
       "<p>100 rows × 3 columns</p>\n",
       "</div>"
      ],
      "text/plain": [
       "           x   y_actual  y_prediccion\n",
       "0  -1.405618   0.732558      2.329326\n",
       "1  -2.248618   1.668005      0.727625\n",
       "2   2.205230   9.160822      9.189938\n",
       "3  -0.130872   5.244277      4.751344\n",
       "4  -2.453379   0.760633      0.338580\n",
       "..       ...        ...           ...\n",
       "95  0.780003   5.747392      6.482006\n",
       "96  0.905072   6.175515      6.719637\n",
       "97  4.183510  13.850754     12.948668\n",
       "98  1.097872   6.637726      7.085957\n",
       "99  2.133385   9.708061      9.053432\n",
       "\n",
       "[100 rows x 3 columns]"
      ]
     },
     "execution_count": 7,
     "metadata": {},
     "output_type": "execute_result"
    }
   ],
   "source": [
    "data= pd.DataFrame (\n",
    "    {\n",
    "        \"x\":     x_list,\n",
    "        \"y_actual\":     y_act_list,\n",
    "        \"y_prediccion\":y_pred_list\n",
    "    \n",
    "    }\n",
    ")\n",
    "\n",
    "data"
   ]
  },
  {
   "cell_type": "code",
   "execution_count": 8,
   "metadata": {},
   "outputs": [],
   "source": [
    "import matplotlib.pyplot as plt\n",
    "from IPython.display import Image\n",
    "plt.rcParams['figure.figsize'] = [10, 10]"
   ]
  },
  {
   "cell_type": "code",
   "execution_count": 9,
   "metadata": {},
   "outputs": [
    {
     "data": {
      "text/plain": [
       "Text(0.5, 1.0, 'Estudio de Regresion Lineal')"
      ]
     },
     "execution_count": 9,
     "metadata": {},
     "output_type": "execute_result"
    },
    {
     "data": {
      "image/png": "[encoded data removed]",
      "text/plain": [
       "<Figure size 432x288 with 1 Axes>"
      ]
     },
     "metadata": {
      "needs_background": "light"
     },
     "output_type": "display_data"
    }
   ],
   "source": [
    "%matplotlib inline\n",
    "plt.plot(x,y_pred)\n",
    "plt.plot(x,y_act, 'ro')\n",
    "plt.plot(x,y_mean)\n",
    "plt.title(\"Estudio de Regresion Lineal\")\n"
   ]
  },
  {
   "cell_type": "code",
   "execution_count": 10,
   "metadata": {},
   "outputs": [
    {
     "data": {
      "image/png": "[encoded data removed]",
      "text/plain": [
       "<IPython.core.display.Image object>"
      ]
     },
     "execution_count": 10,
     "metadata": {},
     "output_type": "execute_result"
    }
   ],
   "source": [
    "\n",
    "Image(\"../src/img/errores_sumas.png\")"
   ]
  },
  {
   "cell_type": "markdown",
   "metadata": {},
   "source": [
    "### Conceptos de error para medir la calidad del modelo\n",
    "* SSD: Suma de cuadrados de las diferencias Separacion entre el modelo y el dato observado\n",
    "* SST: Suma de cuadrados totales: Separación entre la media y el dato\n",
    "* SSR: Suma de cuadrados de la regresion: DIferencia total entre la media y el valor del modelo\n",
    "SSR Es explicada por el modelo\n",
    "SST Es el error total del modelo\n",
    "* SST= SSR+ SSD \n",
    "#### SSR sea Grande y SSD Pequeño\n",
    "* se busca que SSR sea parecido a SST.  y eso se define con R2\n",
    "\n",
    "* R2=SSR/SST\n"
   ]
  },
  {
   "cell_type": "code",
   "execution_count": 11,
   "metadata": {},
   "outputs": [
    {
     "data": {
      "text/html": [
       "<div>\n",
       "<style scoped>\n",
       "    .dataframe tbody tr th:only-of-type {\n",
       "        vertical-align: middle;\n",
       "    }\n",
       "\n",
       "    .dataframe tbody tr th {\n",
       "        vertical-align: top;\n",
       "    }\n",
       "\n",
       "    .dataframe thead th {\n",
       "        text-align: right;\n",
       "    }\n",
       "</style>\n",
       "<table border=\"1\" class=\"dataframe\">\n",
       "  <thead>\n",
       "    <tr style=\"text-align: right;\">\n",
       "      <th></th>\n",
       "      <th>x</th>\n",
       "      <th>y_actual</th>\n",
       "      <th>y_prediccion</th>\n",
       "      <th>SSR</th>\n",
       "      <th>SSD</th>\n",
       "      <th>SST</th>\n",
       "    </tr>\n",
       "  </thead>\n",
       "  <tbody>\n",
       "    <tr>\n",
       "      <th>0</th>\n",
       "      <td>-1.405618</td>\n",
       "      <td>0.732558</td>\n",
       "      <td>2.329326</td>\n",
       "      <td>24.506363</td>\n",
       "      <td>2.549667</td>\n",
       "      <td>42.865276</td>\n",
       "    </tr>\n",
       "    <tr>\n",
       "      <th>1</th>\n",
       "      <td>-2.248618</td>\n",
       "      <td>1.668005</td>\n",
       "      <td>0.727625</td>\n",
       "      <td>42.929891</td>\n",
       "      <td>0.884313</td>\n",
       "      <td>31.491304</td>\n",
       "    </tr>\n",
       "    <tr>\n",
       "      <th>2</th>\n",
       "      <td>2.205230</td>\n",
       "      <td>9.160822</td>\n",
       "      <td>9.189938</td>\n",
       "      <td>3.648947</td>\n",
       "      <td>0.000848</td>\n",
       "      <td>3.538559</td>\n",
       "    </tr>\n",
       "    <tr>\n",
       "      <th>3</th>\n",
       "      <td>-0.130872</td>\n",
       "      <td>5.244277</td>\n",
       "      <td>4.751344</td>\n",
       "      <td>6.392665</td>\n",
       "      <td>0.242983</td>\n",
       "      <td>4.143012</td>\n",
       "    </tr>\n",
       "    <tr>\n",
       "      <th>4</th>\n",
       "      <td>-2.453379</td>\n",
       "      <td>0.760633</td>\n",
       "      <td>0.338580</td>\n",
       "      <td>48.179368</td>\n",
       "      <td>0.178129</td>\n",
       "      <td>42.498445</td>\n",
       "    </tr>\n",
       "  </tbody>\n",
       "</table>\n",
       "</div>"
      ],
      "text/plain": [
       "          x  y_actual  y_prediccion        SSR       SSD        SST\n",
       "0 -1.405618  0.732558      2.329326  24.506363  2.549667  42.865276\n",
       "1 -2.248618  1.668005      0.727625  42.929891  0.884313  31.491304\n",
       "2  2.205230  9.160822      9.189938   3.648947  0.000848   3.538559\n",
       "3 -0.130872  5.244277      4.751344   6.392665  0.242983   4.143012\n",
       "4 -2.453379  0.760633      0.338580  48.179368  0.178129  42.498445"
      ]
     },
     "execution_count": 11,
     "metadata": {},
     "output_type": "execute_result"
    }
   ],
   "source": [
    "data['SSR']=(data['y_prediccion']-np.mean(y_act))**2\n",
    "data['SSD']=(data['y_prediccion']-data['y_actual'])**2\n",
    "data['SST']=(data['y_actual']-np.mean(y_act))**2\n",
    "data.head()\n",
    "\n",
    "\n",
    "\n"
   ]
  },
  {
   "cell_type": "code",
   "execution_count": 12,
   "metadata": {},
   "outputs": [
    {
     "data": {
      "text/plain": [
       "2154.2536142707927"
      ]
     },
     "execution_count": 12,
     "metadata": {},
     "output_type": "execute_result"
    }
   ],
   "source": [
    "SSR=sum(data['SSR'])\n",
    "SSR"
   ]
  },
  {
   "cell_type": "code",
   "execution_count": 13,
   "metadata": {},
   "outputs": [
    {
     "data": {
      "text/plain": [
       "55.467025057311545"
      ]
     },
     "execution_count": 13,
     "metadata": {},
     "output_type": "execute_result"
    }
   ],
   "source": [
    "SSD=sum(data['SSD'])\n",
    "SSD"
   ]
  },
  {
   "cell_type": "code",
   "execution_count": 14,
   "metadata": {},
   "outputs": [
    {
     "data": {
      "text/plain": [
       "2212.1193234914504"
      ]
     },
     "execution_count": 14,
     "metadata": {},
     "output_type": "execute_result"
    }
   ],
   "source": [
    "SST=sum(data['SST'])\n",
    "SST"
   ]
  },
  {
   "cell_type": "code",
   "execution_count": 15,
   "metadata": {},
   "outputs": [
    {
     "data": {
      "text/plain": [
       "0.973841506375286"
      ]
     },
     "execution_count": 15,
     "metadata": {},
     "output_type": "execute_result"
    }
   ],
   "source": [
    "R2=SSR/SST\n",
    "R2"
   ]
  },
  {
   "cell_type": "code",
   "execution_count": 16,
   "metadata": {},
   "outputs": [
    {
     "data": {
      "text/plain": [
       "(array([ 6.,  4., 10., 12., 17., 16., 12., 13.,  6.,  4.]),\n",
       " array([-1.53506841, -1.2218848 , -0.90870119, -0.59551759, -0.28233398,\n",
       "         0.03084963,  0.34403323,  0.65721684,  0.97040045,  1.28358406,\n",
       "         1.59676766]),\n",
       " <a list of 10 Patch objects>)"
      ]
     },
     "execution_count": 16,
     "metadata": {},
     "output_type": "execute_result"
    },
    {
     "data": {
      "image/png": "[encoded data removed]",
      "text/plain": [
       "<Figure size 432x288 with 1 Axes>"
      ]
     },
     "metadata": {
      "needs_background": "light"
     },
     "output_type": "display_data"
    }
   ],
   "source": [
    "plt.hist(data['y_prediccion']-data['y_actual'])"
   ]
  }
 ],
 "metadata": {
  "kernelspec": {
   "display_name": "Python 3",
   "language": "python",
   "name": "python3"
  },
  "language_info": {
   "codemirror_mode": {
    "name": "ipython",
    "version": 3
   },
   "file_extension": ".py",
   "mimetype": "text/x-python",
   "name": "python",
   "nbconvert_exporter": "python",
   "pygments_lexer": "ipython3",
   "version": "3.8.3"
  }
 },
 "nbformat": 4,
 "nbformat_minor": 4
}
