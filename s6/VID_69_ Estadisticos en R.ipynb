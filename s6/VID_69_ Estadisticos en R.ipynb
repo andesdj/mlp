{
 "cells": [
  {
   "cell_type": "markdown",
   "metadata": {},
   "source": [
    "# Estadisticos mas Usados ..... (R)\n"
   ]
  },
  {
   "cell_type": "markdown",
   "metadata": {},
   "source": [
    "## Requerimientos\n",
    "* 1  Instalar Modeest, raster, moments\n",
    "* 2 Moodest MODA\n",
    "* 3 Raster Qyantiles CV\n",
    "* 4 Moments: Asimetria curtosis\n"
   ]
  },
  {
   "cell_type": "markdown",
   "metadata": {},
   "source": [
    "## Medidas de centralización\n",
    "\n",
    "* Media:  sumar los valores dividir por N° valores\n",
    "* Mediana:  Valor justo en medio\n",
    "* Percentil. igual que la mediana pero con los valores entre 0 y 1: que tan centrado estan los vectores\n",
    "* Cuantil: es  ej 25% 50% 75 100%....... el cuantil del 50% es la misma mediana \n",
    "\n",
    "* Ejemplo poner formulas\n",
    "$e^{i\\pi} + 1 = \\pi$"
   ]
  },
  {
   "cell_type": "markdown",
   "metadata": {},
   "source": [
    "## Medidas de dispersion\n",
    "\n",
    "#### Mide como los valores se desplazan de la media\n",
    "* I Varianza: Siempre es positiva por la sumas de los cuadrados\n",
    "* II Desviacion Tipica: Raiz cuadrada de la varianza  y positivo - Desviacion estandar\n",
    "\n",
    "** Si son iguales porque existe: \n",
    "* Varianza al elevar al cuadrado eleva al cuadrado la dimensión y no tendrán significado fisico\n",
    "* Desviación típica: QUita el cuadrado y vuelven los valores a sus dimensiones (unidades originales)\n",
    "\n",
    "* III Coeficiencte de variacion  : Mide la variación relativa de la media y la desviaciion tipica:   S/MED\n",
    "\n"
   ]
  },
  {
   "cell_type": "markdown",
   "metadata": {},
   "source": [
    "## Medidas de dispersion Momentos \n",
    "* Momento de orden respecto  de la Media\n",
    "* MR: Sumar las diferencias de la muestra y la media elevado a R.  R: \n",
    "\n",
    "#### CAF= Asimetria fisher Momento de orden 3\n",
    "* Si CAF es =0 La funcion es simetricamente perfecta\n",
    "* + Media Mas desplazada a la izquierda  (PIC A LA IZQ de la MEDIA)\n",
    "* - Media Mas desplazada a la derecha \n",
    "\n",
    "#### Curtosis Orden 4\n",
    "\n",
    "* C=0 Mesocurtica: Distribucion perfecta  forma bien concentrado\n",
    "* C + Leptocurtica: Se concentra mucho en el valor central, delgada y alta la campana  \n",
    "* C - Platicurtica: Poco se concentra en el valor central y muchos en las colas (Colas largas), Baja y ancha la campana\n",
    "\n",
    "* skewness: Asimetria \n"
   ]
  }
 ],
 "metadata": {
  "kernelspec": {
   "display_name": "Python 3",
   "language": "python",
   "name": "python3"
  },
  "language_info": {
   "codemirror_mode": {
    "name": "ipython",
    "version": 3
   },
   "file_extension": ".py",
   "mimetype": "text/x-python",
   "name": "python",
   "nbconvert_exporter": "python",
   "pygments_lexer": "ipython3",
   "version": "3.8.3"
  }
 },
 "nbformat": 4,
 "nbformat_minor": 4
}
