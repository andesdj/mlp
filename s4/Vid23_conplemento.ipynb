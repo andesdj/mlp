{
 "cells": [
  {
   "cell_type": "code",
   "execution_count": null,
   "metadata": {},
   "outputs": [],
   "source": [
    "import pandas as pd\n",
    "import numpy as np\n",
    "import os\n",
    "mp='../src/datasets/customer-churn-model'\n",
    "outfile='Customer Churn Columns.csv'\n",
    "srcout=mp+'/'+outfile\n",
    "data_c=pd.read_csv(srcout, sep=',')\n",
    "data_c.head()\n",
    "data_cols=data_c['Column_Names'].tolist()\n",
    "data_cols\n",
    "# --------------------\n",
    "mp='../src/datasets/customer-churn-model'\n",
    "infile='Customer Churn Model.txt'\n",
    "outfile='Customer Churn Model.txt'\n",
    "srcin=mp+'/'+infile\n",
    "srcout=mp+'/'+outfile\n",
    "data44=pd.read_csv(srcout, sep=',', header=None, names=data_cols)\n",
    "data44.head()"
   ]
  }
 ],
 "metadata": {
  "kernelspec": {
   "display_name": "Python 3",
   "language": "python",
   "name": "python3"
  },
  "language_info": {
   "codemirror_mode": {
    "name": "ipython",
    "version": 3
   },
   "file_extension": ".py",
   "mimetype": "text/x-python",
   "name": "python",
   "nbconvert_exporter": "python",
   "pygments_lexer": "ipython3",
   "version": "3.8.3"
  }
 },
 "nbformat": 4,
 "nbformat_minor": 4
}
