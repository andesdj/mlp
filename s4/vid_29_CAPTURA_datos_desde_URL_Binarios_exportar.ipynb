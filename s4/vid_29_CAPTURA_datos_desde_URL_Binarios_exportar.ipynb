{
 "cells": [
  {
   "cell_type": "markdown",
   "metadata": {},
   "source": [
    "# Ejercicio de descarga con URL LIB 3"
   ]
  },
  {
   "cell_type": "code",
   "execution_count": 33,
   "metadata": {},
   "outputs": [],
   "source": [
    "def bajardeURL(url,filename, sep=',', delim='\\n', enc='utf8', prefijo='s4_'):\n",
    "    ruta_url='http://winterolympicsmedals.com/medals.csv'\n",
    "    import urllib3\n",
    "    import pandas as pd\n",
    "    http=urllib3.PoolManager()\n",
    "    r=http.request('GET', ruta_url)\n",
    "    print('El estado de la respuesta es ' , r.status)\n",
    "    response=r.data\n",
    "    str_data=response.decode(enc)\n",
    "    lines=str_data.split(delim)\n",
    "    #La primera linea contiene la cabecera\n",
    "    col_names=lines[0].split(sep)\n",
    "    n_cols=len(col_names)\n",
    "    counter=0\n",
    "    #Generar un diccionario vacio para procesar la INfo de la URL\n",
    "    main_dict={}\n",
    "    for col in col_names:\n",
    "        main_dict[col]=[]\n",
    "\n",
    "    #Procesamiento fila a Fila de la información\n",
    "    for line in lines:\n",
    "    #Saltar la linea 0 que contiene la cabecera\n",
    "        if(counter>0):\n",
    "            values=line.strip().split(',')\n",
    "    #Añadir cada valor a su respectiva columna del dict\n",
    "            for i in range(len(col_names)):\n",
    "                main_dict[col_names[i]].append(values[i])\n",
    "        counter+=1\n",
    "\n",
    "    print('El dataset tiene %d filas y %d columnas'%(counter, n_cols))\n",
    "    #Convertir en DATAFRAME DE PANDAS\n",
    "\n",
    "    dataframe=pd.DataFrame(main_dict)\n",
    "    #dataframe.head()\n",
    "\n",
    "    #Guardar el Dataframe con varias extensiones\n",
    "    mpp='../salidas/'+prefijo\n",
    "    fn=filename\n",
    "    fp=mpp+fn\n",
    "    #Exportar en los 3 Formatso CSV EXCEL y JSON\n",
    "    dataframe.to_csv(fp+'.csv')\n",
    "    dataframe.to_excel(fp+'.xls')\n",
    "    dataframe.to_json(fp+'.json')\n",
    "    print('Se han exportado los documentos en '+ fp+ ' con nombre '+ fn)\n",
    "    return"
   ]
  },
  {
   "cell_type": "code",
   "execution_count": 34,
   "metadata": {
    "scrolled": false
   },
   "outputs": [
    {
     "name": "stdout",
     "output_type": "stream",
     "text": [
      "El estado de la respuesta es  200\n",
      "El dataset tiene 2312 filas y 8 columnas\n",
      "Se han exportado los documentos en ../salidas/s4_DJ_ANDES con nombre DJ_ANDES\n"
     ]
    }
   ],
   "source": [
    "u='http://winterolympicsmedals.com/medals.csv'\n",
    "salida='DJ_ANDES'\n",
    "bajardeURL(u,salida)"
   ]
  },
  {
   "cell_type": "code",
   "execution_count": null,
   "metadata": {},
   "outputs": [],
   "source": []
  }
 ],
 "metadata": {
  "kernelspec": {
   "display_name": "Python 3",
   "language": "python",
   "name": "python3"
  },
  "language_info": {
   "codemirror_mode": {
    "name": "ipython",
    "version": 3
   },
   "file_extension": ".py",
   "mimetype": "text/x-python",
   "name": "python",
   "nbconvert_exporter": "python",
   "pygments_lexer": "ipython3",
   "version": "3.7.4"
  }
 },
 "nbformat": 4,
 "nbformat_minor": 2
}
