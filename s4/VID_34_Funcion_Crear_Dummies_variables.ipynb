{
 "cells": [
  {
   "cell_type": "code",
   "execution_count": null,
   "metadata": {},
   "outputs": [],
   "source": [
    "import pandas as pd\n",
    "import os\n",
    "filename='titanic3.csv'\n",
    "mainpath='../src/datasets/titanic/'\n",
    "fullpath=mainpath+filename\n",
    "df=pd.read_csv(fullpath)\n",
    "def crearDummies(df,variable, drop=True):\n",
    "    dummy=pd.get_dummies(df[variable],prefix=variable)\n",
    "    if drop== True:\n",
    "        df=df.drop(variable, axis=1)\n",
    "    \n",
    "    df=pd.concat([df,dummy], axis=1)\n",
    "    print('creadas columnas Dummy para la variable: ', variable)\n",
    "    return df\n",
    "\n",
    "a=crearDummies(df,'sex', True)\n",
    "a.head()\n",
    "        "
   ]
  }
 ],
 "metadata": {
  "kernelspec": {
   "display_name": "Python 3",
   "language": "python",
   "name": "python3"
  },
  "language_info": {
   "codemirror_mode": {
    "name": "ipython",
    "version": 3
   },
   "file_extension": ".py",
   "mimetype": "text/x-python",
   "name": "python",
   "nbconvert_exporter": "python",
   "pygments_lexer": "ipython3",
   "version": "3.8.3"
  }
 },
 "nbformat": 4,
 "nbformat_minor": 4
}
