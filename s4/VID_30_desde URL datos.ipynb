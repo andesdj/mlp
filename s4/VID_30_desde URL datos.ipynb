{
 "cells": [
  {
   "cell_type": "code",
   "execution_count": null,
   "metadata": {},
   "outputs": [],
   "source": [
    "medals_url='http://winterolympicsmedals.com/medals.csv'\n",
    "import urllib3\n",
    "import pandas as pd\n",
    "http=urllib3.PoolManager()\n",
    "r=http.request('GET', medals_url)\n",
    "r.status\n",
    "r.data\n",
    "df_url=r.data\n",
    "#Con PANDAS\n",
    "#df=pd.read_csv(medals_url)\n",
    "#df.head()"
   ]
  },
  {
   "cell_type": "raw",
   "metadata": {},
   "source": [
    "## Ejercicio de descarga con URL LIB 3"
   ]
  },
  {
   "cell_type": "code",
   "execution_count": null,
   "metadata": {},
   "outputs": [],
   "source": [
    "medals_url='http://winterolympicsmedals.com/medals.csv'\n",
    "import urllib3\n",
    "import pandas as pd\n",
    "http=urllib3.PoolManager()\n",
    "r=http.request('GET', medals_url)\n",
    "print('El estado de la respuesta es ' + r.status)\n",
    "response=r.data\n",
    "str_data=response.decode('utf-8')\n",
    "lines=str_data.split('\\n')\n",
    "#La primera linea contiene la cabecera\n",
    "col_names=lines[0].split(',')\n",
    "n_cols=len(col_names)\n",
    "\n",
    "#Generar un diccionario vacio para procesar la INfo de la URL\n",
    "main_dict={}\n",
    "for col in col_names:\n",
    "    main_dict[col]=[]\n",
    "\n",
    "#Procesamiento fila a Fila de la información\n",
    "for line in lines:\n",
    "#Saltar la linea 0 que contiene la cabecera\n",
    "    if(counter>0):\n",
    "        values=line.strip().split(',')\n",
    "#Añadir cada valor a su respectiva columna del dict\n",
    "        for i in range(len(col_names)):\n",
    "            main_dict[col_names[i]].append(values[i])\n",
    "    counter+=1\n",
    "\n",
    "print('El dataset tiene %d filas y %d columnas'%(counter, n_cols))\n",
    "    \n",
    "        \n",
    "\n",
    "\n",
    "\n",
    "\n",
    "\n"
   ]
  }
 ],
 "metadata": {
  "kernelspec": {
   "display_name": "Python 3",
   "language": "python",
   "name": "python3"
  },
  "language_info": {
   "codemirror_mode": {
    "name": "ipython",
    "version": 3
   },
   "file_extension": ".py",
   "mimetype": "text/x-python",
   "name": "python",
   "nbconvert_exporter": "python",
   "pygments_lexer": "ipython3",
   "version": "3.7.4"
  }
 },
 "nbformat": 4,
 "nbformat_minor": 2
}
