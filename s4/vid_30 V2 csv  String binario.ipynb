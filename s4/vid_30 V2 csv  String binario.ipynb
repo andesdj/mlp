{
 "cells": [
  {
   "cell_type": "code",
   "execution_count": 48,
   "metadata": {},
   "outputs": [],
   "source": [
    "medals_url='http://winterolympicsmedals.com/medals.csv'\n",
    "import urllib3\n",
    "import pandas as pd\n",
    "\n",
    "def downfromURL(url, filenameParam, mainpath='../src/datasets/_vid30_AMG/', sep=',', encoding='utf-8', delim='\\n'):\n",
    "    fold=mainpath\n",
    "    http=urllib3.PoolManager()\n",
    "    r=http.request('GET', medals_url)\n",
    "    r.status\n",
    "    r.data\n",
    "    df_url=r.data\n",
    "    str_data=df_url.decode('utf-8')\n",
    "    lineas= str_data.split(delim)\n",
    "    columnas=lineas[0].split(sep)\n",
    "    counter =0\n",
    "    dic={}\n",
    "    n_cols=len(columnas)\n",
    "    n_cols\n",
    "\n",
    "    # poner nombres a las columnas\n",
    "    for col in columnas:\n",
    "        dic[col]=[]\n",
    "\n",
    "    for line in lineas:\n",
    "        if counter>0:\n",
    "            valor_celda=line.strip().split(sep)\n",
    "            for i in range(n_cols):\n",
    "                dic[columnas[i]].append(valor_celda[i])\n",
    "        counter +=1\n",
    "\n",
    "    print('El dataset tiene %d filas y %d columnas'%(counter, n_cols))\n",
    "\n",
    "    # convertir en DF\n",
    "    df= pd.DataFrame(dic)\n",
    "    df.head()\n",
    "\n",
    "    #Aca se podra exportar a CSV\n",
    "    extCSV='.csv'\n",
    "    extJSON='.json'\n",
    "    extXLS='.xls'\n",
    "    filename=fold+filenameParam\n",
    "    df.to_csv(filename+extCSV)\n",
    "    df.to_json(filename+extJSON)\n",
    "    df.to_excel(filename+extXLS)\n",
    "    print(\"Los ficheros CSV JSON XLS se han guardado en la carpeta\" +fold )\n",
    "    return df"
   ]
  },
  {
   "cell_type": "code",
   "execution_count": 49,
   "metadata": {},
   "outputs": [
    {
     "name": "stdout",
     "output_type": "stream",
     "text": [
      "El dataset tiene 2312 filas y 1 columnas\n",
      "Los ficheros CSV JSON XLS se han guardado en la carpeta../src/datasets/_vid30_AMG2/\n"
     ]
    },
    {
     "data": {
      "text/html": [
       "<div>\n",
       "<style scoped>\n",
       "    .dataframe tbody tr th:only-of-type {\n",
       "        vertical-align: middle;\n",
       "    }\n",
       "\n",
       "    .dataframe tbody tr th {\n",
       "        vertical-align: top;\n",
       "    }\n",
       "\n",
       "    .dataframe thead th {\n",
       "        text-align: right;\n",
       "    }\n",
       "</style>\n",
       "<table border=\"1\" class=\"dataframe\">\n",
       "  <thead>\n",
       "    <tr style=\"text-align: right;\">\n",
       "      <th></th>\n",
       "      <th>Year,City,Sport,Discipline,NOC,Event,Event gender,Medal</th>\n",
       "    </tr>\n",
       "  </thead>\n",
       "  <tbody>\n",
       "    <tr>\n",
       "      <th>0</th>\n",
       "      <td>1924,Chamonix,Skating,Figure skating,AUT,indiv...</td>\n",
       "    </tr>\n",
       "    <tr>\n",
       "      <th>1</th>\n",
       "      <td>1924,Chamonix,Skating,Figure skating,AUT,indiv...</td>\n",
       "    </tr>\n",
       "    <tr>\n",
       "      <th>2</th>\n",
       "      <td>1924,Chamonix,Skating,Figure skating,AUT,pairs...</td>\n",
       "    </tr>\n",
       "    <tr>\n",
       "      <th>3</th>\n",
       "      <td>1924,Chamonix,Bobsleigh,Bobsleigh,BEL,four-man...</td>\n",
       "    </tr>\n",
       "    <tr>\n",
       "      <th>4</th>\n",
       "      <td>1924,Chamonix,Ice Hockey,Ice Hockey,CAN,ice ho...</td>\n",
       "    </tr>\n",
       "  </tbody>\n",
       "</table>\n",
       "</div>"
      ],
      "text/plain": [
       "  Year,City,Sport,Discipline,NOC,Event,Event gender,Medal\n",
       "0  1924,Chamonix,Skating,Figure skating,AUT,indiv...     \n",
       "1  1924,Chamonix,Skating,Figure skating,AUT,indiv...     \n",
       "2  1924,Chamonix,Skating,Figure skating,AUT,pairs...     \n",
       "3  1924,Chamonix,Bobsleigh,Bobsleigh,BEL,four-man...     \n",
       "4  1924,Chamonix,Ice Hockey,Ice Hockey,CAN,ice ho...     "
      ]
     },
     "execution_count": 49,
     "metadata": {},
     "output_type": "execute_result"
    }
   ],
   "source": [
    "mm= downfromURL(medals_url, 'am22','../src/datasets/_vid30_AMG2/', 'ANDES2')\n",
    "mm.head()"
   ]
  }
 ],
 "metadata": {
  "kernelspec": {
   "display_name": "Python 3",
   "language": "python",
   "name": "python3"
  },
  "language_info": {
   "codemirror_mode": {
    "name": "ipython",
    "version": 3
   },
   "file_extension": ".py",
   "mimetype": "text/x-python",
   "name": "python",
   "nbconvert_exporter": "python",
   "pygments_lexer": "ipython3",
   "version": "3.8.3"
  }
 },
 "nbformat": 4,
 "nbformat_minor": 4
}
