{
 "cells": [
  {
   "cell_type": "code",
   "execution_count": 15,
   "metadata": {},
   "outputs": [
    {
     "name": "stdout",
     "output_type": "stream",
     "text": [
      "../src/datasets/customer-churn-model/Customer Churn Model.txt\n",
      "<_io.TextIOWrapper name='../src/datasets/customer-churn-model/Customer Churn Model.txt' mode='r' encoding='cp1252'>\n"
     ]
    },
    {
     "data": {
      "text/plain": [
       "21"
      ]
     },
     "execution_count": 15,
     "metadata": {},
     "output_type": "execute_result"
    }
   ],
   "source": [
    "import pandas as pd\n",
    "import numpy as np\n",
    "import os\n",
    "#Abriri documentos con la funcion OPEN\n",
    "mp='../src/datasets/customer-churn-model'\n",
    "pfile='Customer Churn Model.txt'\n",
    "src=mp+'/'+pfile\n",
    "data1=open(src, 'r')\n",
    "print(data1)\n",
    "cols=data1.readline().strip().split(',')\n",
    "ncols=len(cols)\n",
    "ncols"
   ]
  },
  {
   "cell_type": "code",
   "execution_count": 14,
   "metadata": {},
   "outputs": [
    {
     "name": "stdout",
     "output_type": "stream",
     "text": [
      "EL data set tiene  0 filas y 21 Columnas\n"
     ]
    }
   ],
   "source": [
    "#Contar las Filas del documento almacenado en col\n",
    "counter=0\n",
    "dic={}\n",
    "#Crear diccionario de un archivo\n",
    "for col in cols:\n",
    "    dic[col]=[]\n",
    "for line in data1:\n",
    "    values=line.strip().split(\",\")\n",
    "    for i in range(len(cols)):\n",
    "        dic[cols[i]].append(values[i])\n",
    "    counter+=1\n",
    "print('EL data set tiene  %d filas y %d Columnas' %(counter, ncols))"
   ]
  }
 ],
 "metadata": {
  "kernelspec": {
   "display_name": "Python 3",
   "language": "python",
   "name": "python3"
  },
  "language_info": {
   "codemirror_mode": {
    "name": "ipython",
    "version": 3
   },
   "file_extension": ".py",
   "mimetype": "text/x-python",
   "name": "python",
   "nbconvert_exporter": "python",
   "pygments_lexer": "ipython3",
   "version": "3.7.4"
  }
 },
 "nbformat": 4,
 "nbformat_minor": 2
}
