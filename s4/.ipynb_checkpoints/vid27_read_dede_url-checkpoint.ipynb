{
 "cells": [
  {
   "cell_type": "code",
   "execution_count": 6,
   "metadata": {},
   "outputs": [],
   "source": [
    "medals_url='http://winterolympicsmedals.com/medals.csv'\n",
    "import urllib3\n",
    "import pandas as pd\n",
    "http=urllib3.PoolManager()\n",
    "r=http.request('GET', medals_url)\n",
    "r.status\n",
    "r.data\n",
    "df_url=r.data\n",
    "\n",
    "\n",
    "#Con PANDAS\n",
    "#df=pd.read_csv(medals_url)\n",
    "#df.head()"
   ]
  },
  {
   "cell_type": "code",
   "execution_count": 7,
   "metadata": {},
   "outputs": [
    {
     "data": {
      "text/plain": [
       "<_csv.reader at 0x2501f1d5f98>"
      ]
     },
     "execution_count": 7,
     "metadata": {},
     "output_type": "execute_result"
    }
   ],
   "source": [
    "import csv\n",
    "cr=csv.reader(df_url)\n",
    "cr\n"
   ]
  }
 ],
 "metadata": {
  "kernelspec": {
   "display_name": "Python 3",
   "language": "python",
   "name": "python3"
  },
  "language_info": {
   "codemirror_mode": {
    "name": "ipython",
    "version": 3
   },
   "file_extension": ".py",
   "mimetype": "text/x-python",
   "name": "python",
   "nbconvert_exporter": "python",
   "pygments_lexer": "ipython3",
   "version": "3.7.4"
  }
 },
 "nbformat": 4,
 "nbformat_minor": 2
}
