{
 "cells": [
  {
   "cell_type": "code",
   "execution_count": null,
   "metadata": {},
   "outputs": [],
   "source": [
    "import pandas as pd\n",
    "import numpy as np\n",
    "# Parametros de read_csv\n",
    "#Header 0 o Header None indica que la primera fila es la Cabecera\n",
    "# SEP Para que el delimitador de campos sea la , u Otro\n",
    "#Names se puedes crear a mano los titulos del Header Se pasa como un Array o Una lista con los nombres en {}\n",
    "#skiprows: entero o una lista, para saltar algunsa filas al leer el fichero se pasa en{}\n",
    "#index_col= Define que uan columna sea le indicador de \n",
    "#skip_blank_lines: True o False, en vez de cargar los valores en blanco se pueden saltar los que faltan.Por defecto NaN(False)\n",
    "df=pd.read_csv('../src/datasets/titanic/titanic3.csv', sep=',', header=0, )\n",
    "df.head()\n",
    "#df.dtypes"
   ]
  }
 ],
 "metadata": {
  "kernelspec": {
   "display_name": "Python 3",
   "language": "python",
   "name": "python3"
  },
  "language_info": {
   "codemirror_mode": {
    "name": "ipython",
    "version": 3
   },
   "file_extension": ".py",
   "mimetype": "text/x-python",
   "name": "python",
   "nbconvert_exporter": "python",
   "pygments_lexer": "ipython3",
   "version": "3.7.4"
  }
 },
 "nbformat": 4,
 "nbformat_minor": 2
}
