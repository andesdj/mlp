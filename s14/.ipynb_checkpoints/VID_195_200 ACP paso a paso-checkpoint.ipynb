{
 "cells": [
  {
   "cell_type": "markdown",
   "metadata": {},
   "source": [
    "### ACP PASO A PASO en construcción"
   ]
  },
  {
   "cell_type": "markdown",
   "metadata": {},
   "source": [
    "#### Como de pequeño puede ser el ACP"
   ]
  },
  {
   "cell_type": "markdown",
   "metadata": {},
   "source": [
    "* Estandarizar los datospara cada una de lsa m observaciones:  Normalizar por columnas\n",
    "* Obtener vectores y valores propios a partir de matriz de Covarianzas o de correlaciones  o la tecnica de Singular Vector Decomposition\n",
    "* Ordenar los valores propios en orden descendente y quedarnos con *p* que correspondan a los *p* mayores y asi disminuir el numero de variables del dataset (p<m)\n",
    "* Construir la matriz de proyeccion *W* a partir de los vectores propios\n",
    "* Transformar el dataset original *X* a traves de *W* para asi obtener datos en el subespacio dimensional  de Dimension *p*, que será Y"
   ]
  },
  {
   "cell_type": "code",
   "execution_count": 1,
   "metadata": {},
   "outputs": [
    {
     "data": {
      "text/html": [
       "<div>\n",
       "<style scoped>\n",
       "    .dataframe tbody tr th:only-of-type {\n",
       "        vertical-align: middle;\n",
       "    }\n",
       "\n",
       "    .dataframe tbody tr th {\n",
       "        vertical-align: top;\n",
       "    }\n",
       "\n",
       "    .dataframe thead th {\n",
       "        text-align: right;\n",
       "    }\n",
       "</style>\n",
       "<table border=\"1\" class=\"dataframe\">\n",
       "  <thead>\n",
       "    <tr style=\"text-align: right;\">\n",
       "      <th></th>\n",
       "      <th>Sepal.Length</th>\n",
       "      <th>Sepal.Width</th>\n",
       "      <th>Petal.Length</th>\n",
       "      <th>Petal.Width</th>\n",
       "      <th>Species</th>\n",
       "    </tr>\n",
       "  </thead>\n",
       "  <tbody>\n",
       "    <tr>\n",
       "      <th>0</th>\n",
       "      <td>5.1</td>\n",
       "      <td>3.5</td>\n",
       "      <td>1.4</td>\n",
       "      <td>0.2</td>\n",
       "      <td>setosa</td>\n",
       "    </tr>\n",
       "    <tr>\n",
       "      <th>1</th>\n",
       "      <td>4.9</td>\n",
       "      <td>3.0</td>\n",
       "      <td>1.4</td>\n",
       "      <td>0.2</td>\n",
       "      <td>setosa</td>\n",
       "    </tr>\n",
       "    <tr>\n",
       "      <th>2</th>\n",
       "      <td>4.7</td>\n",
       "      <td>3.2</td>\n",
       "      <td>1.3</td>\n",
       "      <td>0.2</td>\n",
       "      <td>setosa</td>\n",
       "    </tr>\n",
       "    <tr>\n",
       "      <th>3</th>\n",
       "      <td>4.6</td>\n",
       "      <td>3.1</td>\n",
       "      <td>1.5</td>\n",
       "      <td>0.2</td>\n",
       "      <td>setosa</td>\n",
       "    </tr>\n",
       "    <tr>\n",
       "      <th>4</th>\n",
       "      <td>5.0</td>\n",
       "      <td>3.6</td>\n",
       "      <td>1.4</td>\n",
       "      <td>0.2</td>\n",
       "      <td>setosa</td>\n",
       "    </tr>\n",
       "  </tbody>\n",
       "</table>\n",
       "</div>"
      ],
      "text/plain": [
       "   Sepal.Length  Sepal.Width  Petal.Length  Petal.Width Species\n",
       "0           5.1          3.5           1.4          0.2  setosa\n",
       "1           4.9          3.0           1.4          0.2  setosa\n",
       "2           4.7          3.2           1.3          0.2  setosa\n",
       "3           4.6          3.1           1.5          0.2  setosa\n",
       "4           5.0          3.6           1.4          0.2  setosa"
      ]
     },
     "execution_count": 1,
     "metadata": {},
     "output_type": "execute_result"
    }
   ],
   "source": [
    "import pandas as pd\n",
    "%config IPCompleter.greedy=True\n",
    "mpath='../src/datasets/iris'\n",
    "pfile='iris.csv'\n",
    "src=mpath+'/'+pfile\n",
    "df=pd.read_csv(src, sep=',' )\n",
    "df.head()"
   ]
  },
  {
   "cell_type": "code",
   "execution_count": 2,
   "metadata": {},
   "outputs": [],
   "source": [
    "X=df.iloc[:,0:4].values\n",
    "y=df.iloc[:,4].values"
   ]
  },
  {
   "cell_type": "code",
   "execution_count": 3,
   "metadata": {},
   "outputs": [
    {
     "data": {
      "text/plain": [
       "array([5.1, 3.5, 1.4, 0.2])"
      ]
     },
     "execution_count": 3,
     "metadata": {},
     "output_type": "execute_result"
    }
   ],
   "source": [
    "X[0]"
   ]
  },
  {
   "cell_type": "code",
   "execution_count": 4,
   "metadata": {},
   "outputs": [],
   "source": [
    "import chart_studio.plotly as py\n",
    "from plotly.graph_objs import *\n",
    "import chart_studio.tools as tls"
   ]
  },
  {
   "cell_type": "code",
   "execution_count": 5,
   "metadata": {},
   "outputs": [],
   "source": [
    "tls.set_credentials_file(username=\"andesdj\", api_key=\"7cwKc6jlT2q9p2lN4f9o\")"
   ]
  },
  {
   "cell_type": "code",
   "execution_count": 6,
   "metadata": {
    "scrolled": true
   },
   "outputs": [
    {
     "name": "stderr",
     "output_type": "stream",
     "text": [
      "C:\\Users\\root\\anaconda3\\lib\\site-packages\\plotly\\graph_objs\\_deprecations.py:441: DeprecationWarning: plotly.graph_objs.Marker is deprecated.\n",
      "Please replace it with one of the following more specific types\n",
      "  - plotly.graph_objs.scatter.Marker\n",
      "  - plotly.graph_objs.histogram.selected.Marker\n",
      "  - etc.\n",
      "\n",
      "  DeprecationWarning,\n",
      "C:\\Users\\root\\anaconda3\\lib\\site-packages\\plotly\\graph_objs\\_deprecations.py:40: DeprecationWarning: plotly.graph_objs.Data is deprecated.\n",
      "Please replace it with a list or tuple of instances of the following types\n",
      "  - plotly.graph_objs.Scatter\n",
      "  - plotly.graph_objs.Bar\n",
      "  - plotly.graph_objs.Area\n",
      "  - plotly.graph_objs.Histogram\n",
      "  - etc.\n",
      "\n",
      "  DeprecationWarning,\n",
      "C:\\Users\\root\\anaconda3\\lib\\site-packages\\plotly\\graph_objs\\_deprecations.py:550: DeprecationWarning: plotly.graph_objs.XAxis is deprecated.\n",
      "Please replace it with one of the following more specific types\n",
      "  - plotly.graph_objs.layout.XAxis\n",
      "  - plotly.graph_objs.layout.scene.XAxis\n",
      "\n",
      "  DeprecationWarning,\n",
      "C:\\Users\\root\\anaconda3\\lib\\site-packages\\plotly\\graph_objs\\_deprecations.py:578: DeprecationWarning: plotly.graph_objs.YAxis is deprecated.\n",
      "Please replace it with one of the following more specific types\n",
      "  - plotly.graph_objs.layout.YAxis\n",
      "  - plotly.graph_objs.layout.scene.YAxis\n",
      "\n",
      "  DeprecationWarning,\n"
     ]
    },
    {
     "data": {
      "text/html": [
       "\n",
       "        <iframe\n",
       "            width=\"100%\"\n",
       "            height=\"525px\"\n",
       "            src=\"https://plotly.com/~andesdj/17.embed\"\n",
       "            frameborder=\"0\"\n",
       "            allowfullscreen\n",
       "        ></iframe>\n",
       "        "
      ],
      "text/plain": [
       "<IPython.lib.display.IFrame at 0x1cc6b3420c8>"
      ]
     },
     "execution_count": 6,
     "metadata": {},
     "output_type": "execute_result"
    }
   ],
   "source": [
    "traces= []\n",
    "legend= {0:True, 1:True, 2:True, 3:True}\n",
    "\n",
    "colors={'setosa':     'rgb(255,127,20)',\n",
    "        'versicolor': 'rgb(31,220,120)',\n",
    "        'virginica':  'rgb(44,50,180)'}\n",
    "\n",
    "for col in range(4):\n",
    "    for key in colors:\n",
    "        traces.append(Histogram(x=X[y==key, col], opacity=0.6, \n",
    "                                xaxis=\"x%s\"%(col+1), marker= Marker(color=colors[key]),\n",
    "                               name= key, showlegend=legend[col]))\n",
    "    legend= {0:False, 1:False, 2:False, 3:False}\n",
    "data= Data(traces)\n",
    "layout= Layout(barmode=\"overlay\", \n",
    "              xaxis=XAxis(domain=[0,0.25], title=\"Long Sépalos (cm)\"),\n",
    "              xaxis2=XAxis(domain=[0.3,0.5], title=\"Ancho Sépalos (cm)\"),\n",
    "              xaxis3=XAxis(domain=[0.55,0.75], title=\"Long. Petalos (cm)\"),\n",
    "              xaxis4=XAxis(domain=[0.8,1.0], title=\"Anch. Petalos (cm)\"),\n",
    "              yaxis=YAxis(title=\"Numero de ejemplares\"),\n",
    "              title=\"Distribución de los ragos de las diferentes flores Iris\")\n",
    "fig= Figure(data= data, layout= layout)\n",
    "py.iplot(fig)\n",
    "              "
   ]
  },
  {
   "cell_type": "code",
   "execution_count": 7,
   "metadata": {},
   "outputs": [],
   "source": [
    "from sklearn.preprocessing import StandardScaler"
   ]
  },
  {
   "cell_type": "code",
   "execution_count": 8,
   "metadata": {},
   "outputs": [],
   "source": [
    "X_std=StandardScaler().fit_transform(X)\n"
   ]
  },
  {
   "cell_type": "code",
   "execution_count": 10,
   "metadata": {},
   "outputs": [
    {
     "data": {
      "text/html": [
       "\n",
       "        <iframe\n",
       "            width=\"100%\"\n",
       "            height=\"525px\"\n",
       "            src=\"https://plotly.com/~andesdj/21.embed\"\n",
       "            frameborder=\"0\"\n",
       "            allowfullscreen\n",
       "        ></iframe>\n",
       "        "
      ],
      "text/plain": [
       "<IPython.lib.display.IFrame at 0x1cc6d583448>"
      ]
     },
     "execution_count": 10,
     "metadata": {},
     "output_type": "execute_result"
    }
   ],
   "source": [
    "traces= []\n",
    "legend= {0:True, 1:True, 2:True, 3:True}\n",
    "\n",
    "colors={'setosa':     'rgb(255,127,20)',\n",
    "        'versicolor': 'rgb(31,220,120)',\n",
    "        'virginica':  'rgb(44,50,180)'}\n",
    "\n",
    "for col in range(4):\n",
    "    for key in colors:\n",
    "        traces.append(Histogram(x=X_std[y==key, col], opacity=0.6, \n",
    "                                xaxis=\"x%s\"%(col+1), marker= Marker(color=colors[key]),\n",
    "                               name= key, showlegend=legend[col]))\n",
    "    legend= {0:False, 1:False, 2:False, 3:False}\n",
    "data= Data(traces)\n",
    "layout= Layout(barmode=\"overlay\", \n",
    "              xaxis=XAxis(domain=[0,0.25], title=\"Long Sépalos (cm)\"),\n",
    "              xaxis2=XAxis(domain=[0.3,0.5], title=\"Ancho Sépalos (cm)\"),\n",
    "              xaxis3=XAxis(domain=[0.55,0.75], title=\"Long. Petalos (cm)\"),\n",
    "              xaxis4=XAxis(domain=[0.8,1.0], title=\"Anch. Petalos (cm)\"),\n",
    "              yaxis=YAxis(title=\"Numero de ejemplares\"),\n",
    "              title=\"Distribución de los ragos de las diferentes flores Iris\")\n",
    "fig= Figure(data= data, layout= layout)\n",
    "py.iplot(fig)\n",
    "              "
   ]
  },
  {
   "cell_type": "markdown",
   "metadata": {},
   "source": [
    "### 1-Calcular la descomposicion de valores y vectores propios"
   ]
  },
  {
   "cell_type": "code",
   "execution_count": 15,
   "metadata": {},
   "outputs": [],
   "source": [
    "from IPython.display import display, Math, Latex"
   ]
  },
  {
   "cell_type": "code",
   "execution_count": 20,
   "metadata": {},
   "outputs": [
    {
     "data": {
      "text/latex": [
       "$\\displaystyle \\sigma{jk}= \\frac{1}{n-1}\\sum_{i=1}^m (x_{ij}  - \\overline{x_j}) - overline{x_k}$"
      ],
      "text/plain": [
       "<IPython.core.display.Math object>"
      ]
     },
     "metadata": {},
     "output_type": "display_data"
    }
   ],
   "source": [
    "display(Math(r'\\sigma{jk}= \\frac{1}{n-1}\\sum_{i=1}^m (x_{ij}  - \\overline{x_j}) - overline{x_k}'))"
   ]
  },
  {
   "cell_type": "code",
   "execution_count": 27,
   "metadata": {},
   "outputs": [
    {
     "data": {
      "text/latex": [
       "$\\displaystyle \\Sigma = \\frac{1}{n-1} ((X-\\overline{x})^T(X-\\overline{x})) $"
      ],
      "text/plain": [
       "<IPython.core.display.Math object>"
      ]
     },
     "metadata": {},
     "output_type": "display_data"
    }
   ],
   "source": [
    "display(Math(r'\\Sigma = \\frac{1}{n-1} ((X-\\overline{x})^T(X-\\overline{x})) '))"
   ]
  },
  {
   "cell_type": "code",
   "execution_count": 29,
   "metadata": {},
   "outputs": [
    {
     "data": {
      "text/latex": [
       "$\\displaystyle \\overline{x} = \\sum_{1=1}^n x_i\\in \\mathbb R^m$"
      ],
      "text/plain": [
       "<IPython.core.display.Math object>"
      ]
     },
     "metadata": {},
     "output_type": "display_data"
    }
   ],
   "source": [
    "display(Math(r'\\overline{x} = \\sum_{1=1}^n x_i\\in \\mathbb R^m'))"
   ]
  },
  {
   "cell_type": "code",
   "execution_count": 31,
   "metadata": {},
   "outputs": [],
   "source": [
    "import numpy as np\n"
   ]
  },
  {
   "cell_type": "code",
   "execution_count": 35,
   "metadata": {},
   "outputs": [
    {
     "data": {
      "text/plain": [
       "array([-4.73695157e-16, -7.81597009e-16, -4.26325641e-16, -4.73695157e-16])"
      ]
     },
     "execution_count": 35,
     "metadata": {},
     "output_type": "execute_result"
    }
   ],
   "source": [
    "mean_vect=np.mean(X_std, axis=0)\n",
    "mean_vect"
   ]
  },
  {
   "cell_type": "code",
   "execution_count": 45,
   "metadata": {},
   "outputs": [
    {
     "name": "stdout",
     "output_type": "stream",
     "text": [
      "La matriz de covarianvzas es \n",
      "[[ 1.00671141 -0.11835884  0.87760447  0.82343066]\n",
      " [-0.11835884  1.00671141 -0.43131554 -0.36858315]\n",
      " [ 0.87760447 -0.43131554  1.00671141  0.96932762]\n",
      " [ 0.82343066 -0.36858315  0.96932762  1.00671141]]\n"
     ]
    }
   ],
   "source": [
    "cov_matrix=(X_std-mean_vect).T.dot((X_std-mean_vect))/ (X_std.shape[0]-1)\n",
    "print(\"La matriz de covarianvzas es \\n%s\"%cov_matrix)\n"
   ]
  },
  {
   "cell_type": "code",
   "execution_count": 47,
   "metadata": {},
   "outputs": [
    {
     "data": {
      "text/plain": [
       "array([[ 1.00671141, -0.11835884,  0.87760447,  0.82343066],\n",
       "       [-0.11835884,  1.00671141, -0.43131554, -0.36858315],\n",
       "       [ 0.87760447, -0.43131554,  1.00671141,  0.96932762],\n",
       "       [ 0.82343066, -0.36858315,  0.96932762,  1.00671141]])"
      ]
     },
     "execution_count": 47,
     "metadata": {},
     "output_type": "execute_result"
    }
   ],
   "source": [
    "np.cov(X_std.T)"
   ]
  },
  {
   "cell_type": "code",
   "execution_count": 50,
   "metadata": {},
   "outputs": [
    {
     "name": "stdout",
     "output_type": "stream",
     "text": [
      "Valores propios \n",
      "[2.93808505 0.9201649  0.14774182 0.02085386]\n",
      "Vectores propios \n",
      "[[ 0.52106591 -0.37741762 -0.71956635  0.26128628]\n",
      " [-0.26934744 -0.92329566  0.24438178 -0.12350962]\n",
      " [ 0.5804131  -0.02449161  0.14212637 -0.80144925]\n",
      " [ 0.56485654 -0.06694199  0.63427274  0.52359713]]\n"
     ]
    }
   ],
   "source": [
    "eig_vals, eig_vectors= np.linalg.eig(cov_matrix)\n",
    "print (\"Valores propios \\n%s\"%eig_vals)\n",
    "print (\"Vectores propios \\n%s\"%eig_vectors)"
   ]
  },
  {
   "cell_type": "markdown",
   "metadata": {},
   "source": [
    "#### b) Usando la matriz de correlaciones\n",
    "* Se usa mucho en el campo de las finanzas"
   ]
  },
  {
   "cell_type": "code",
   "execution_count": 53,
   "metadata": {},
   "outputs": [
    {
     "data": {
      "text/plain": [
       "array([[ 1.        , -0.11756978,  0.87175378,  0.81794113],\n",
       "       [-0.11756978,  1.        , -0.4284401 , -0.36612593],\n",
       "       [ 0.87175378, -0.4284401 ,  1.        ,  0.96286543],\n",
       "       [ 0.81794113, -0.36612593,  0.96286543,  1.        ]])"
      ]
     },
     "execution_count": 53,
     "metadata": {},
     "output_type": "execute_result"
    }
   ],
   "source": [
    "corr_matrix= np. corrcoef(X_std.T)\n",
    "corr_matrix"
   ]
  },
  {
   "cell_type": "code",
   "execution_count": 57,
   "metadata": {},
   "outputs": [
    {
     "name": "stdout",
     "output_type": "stream",
     "text": [
      "Valores propios \n",
      "[2.91849782 0.91403047 0.14675688 0.02071484]\n",
      "Vectores propios \n",
      "[[ 0.52106591 -0.37741762 -0.71956635  0.26128628]\n",
      " [-0.26934744 -0.92329566  0.24438178 -0.12350962]\n",
      " [ 0.5804131  -0.02449161  0.14212637 -0.80144925]\n",
      " [ 0.56485654 -0.06694199  0.63427274  0.52359713]]\n"
     ]
    }
   ],
   "source": [
    "eig_vals, eig_vectors= np.linalg.eig(corr_matrix)\n",
    "print (\"Valores propios \\n%s\"%eig_vals)\n",
    "print (\"Vectores propios \\n%s\"%eig_vectors)"
   ]
  },
  {
   "cell_type": "markdown",
   "metadata": {},
   "source": [
    " #### C) Singular Value Decomposition"
   ]
  },
  {
   "cell_type": "code",
   "execution_count": 59,
   "metadata": {},
   "outputs": [
    {
     "data": {
      "text/plain": [
       "array([[-0.52106591, -0.37741762,  0.71956635,  0.26128628],\n",
       "       [ 0.26934744, -0.92329566, -0.24438178, -0.12350962],\n",
       "       [-0.5804131 , -0.02449161, -0.14212637, -0.80144925],\n",
       "       [-0.56485654, -0.06694199, -0.63427274,  0.52359713]])"
      ]
     },
     "execution_count": 59,
     "metadata": {},
     "output_type": "execute_result"
    }
   ],
   "source": [
    "u,s,v= np.linalg.svd(X_std.T)\n",
    "u"
   ]
  },
  {
   "cell_type": "code",
   "execution_count": 61,
   "metadata": {},
   "outputs": [
    {
     "data": {
      "text/plain": [
       "array([20.92306556, 11.7091661 ,  4.69185798,  1.76273239])"
      ]
     },
     "execution_count": 61,
     "metadata": {},
     "output_type": "execute_result"
    }
   ],
   "source": [
    "s"
   ]
  },
  {
   "cell_type": "code",
   "execution_count": 62,
   "metadata": {},
   "outputs": [
    {
     "data": {
      "text/plain": [
       "array([[ 1.08239531e-01,  9.94577561e-02,  1.12996303e-01, ...,\n",
       "        -7.27030413e-02, -6.56112167e-02, -4.59137323e-02],\n",
       "       [-4.09957970e-02,  5.75731483e-02,  2.92000319e-02, ...,\n",
       "        -2.29793601e-02, -8.63643414e-02,  2.07800179e-03],\n",
       "       [ 2.72186462e-02,  5.00034005e-02, -9.42089147e-03, ...,\n",
       "        -3.84023516e-02, -1.98939364e-01, -1.12588405e-01],\n",
       "       ...,\n",
       "       [ 5.43380310e-02,  5.12936114e-03,  2.75184277e-02, ...,\n",
       "         9.89532683e-01, -1.41206665e-02, -8.30595907e-04],\n",
       "       [ 1.96438400e-03,  8.48544595e-02,  1.78604309e-01, ...,\n",
       "        -1.25488246e-02,  9.52049996e-01, -2.19201906e-02],\n",
       "       [ 2.46978090e-03,  5.83496936e-03,  1.49419118e-01, ...,\n",
       "        -7.17729676e-04, -2.32048811e-02,  9.77300244e-01]])"
      ]
     },
     "execution_count": 62,
     "metadata": {},
     "output_type": "execute_result"
    }
   ],
   "source": [
    "v"
   ]
  },
  {
   "cell_type": "markdown",
   "metadata": {},
   "source": [
    "### 2 las Componentes principales"
   ]
  },
  {
   "cell_type": "code",
   "execution_count": 65,
   "metadata": {},
   "outputs": [
    {
     "name": "stdout",
     "output_type": "stream",
     "text": [
      "La longitud del vector propio es: 0.9999999999999996 \n",
      "La longitud del vector propio es: 1.0 \n",
      "La longitud del vector propio es: 0.9999999999999999 \n",
      "La longitud del vector propio es: 1.0000000000000002 \n"
     ]
    }
   ],
   "source": [
    "for ev in eig_vectors:\n",
    "    print (\"La longitud del vector propio es: %s \"%np.linalg.norm(ev))"
   ]
  },
  {
   "cell_type": "code",
   "execution_count": 69,
   "metadata": {},
   "outputs": [
    {
     "data": {
      "text/plain": [
       "[(2.918497816531996,\n",
       "  array([-0.37741762, -0.92329566, -0.02449161, -0.06694199])),\n",
       " (0.9140304714680699,\n",
       "  array([-0.37741762, -0.92329566, -0.02449161, -0.06694199])),\n",
       " (0.1467568755713154,\n",
       "  array([-0.37741762, -0.92329566, -0.02449161, -0.06694199])),\n",
       " (0.020714836428619078,\n",
       "  array([-0.37741762, -0.92329566, -0.02449161, -0.06694199]))]"
      ]
     },
     "execution_count": 69,
     "metadata": {},
     "output_type": "execute_result"
    }
   ],
   "source": [
    "eigen_pairs=[(np.abs(eig_vals[i]), eig_vectors[:,1]) for i in range(len(eig_vals)) ]\n",
    "eigen_pairs"
   ]
  },
  {
   "cell_type": "code",
   "execution_count": 71,
   "metadata": {},
   "outputs": [],
   "source": [
    "# Ordenar vectores propios con valor propio de mayor a menor\n",
    "eigen_pairs.sort()\n",
    "\n",
    "eigen_pairs.reverse()\n",
    "    "
   ]
  },
  {
   "cell_type": "code",
   "execution_count": 77,
   "metadata": {},
   "outputs": [
    {
     "name": "stdout",
     "output_type": "stream",
     "text": [
      "Valores propios en orden descendente:\n",
      "2.918497816531996\n",
      "0.9140304714680699\n",
      "0.1467568755713154\n",
      "0.020714836428619078\n"
     ]
    }
   ],
   "source": [
    "print (\"Valores propios en orden descendente:\")\n",
    "for ep in eigen_pairs:\n",
    "    print(ep[0])"
   ]
  },
  {
   "cell_type": "code",
   "execution_count": 79,
   "metadata": {},
   "outputs": [],
   "source": [
    "## Explicacion de la varianza -  Valiranza explicativa"
   ]
  },
  {
   "cell_type": "code",
   "execution_count": 94,
   "metadata": {},
   "outputs": [],
   "source": [
    "total_sum= sum(eig_vals)\n",
    "var_exp= [(i/total_sum)*100 for i in sorted(eig_vals, reverse=True)]\n",
    "cum_var_exp = np.cumsum(var_exp)"
   ]
  },
  {
   "cell_type": "code",
   "execution_count": 97,
   "metadata": {},
   "outputs": [
    {
     "data": {
      "text/html": [
       "\n",
       "        <iframe\n",
       "            width=\"100%\"\n",
       "            height=\"525px\"\n",
       "            src=\"https://plotly.com/~andesdj/31.embed\"\n",
       "            frameborder=\"0\"\n",
       "            allowfullscreen\n",
       "        ></iframe>\n",
       "        "
      ],
      "text/plain": [
       "<IPython.lib.display.IFrame at 0x1cc6d7ad7c8>"
      ]
     },
     "execution_count": 97,
     "metadata": {},
     "output_type": "execute_result"
    }
   ],
   "source": [
    "plot1= Bar(x= [\"CP %s\"%i for i in range(1,5)], y= var_exp, showlegend=False)\n",
    "plot2= Scatter(x=[\"CP %s\"%i for i in range(1,5)], y= cum_var_exp, showlegend=True, name=\"% Varianza explicada acumulada\")\n",
    "\n",
    "data = Data([plot1,plot2])\n",
    "\n",
    "layout= Layout(xaxis= XAxis(title=\" Componentes principales\"),\n",
    "               yaxis= YAxis(title= \" Porcentaje de varianza explicada\"),\n",
    "               title= \"Porcentaje de variabilidad  explicada x cada componente principal\"\n",
    "              )\n",
    "fig= Figure(data=data, layout=layout)\n",
    "py.iplot(fig)"
   ]
  },
  {
   "cell_type": "code",
   "execution_count": 101,
   "metadata": {},
   "outputs": [
    {
     "data": {
      "text/plain": [
       "array([[-0.37741762, -0.37741762],\n",
       "       [-0.92329566, -0.92329566],\n",
       "       [-0.02449161, -0.02449161],\n",
       "       [-0.06694199, -0.06694199]])"
      ]
     },
     "execution_count": 101,
     "metadata": {},
     "output_type": "execute_result"
    }
   ],
   "source": [
    "W= np.hstack((eigen_pairs[0][1].reshape(4,1),\n",
    "             eigen_pairs[1][1].reshape(4,1)))\n",
    "W"
   ]
  },
  {
   "cell_type": "code",
   "execution_count": 106,
   "metadata": {},
   "outputs": [
    {
     "data": {
      "text/plain": [
       "array([5.1, 3.5, 1.4, 0.2])"
      ]
     },
     "execution_count": 106,
     "metadata": {},
     "output_type": "execute_result"
    }
   ],
   "source": [
    "X[0]\n",
    "# Antes se usaban todas las dimensiones (4) ahora se usarán las 2"
   ]
  },
  {
   "cell_type": "markdown",
   "metadata": {},
   "source": [
    "### 3 Proyectando las variables en nuevo subespacio vectorial\n",
    "* Pasar de 4 dimensiones a 2"
   ]
  },
  {
   "cell_type": "code",
   "execution_count": 109,
   "metadata": {},
   "outputs": [
    {
     "data": {
      "text/latex": [
       "$\\displaystyle Y= X \\cdot W, x \\in M(\\mathbb R)_ {150,4}, \" \\in M(\\mathbb R)_{4,2}, Y \\in M(\\mathbb R)_{150,2}$"
      ],
      "text/plain": [
       "<IPython.core.display.Math object>"
      ]
     },
     "metadata": {},
     "output_type": "display_data"
    }
   ],
   "source": [
    "display(Math(r'Y= X \\cdot W, x \\in M(\\mathbb R)_ {150,4}, \" \\in M(\\mathbb R)_{4,2}, Y \\in M(\\mathbb R)_{150,2}'))"
   ]
  },
  {
   "cell_type": "code",
   "execution_count": 111,
   "metadata": {
    "collapsed": true
   },
   "outputs": [
    {
     "data": {
      "text/plain": [
       "array([[-0.4800266 , -0.4800266 ],\n",
       "       [ 0.67413356,  0.67413356],\n",
       "       [ 0.34190802,  0.34190802],\n",
       "       [ 0.59739451,  0.59739451],\n",
       "       [-0.64683538, -0.64683538],\n",
       "       [-1.48917752, -1.48917752],\n",
       "       [-0.0476442 , -0.0476442 ],\n",
       "       [-0.22314807, -0.22314807],\n",
       "       [ 1.11532768,  1.11532768],\n",
       "       [ 0.46901356,  0.46901356],\n",
       "       [-1.04369065, -1.04369065],\n",
       "       [-0.13307834, -0.13307834],\n",
       "       [ 0.72867617,  0.72867617],\n",
       "       [ 0.96150673,  0.96150673],\n",
       "       [-1.86005711, -1.86005711],\n",
       "       [-2.68628449, -2.68628449],\n",
       "       [-1.48360936, -1.48360936],\n",
       "       [-0.48883832, -0.48883832],\n",
       "       [-1.40501879, -1.40501879],\n",
       "       [-1.12784938, -1.12784938],\n",
       "       [-0.40885571, -0.40885571],\n",
       "       [-0.92412143, -0.92412143],\n",
       "       [-0.45834367, -0.45834367],\n",
       "       [-0.08555853, -0.08555853],\n",
       "       [-0.13725446, -0.13725446],\n",
       "       [ 0.62561859,  0.62561859],\n",
       "       [-0.24216355, -0.24216355],\n",
       "       [-0.52714953, -0.52714953],\n",
       "       [-0.31321781, -0.31321781],\n",
       "       [ 0.3377319 ,  0.3377319 ],\n",
       "       [ 0.50454069,  0.50454069],\n",
       "       [-0.42369507, -0.42369507],\n",
       "       [-1.79357586, -1.79357586],\n",
       "       [-2.15072788, -2.15072788],\n",
       "       [ 0.46020184,  0.46020184],\n",
       "       [ 0.2061074 ,  0.2061074 ],\n",
       "       [-0.66155811, -0.66155811],\n",
       "       [-0.59229277, -0.59229277],\n",
       "       [ 0.90418004,  0.90418004],\n",
       "       [-0.26887896, -0.26887896],\n",
       "       [-0.44171539, -0.44171539],\n",
       "       [ 2.33741516,  2.33741516],\n",
       "       [ 0.47910069,  0.47910069],\n",
       "       [-0.47232667, -0.47232667],\n",
       "       [-1.14222926, -1.14222926],\n",
       "       [ 0.71105273,  0.71105273],\n",
       "       [-1.1204297 , -1.1204297 ],\n",
       "       [ 0.38624687,  0.38624687],\n",
       "       [-0.99795976, -0.99795976],\n",
       "       [-0.00921636, -0.00921636],\n",
       "       [-0.86297242, -0.86297242],\n",
       "       [-0.59461473, -0.59461473],\n",
       "       [-0.61629765, -0.61629765],\n",
       "       [ 1.75440399,  1.75440399],\n",
       "       [ 0.20842105,  0.20842105],\n",
       "       [ 0.59328364,  0.59328364],\n",
       "       [-0.77301931, -0.77301931],\n",
       "       [ 1.85242909,  1.85242909],\n",
       "       [-0.03222608, -0.03222608],\n",
       "       [ 1.03401828,  1.03401828],\n",
       "       [ 2.65407282,  2.65407282],\n",
       "       [ 0.06329519,  0.06329519],\n",
       "       [ 1.76472438,  1.76472438],\n",
       "       [ 0.18622461,  0.18622461],\n",
       "       [ 0.43900321,  0.43900321],\n",
       "       [-0.50906396, -0.50906396],\n",
       "       [ 0.19631173,  0.19631173],\n",
       "       [ 0.79209574,  0.79209574],\n",
       "       [ 1.6222438 ,  1.6222438 ],\n",
       "       [ 1.30260923,  1.30260923],\n",
       "       [-0.39657156, -0.39657156],\n",
       "       [ 0.41732028,  0.41732028],\n",
       "       [ 0.93332573,  0.93332573],\n",
       "       [ 0.41638772,  0.41638772],\n",
       "       [ 0.06341182,  0.06341182],\n",
       "       [-0.25079339, -0.25079339],\n",
       "       [ 0.07725602,  0.07725602],\n",
       "       [-0.33131168, -0.33131168],\n",
       "       [ 0.22592785,  0.22592785],\n",
       "       [ 1.05871855,  1.05871855],\n",
       "       [ 1.56227183,  1.56227183],\n",
       "       [ 1.57247559,  1.57247559],\n",
       "       [ 0.77725638,  0.77725638],\n",
       "       [ 0.63384324,  0.63384324],\n",
       "       [ 0.28777351,  0.28777351],\n",
       "       [-0.84558224, -0.84558224],\n",
       "       [-0.5220518 , -0.5220518 ],\n",
       "       [ 1.38298872,  1.38298872],\n",
       "       [ 0.21950333,  0.21950333],\n",
       "       [ 1.32932464,  1.32932464],\n",
       "       [ 1.12002852,  1.12002852],\n",
       "       [-0.02492303, -0.02492303],\n",
       "       [ 0.98840402,  0.98840402],\n",
       "       [ 2.01923787,  2.01923787],\n",
       "       [ 0.85573032,  0.85573032],\n",
       "       [ 0.18119213,  0.18119213],\n",
       "       [ 0.38492008,  0.38492008],\n",
       "       [ 0.1548736 ,  0.1548736 ],\n",
       "       [ 1.54379203,  1.54379203],\n",
       "       [ 0.5988518 ,  0.5988518 ],\n",
       "       [-0.87042131, -0.87042131],\n",
       "       [ 0.69886986,  0.69886986],\n",
       "       [-0.56201048, -0.56201048],\n",
       "       [ 0.04698759,  0.04698759],\n",
       "       [-0.29504482, -0.29504482],\n",
       "       [-0.8004092 , -0.8004092 ],\n",
       "       [ 1.56150289,  1.56150289],\n",
       "       [-0.42006558, -0.42006558],\n",
       "       [ 0.71143865,  0.71143865],\n",
       "       [-1.92101038, -1.92101038],\n",
       "       [-0.69275645, -0.69275645],\n",
       "       [ 0.42170045,  0.42170045],\n",
       "       [-0.41924965, -0.41924965],\n",
       "       [ 1.16226042,  1.16226042],\n",
       "       [ 0.44227159,  0.44227159],\n",
       "       [-0.67624481, -0.67624481],\n",
       "       [-0.25562182, -0.25562182],\n",
       "       [-2.55666125, -2.55666125],\n",
       "       [-0.01778095, -0.01778095],\n",
       "       [ 1.70674538,  1.70674538],\n",
       "       [-0.91046741, -0.91046741],\n",
       "       [ 0.57176432,  0.57176432],\n",
       "       [-0.41364106, -0.41364106],\n",
       "       [ 0.48181122,  0.48181122],\n",
       "       [-1.01392187, -1.01392187],\n",
       "       [-1.0077776 , -1.0077776 ],\n",
       "       [ 0.31639447,  0.31639447],\n",
       "       [-0.06434603, -0.06434603],\n",
       "       [ 0.18736121,  0.18736121],\n",
       "       [-0.56229073, -0.56229073],\n",
       "       [-0.25928443, -0.25928443],\n",
       "       [-2.62632347, -2.62632347],\n",
       "       [ 0.17854949,  0.17854949],\n",
       "       [ 0.29292262,  0.29292262],\n",
       "       [ 0.81131527,  0.81131527],\n",
       "       [-0.85680333, -0.85680333],\n",
       "       [-1.06858111, -1.06858111],\n",
       "       [-0.42243061, -0.42243061],\n",
       "       [-0.0172231 , -0.0172231 ],\n",
       "       [-0.67612817, -0.67612817],\n",
       "       [-0.61388564, -0.61388564],\n",
       "       [-0.68957549, -0.68957549],\n",
       "       [ 0.69886986,  0.69886986],\n",
       "       [-0.8675206 , -0.8675206 ],\n",
       "       [-1.04916875, -1.04916875],\n",
       "       [-0.38696608, -0.38696608],\n",
       "       [ 0.89668681,  0.89668681],\n",
       "       [-0.26906914, -0.26906914],\n",
       "       [-1.01125442, -1.01125442],\n",
       "       [ 0.02433167,  0.02433167]])"
      ]
     },
     "execution_count": 111,
     "metadata": {},
     "output_type": "execute_result"
    }
   ],
   "source": [
    "Y= X_std.dot(W)\n",
    "Y"
   ]
  },
  {
   "cell_type": "code",
   "execution_count": 144,
   "metadata": {},
   "outputs": [],
   "source": [
    "results= []\n",
    "\n",
    "for name in ('setosa', 'versicolor', 'virginica'):\n",
    "    result= Scatter(x=Y[y==name,0], y=Y[y==name, 1], \n",
    "                   mode= \"markers\", name=name,\n",
    "                   marker=Marker(size=12, line= Line(color=\"rgba(200,200,200 0.2)\", width= 0.5), opacity= 0.8))\n",
    "    results.append(result)\n"
   ]
  },
  {
   "cell_type": "code",
   "execution_count": 148,
   "metadata": {},
   "outputs": [
    {
     "data": {
      "text/plain": [
       "[Scatter({\n",
       "     'marker': {'line': {'color': 'rgba(200,200,200 0.2)', 'width': 0.5}, 'opacity': 0.8, 'size': 12},\n",
       "     'mode': 'markers',\n",
       "     'name': 'setosa',\n",
       "     'x': array([-0.4800266 ,  0.67413356,  0.34190802,  0.59739451, -0.64683538,\n",
       "                 -1.48917752, -0.0476442 , -0.22314807,  1.11532768,  0.46901356,\n",
       "                 -1.04369065, -0.13307834,  0.72867617,  0.96150673, -1.86005711,\n",
       "                 -2.68628449, -1.48360936, -0.48883832, -1.40501879, -1.12784938,\n",
       "                 -0.40885571, -0.92412143, -0.45834367, -0.08555853, -0.13725446,\n",
       "                  0.62561859, -0.24216355, -0.52714953, -0.31321781,  0.3377319 ,\n",
       "                  0.50454069, -0.42369507, -1.79357586, -2.15072788,  0.46020184,\n",
       "                  0.2061074 , -0.66155811, -0.59229277,  0.90418004, -0.26887896,\n",
       "                 -0.44171539,  2.33741516,  0.47910069, -0.47232667, -1.14222926,\n",
       "                  0.71105273, -1.1204297 ,  0.38624687, -0.99795976, -0.00921636]),\n",
       "     'y': array([-0.4800266 ,  0.67413356,  0.34190802,  0.59739451, -0.64683538,\n",
       "                 -1.48917752, -0.0476442 , -0.22314807,  1.11532768,  0.46901356,\n",
       "                 -1.04369065, -0.13307834,  0.72867617,  0.96150673, -1.86005711,\n",
       "                 -2.68628449, -1.48360936, -0.48883832, -1.40501879, -1.12784938,\n",
       "                 -0.40885571, -0.92412143, -0.45834367, -0.08555853, -0.13725446,\n",
       "                  0.62561859, -0.24216355, -0.52714953, -0.31321781,  0.3377319 ,\n",
       "                  0.50454069, -0.42369507, -1.79357586, -2.15072788,  0.46020184,\n",
       "                  0.2061074 , -0.66155811, -0.59229277,  0.90418004, -0.26887896,\n",
       "                 -0.44171539,  2.33741516,  0.47910069, -0.47232667, -1.14222926,\n",
       "                  0.71105273, -1.1204297 ,  0.38624687, -0.99795976, -0.00921636])\n",
       " }),\n",
       " Scatter({\n",
       "     'marker': {'line': {'color': 'rgba(200,200,200 0.2)', 'width': 0.5}, 'opacity': 0.8, 'size': 12},\n",
       "     'mode': 'markers',\n",
       "     'name': 'versicolor',\n",
       "     'x': array([-0.86297242, -0.59461473, -0.61629765,  1.75440399,  0.20842105,\n",
       "                  0.59328364, -0.77301931,  1.85242909, -0.03222608,  1.03401828,\n",
       "                  2.65407282,  0.06329519,  1.76472438,  0.18622461,  0.43900321,\n",
       "                 -0.50906396,  0.19631173,  0.79209574,  1.6222438 ,  1.30260923,\n",
       "                 -0.39657156,  0.41732028,  0.93332573,  0.41638772,  0.06341182,\n",
       "                 -0.25079339,  0.07725602, -0.33131168,  0.22592785,  1.05871855,\n",
       "                  1.56227183,  1.57247559,  0.77725638,  0.63384324,  0.28777351,\n",
       "                 -0.84558224, -0.5220518 ,  1.38298872,  0.21950333,  1.32932464,\n",
       "                  1.12002852, -0.02492303,  0.98840402,  2.01923787,  0.85573032,\n",
       "                  0.18119213,  0.38492008,  0.1548736 ,  1.54379203,  0.5988518 ]),\n",
       "     'y': array([-0.86297242, -0.59461473, -0.61629765,  1.75440399,  0.20842105,\n",
       "                  0.59328364, -0.77301931,  1.85242909, -0.03222608,  1.03401828,\n",
       "                  2.65407282,  0.06329519,  1.76472438,  0.18622461,  0.43900321,\n",
       "                 -0.50906396,  0.19631173,  0.79209574,  1.6222438 ,  1.30260923,\n",
       "                 -0.39657156,  0.41732028,  0.93332573,  0.41638772,  0.06341182,\n",
       "                 -0.25079339,  0.07725602, -0.33131168,  0.22592785,  1.05871855,\n",
       "                  1.56227183,  1.57247559,  0.77725638,  0.63384324,  0.28777351,\n",
       "                 -0.84558224, -0.5220518 ,  1.38298872,  0.21950333,  1.32932464,\n",
       "                  1.12002852, -0.02492303,  0.98840402,  2.01923787,  0.85573032,\n",
       "                  0.18119213,  0.38492008,  0.1548736 ,  1.54379203,  0.5988518 ])\n",
       " }),\n",
       " Scatter({\n",
       "     'marker': {'line': {'color': 'rgba(200,200,200 0.2)', 'width': 0.5}, 'opacity': 0.8, 'size': 12},\n",
       "     'mode': 'markers',\n",
       "     'name': 'virginica',\n",
       "     'x': array([-0.87042131,  0.69886986, -0.56201048,  0.04698759, -0.29504482,\n",
       "                 -0.8004092 ,  1.56150289, -0.42006558,  0.71143865, -1.92101038,\n",
       "                 -0.69275645,  0.42170045, -0.41924965,  1.16226042,  0.44227159,\n",
       "                 -0.67624481, -0.25562182, -2.55666125, -0.01778095,  1.70674538,\n",
       "                 -0.91046741,  0.57176432, -0.41364106,  0.48181122, -1.01392187,\n",
       "                 -1.0077776 ,  0.31639447, -0.06434603,  0.18736121, -0.56229073,\n",
       "                 -0.25928443, -2.62632347,  0.17854949,  0.29292262,  0.81131527,\n",
       "                 -0.85680333, -1.06858111, -0.42243061, -0.0172231 , -0.67612817,\n",
       "                 -0.61388564, -0.68957549,  0.69886986, -0.8675206 , -1.04916875,\n",
       "                 -0.38696608,  0.89668681, -0.26906914, -1.01125442,  0.02433167]),\n",
       "     'y': array([-0.87042131,  0.69886986, -0.56201048,  0.04698759, -0.29504482,\n",
       "                 -0.8004092 ,  1.56150289, -0.42006558,  0.71143865, -1.92101038,\n",
       "                 -0.69275645,  0.42170045, -0.41924965,  1.16226042,  0.44227159,\n",
       "                 -0.67624481, -0.25562182, -2.55666125, -0.01778095,  1.70674538,\n",
       "                 -0.91046741,  0.57176432, -0.41364106,  0.48181122, -1.01392187,\n",
       "                 -1.0077776 ,  0.31639447, -0.06434603,  0.18736121, -0.56229073,\n",
       "                 -0.25928443, -2.62632347,  0.17854949,  0.29292262,  0.81131527,\n",
       "                 -0.85680333, -1.06858111, -0.42243061, -0.0172231 , -0.67612817,\n",
       "                 -0.61388564, -0.68957549,  0.69886986, -0.8675206 , -1.04916875,\n",
       "                 -0.38696608,  0.89668681, -0.26906914, -1.01125442,  0.02433167])\n",
       " })]"
      ]
     },
     "execution_count": 148,
     "metadata": {},
     "output_type": "execute_result"
    }
   ],
   "source": [
    "results"
   ]
  },
  {
   "cell_type": "code",
   "execution_count": 147,
   "metadata": {},
   "outputs": [
    {
     "ename": "TypeError",
     "evalue": "'Data' object is not callable",
     "output_type": "error",
     "traceback": [
      "\u001b[1;31m---------------------------------------------------------------------------\u001b[0m",
      "\u001b[1;31mTypeError\u001b[0m                                 Traceback (most recent call last)",
      "\u001b[1;32m<ipython-input-147-bfdbffdcb432>\u001b[0m in \u001b[0;36m<module>\u001b[1;34m\u001b[0m\n\u001b[1;32m----> 1\u001b[1;33m \u001b[0mdata\u001b[0m \u001b[1;33m=\u001b[0m \u001b[0mData\u001b[0m\u001b[1;33m(\u001b[0m\u001b[0mresults\u001b[0m\u001b[1;33m)\u001b[0m\u001b[1;33m\u001b[0m\u001b[1;33m\u001b[0m\u001b[0m\n\u001b[0m\u001b[0;32m      2\u001b[0m layout=Layout(showlegend=True, scene = Scene(xaxis=XAxis(title=\"Componente Principal 1\"),\n\u001b[0;32m      3\u001b[0m                                             yaxis=YAxis(title=\"Componente Principal 2\")))\n\u001b[0;32m      4\u001b[0m \u001b[0mfig\u001b[0m\u001b[1;33m=\u001b[0m\u001b[0mFigure\u001b[0m\u001b[1;33m(\u001b[0m\u001b[0mdata\u001b[0m\u001b[1;33m=\u001b[0m\u001b[0mdata\u001b[0m\u001b[1;33m,\u001b[0m \u001b[0mlayout\u001b[0m\u001b[1;33m=\u001b[0m\u001b[0mlayout\u001b[0m\u001b[1;33m)\u001b[0m\u001b[1;33m\u001b[0m\u001b[1;33m\u001b[0m\u001b[0m\n\u001b[0;32m      5\u001b[0m \u001b[1;33m\u001b[0m\u001b[0m\n",
      "\u001b[1;31mTypeError\u001b[0m: 'Data' object is not callable"
     ]
    }
   ],
   "source": [
    "data = Data(results)\n",
    "layout=Layout(showlegend=True, scene = Scene(xaxis=XAxis(title=\"Componente Principal 1\"),\n",
    "                                            yaxis=YAxis(title=\"Componente Principal 2\")))\n",
    "fig=Figure(data=data, layout=layout)\n",
    "\n",
    "py.iplot(fig)"
   ]
  }
 ],
 "metadata": {
  "kernelspec": {
   "display_name": "Python 3",
   "language": "python",
   "name": "python3"
  },
  "language_info": {
   "codemirror_mode": {
    "name": "ipython",
    "version": 3
   },
   "file_extension": ".py",
   "mimetype": "text/x-python",
   "name": "python",
   "nbconvert_exporter": "python",
   "pygments_lexer": "ipython3",
   "version": "3.7.6"
  }
 },
 "nbformat": 4,
 "nbformat_minor": 4
}
