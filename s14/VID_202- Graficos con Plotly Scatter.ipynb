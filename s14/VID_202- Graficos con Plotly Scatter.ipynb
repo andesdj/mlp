{
 "cells": [
  {
   "cell_type": "code",
   "execution_count": 91,
   "metadata": {},
   "outputs": [],
   "source": [
    "import chart_studio.plotly as py\n",
    "import pandas as pd\n",
    "import numpy as np\n",
    "import plotly.graph_objs as go\n",
    "import chart_studio.tools as tls\n",
    "import plotly\n",
    "tls.set_credentials_file(username=\"andesdj\", api_key=\"7cwKc6jlT2q9p2lN4f9o\")"
   ]
  },
  {
   "cell_type": "markdown",
   "metadata": {},
   "source": [
    "## Gráficos con Plotly"
   ]
  },
  {
   "cell_type": "code",
   "execution_count": 10,
   "metadata": {},
   "outputs": [
    {
     "data": {
      "text/plain": [
       "'4.9.0'"
      ]
     },
     "execution_count": 10,
     "metadata": {},
     "output_type": "execute_result"
    }
   ],
   "source": [
    "plotly.__version__"
   ]
  },
  {
   "cell_type": "code",
   "execution_count": 12,
   "metadata": {
    "collapsed": true
   },
   "outputs": [
    {
     "name": "stdout",
     "output_type": "stream",
     "text": [
      "Help on package plotly:\n",
      "\n",
      "NAME\n",
      "    plotly - https://plot.ly/python/\n",
      "\n",
      "DESCRIPTION\n",
      "    Plotly's Python API allows users to programmatically access Plotly's\n",
      "    server resources.\n",
      "    \n",
      "    This package is organized as follows:\n",
      "    \n",
      "    Subpackages:\n",
      "    \n",
      "    - plotly: all functionality that requires access to Plotly's servers\n",
      "    \n",
      "    - graph_objs: objects for designing figures and visualizing data\n",
      "    \n",
      "    - matplotlylib: tools to convert matplotlib figures\n",
      "    \n",
      "    Modules:\n",
      "    \n",
      "    - tools: some helpful tools that do not require access to Plotly's servers\n",
      "    \n",
      "    - utils: functions that you probably won't need, but that subpackages use\n",
      "    \n",
      "    - version: holds the current API version\n",
      "    \n",
      "    - exceptions: defines our custom exception classes\n",
      "\n",
      "PACKAGE CONTENTS\n",
      "    _docstring_gen\n",
      "    _version\n",
      "    _widget_version\n",
      "    animation\n",
      "    basedatatypes\n",
      "    basewidget\n",
      "    callbacks\n",
      "    colors (package)\n",
      "    config\n",
      "    conftest\n",
      "    dashboard_objs\n",
      "    data (package)\n",
      "    exceptions\n",
      "    express (package)\n",
      "    figure_factory (package)\n",
      "    files\n",
      "    graph_objects (package)\n",
      "    graph_objs (package)\n",
      "    grid_objs\n",
      "    io (package)\n",
      "    matplotlylib (package)\n",
      "    missing_ipywidgets\n",
      "    offline (package)\n",
      "    optional_imports\n",
      "    plotly (package)\n",
      "    presentation_objs\n",
      "    serializers\n",
      "    session\n",
      "    subplots\n",
      "    tools\n",
      "    utils\n",
      "    validator_cache\n",
      "    validators (package)\n",
      "    version\n",
      "    widgets\n",
      "\n",
      "VERSION\n",
      "    4.9.0\n",
      "\n",
      "FILE\n",
      "    c:\\users\\root\\anaconda3\\lib\\site-packages\\plotly\\__init__.py\n",
      "\n",
      "\n"
     ]
    }
   ],
   "source": [
    "help(plotly)"
   ]
  },
  {
   "cell_type": "markdown",
   "metadata": {},
   "source": [
    "## Scatter plots sencillos"
   ]
  },
  {
   "cell_type": "code",
   "execution_count": 16,
   "metadata": {},
   "outputs": [],
   "source": [
    "N=2000\n",
    "random_x= np.random.randn(N)\n",
    "random_y= np.random.randn(N)"
   ]
  },
  {
   "cell_type": "code",
   "execution_count": 20,
   "metadata": {},
   "outputs": [
    {
     "data": {
      "text/html": [
       "\n",
       "        <iframe\n",
       "            width=\"100%\"\n",
       "            height=\"525px\"\n",
       "            src=\"https://plotly.com/~andesdj/55.embed\"\n",
       "            frameborder=\"0\"\n",
       "            allowfullscreen\n",
       "        ></iframe>\n",
       "        "
      ],
      "text/plain": [
       "<IPython.lib.display.IFrame at 0x1cdac0bb588>"
      ]
     },
     "execution_count": 20,
     "metadata": {},
     "output_type": "execute_result"
    }
   ],
   "source": [
    "trace= go.Scatter(x=random_x, y=random_y, mode=\"markers\")\n",
    "py.iplot([trace], filename=\"basic-scatter\")"
   ]
  },
  {
   "cell_type": "code",
   "execution_count": 23,
   "metadata": {},
   "outputs": [
    {
     "data": {
      "text/plain": [
       "'https://plotly.com/~andesdj/58/'"
      ]
     },
     "execution_count": 23,
     "metadata": {},
     "output_type": "execute_result"
    }
   ],
   "source": [
    "plot_url=py.plot([trace], filename=\"bascic-scatter-inline\")\n",
    "plot_url"
   ]
  },
  {
   "cell_type": "markdown",
   "metadata": {},
   "source": [
    "### Graficos combinados"
   ]
  },
  {
   "cell_type": "code",
   "execution_count": 49,
   "metadata": {},
   "outputs": [],
   "source": [
    "N= 200\n",
    "rand_x= np.linspace(0,1, N)\n",
    "rand_y0=  np.random.rand(N) + 1\n",
    "rand_y1=  np.random.rand(N)\n",
    "rand_y2=  np.random.rand(N) - 1\n"
   ]
  },
  {
   "cell_type": "code",
   "execution_count": null,
   "metadata": {},
   "outputs": [],
   "source": []
  },
  {
   "cell_type": "code",
   "execution_count": 50,
   "metadata": {},
   "outputs": [],
   "source": [
    "trace0 = go.Scatter(x=rand_x, y= rand_y0, mode=\"markers\", name=\"Puntos\")\n",
    "trace1 = go.Scatter(x=rand_x, y= rand_y1, mode=\"lines\", name=\"Lineas\")\n",
    "trace2 = go.Scatter(x=rand_x, y= rand_y2, mode=\"lines+markers\", name=\"Puntos y lineas\")\n",
    "data=[trace0,trace1,trace2]\n",
    "\n"
   ]
  },
  {
   "cell_type": "code",
   "execution_count": 51,
   "metadata": {},
   "outputs": [
    {
     "data": {
      "text/html": [
       "\n",
       "        <iframe\n",
       "            width=\"100%\"\n",
       "            height=\"525px\"\n",
       "            src=\"https://plotly.com/~andesdj/61.embed\"\n",
       "            frameborder=\"0\"\n",
       "            allowfullscreen\n",
       "        ></iframe>\n",
       "        "
      ],
      "text/plain": [
       "<IPython.lib.display.IFrame at 0x1cdabf0f488>"
      ]
     },
     "execution_count": 51,
     "metadata": {},
     "output_type": "execute_result"
    }
   ],
   "source": [
    "py.iplot(data, filename =\"Scatter- Line-plot\")"
   ]
  },
  {
   "cell_type": "markdown",
   "metadata": {},
   "source": [
    "#### Estilizado de graficos"
   ]
  },
  {
   "cell_type": "code",
   "execution_count": 57,
   "metadata": {},
   "outputs": [],
   "source": [
    "trace = go.Scatter(x= random_x, y= random_y, name=\" Puntos de estilo Wow\", mode=\"markers\",\n",
    "                  marker=dict(size= 12, color= \"rgba(140,20,20, 0.88)\"), line= dict(width=2, color=\"rgb(10,10,10)\"))"
   ]
  },
  {
   "cell_type": "code",
   "execution_count": 58,
   "metadata": {},
   "outputs": [],
   "source": [
    "layout=dict(title=\"Scatter plot Estilizado\", xaxis= dict(zeroline=False), yaxis=dict(zeroline=False))"
   ]
  },
  {
   "cell_type": "code",
   "execution_count": 60,
   "metadata": {},
   "outputs": [
    {
     "data": {
      "text/plain": [
       "'https://plotly.com/~andesdj/71/'"
      ]
     },
     "execution_count": 60,
     "metadata": {},
     "output_type": "execute_result"
    }
   ],
   "source": [
    "fig= dict( data= [trace], layout=layout)\n",
    "py.plot(fig)"
   ]
  },
  {
   "cell_type": "code",
   "execution_count": 67,
   "metadata": {},
   "outputs": [
    {
     "data": {
      "text/html": [
       "\n",
       "        <iframe\n",
       "            width=\"100%\"\n",
       "            height=\"525px\"\n",
       "            src=\"https://plotly.com/~andesdj/85.embed\"\n",
       "            frameborder=\"0\"\n",
       "            allowfullscreen\n",
       "        ></iframe>\n",
       "        "
      ],
      "text/plain": [
       "<IPython.lib.display.IFrame at 0x1cdac1893c8>"
      ]
     },
     "execution_count": 67,
     "metadata": {},
     "output_type": "execute_result"
    }
   ],
   "source": [
    "trace = go.Scatter(x= random_x, y= random_y, name=\" Puntos de estilo Wow\", mode=\"markers\",\n",
    "                  marker=dict(size= 20, color= \"rgba(20,80,220, 0.5)\"), line= dict(width=6, color=\"rgba(10,10,80,0.5)\"))\n",
    "\n",
    "fig= dict( data= [trace], layout=layout)\n",
    "py.iplot(fig)"
   ]
  },
  {
   "cell_type": "code",
   "execution_count": 73,
   "metadata": {},
   "outputs": [
    {
     "data": {
      "text/html": [
       "\n",
       "        <iframe\n",
       "            width=\"100%\"\n",
       "            height=\"525px\"\n",
       "            src=\"https://plotly.com/~andesdj/97.embed\"\n",
       "            frameborder=\"0\"\n",
       "            allowfullscreen\n",
       "        ></iframe>\n",
       "        "
      ],
      "text/plain": [
       "<IPython.lib.display.IFrame at 0x1cdaccac848>"
      ]
     },
     "execution_count": 73,
     "metadata": {},
     "output_type": "execute_result"
    }
   ],
   "source": [
    "trace = go.Histogram(x= random_x,  name=\" Histograma de estilo Wow\")\n",
    "layout=dict(title=\"Histogram Estilizado\", xaxis= dict(zeroline=True), yaxis=dict(zeroline=False))\n",
    "fig= dict( data= [trace], layout=layout)\n",
    "py.iplot(fig)"
   ]
  },
  {
   "cell_type": "code",
   "execution_count": 76,
   "metadata": {},
   "outputs": [
    {
     "data": {
      "text/html": [
       "\n",
       "        <iframe\n",
       "            width=\"100%\"\n",
       "            height=\"525px\"\n",
       "            src=\"https://plotly.com/~andesdj/103.embed\"\n",
       "            frameborder=\"0\"\n",
       "            allowfullscreen\n",
       "        ></iframe>\n",
       "        "
      ],
      "text/plain": [
       "<IPython.lib.display.IFrame at 0x1cdacd32ec8>"
      ]
     },
     "execution_count": 76,
     "metadata": {},
     "output_type": "execute_result"
    }
   ],
   "source": [
    "trace = go.Box(x= random_x,  name=\" Bigotes de estilo Wow\")\n",
    "layout=dict(title=\"Bigotes Estilizado\", xaxis= dict(zeroline=False), yaxis=dict(zeroline=False))\n",
    "fig= dict( data= [trace], layout=layout)\n",
    "py.iplot(fig)"
   ]
  },
  {
   "cell_type": "code",
   "execution_count": 90,
   "metadata": {},
   "outputs": [
    {
     "data": {
      "text/html": [
       "\n",
       "        <iframe\n",
       "            width=\"100%\"\n",
       "            height=\"525px\"\n",
       "            src=\"https://plotly.com/~andesdj/125.embed\"\n",
       "            frameborder=\"0\"\n",
       "            allowfullscreen\n",
       "        ></iframe>\n",
       "        "
      ],
      "text/plain": [
       "<IPython.lib.display.IFrame at 0x1cdaccce388>"
      ]
     },
     "execution_count": 90,
     "metadata": {},
     "output_type": "execute_result"
    }
   ],
   "source": [
    "trace = go.Box(x= random_x,  name=\" Bigotes de estilo Wow\", fillcolor=\"rgba(190,40,90,0.5)\")\n",
    "layout=dict(title=\"Bigotes Estilizado\", xaxis= dict(zeroline=True), yaxis=dict(zeroline=False))\n",
    "fig= dict( data= [trace], layout=layout)\n",
    "py.iplot(fig)"
   ]
  },
  {
   "cell_type": "markdown",
   "metadata": {},
   "source": [
    "## Mostar Info al hacer HOVER "
   ]
  },
  {
   "cell_type": "code",
   "execution_count": 160,
   "metadata": {},
   "outputs": [],
   "source": [
    "mpath='../src/datasets/usa-population'\n",
    "pfile='usa_states_population.csv'\n",
    "src=mpath+'/'+pfile\n",
    "data=pd.read_csv(src, sep=',' )\n",
    "#for i in range(int(N)):\n",
    "#    print(data['State'][i]+ \" \"+str(i))"
   ]
  },
  {
   "cell_type": "code",
   "execution_count": 167,
   "metadata": {
    "scrolled": false
   },
   "outputs": [],
   "source": [
    "N=52\n",
    "# Generar dinamicamente colores H S L\n",
    "c=['hsl('+str(h)+', 50%, 50%)' for h in  np.linspace(0,360, N)]\n"
   ]
  },
  {
   "cell_type": "code",
   "execution_count": 169,
   "metadata": {},
   "outputs": [],
   "source": [
    "l=[]\n",
    "y=[]\n",
    "for i in range(int(N)):\n",
    "    y.append((2000+i))\n",
    "    trace0= go.Scatter(\n",
    "        x= data['Rank'],\n",
    "        y= data['Population']+i*1000000,\n",
    "        mode= \"markers\",\n",
    "        marker= dict(size=14, line= dict(width=1), color= c[i], opacity=0.3),\n",
    "        #name=data['State'] \n",
    "    )\n",
    "    \n",
    "    l.append(trace0)\n",
    "    "
   ]
  },
  {
   "cell_type": "code",
   "execution_count": 175,
   "metadata": {},
   "outputs": [],
   "source": [
    "layout =  go.Layout(title=\" Población total de USA por estados\",\n",
    "                   hovermode= \"closest\",\n",
    "                   xaxis=dict(title=\"ID\", ticklen=5, zeroline=False, gridwidth=2),\n",
    "                   yaxis=dict(title=\"Población\", ticklen=5, gridwidth=2),\n",
    "                   showlegend=False)"
   ]
  },
  {
   "cell_type": "code",
   "execution_count": 177,
   "metadata": {},
   "outputs": [
    {
     "data": {
      "text/html": [
       "\n",
       "        <iframe\n",
       "            width=\"100%\"\n",
       "            height=\"525px\"\n",
       "            src=\"https://plotly.com/~andesdj/55.embed\"\n",
       "            frameborder=\"0\"\n",
       "            allowfullscreen\n",
       "        ></iframe>\n",
       "        "
      ],
      "text/plain": [
       "<IPython.lib.display.IFrame at 0x1cdac5f9348>"
      ]
     },
     "execution_count": 177,
     "metadata": {},
     "output_type": "execute_result"
    }
   ],
   "source": [
    "fig= go.Figure(data=l, layout=layout)\n",
    "py.iplot(fig, filename=\"basic-scatter\")"
   ]
  },
  {
   "cell_type": "code",
   "execution_count": 186,
   "metadata": {},
   "outputs": [
    {
     "data": {
      "text/html": [
       "\n",
       "        <iframe\n",
       "            width=\"100%\"\n",
       "            height=\"525px\"\n",
       "            src=\"https://plotly.com/~andesdj/55.embed\"\n",
       "            frameborder=\"0\"\n",
       "            allowfullscreen\n",
       "        ></iframe>\n",
       "        "
      ],
      "text/plain": [
       "<IPython.lib.display.IFrame at 0x1cdac4d8948>"
      ]
     },
     "execution_count": 186,
     "metadata": {},
     "output_type": "execute_result"
    }
   ],
   "source": [
    "trace= go.Scatter( y= np.random.randn(1000)*100,\n",
    "                mode=\"markers\", marker= dict(size=8, color= np.random.randn(1000), \n",
    "                                        colorscale= \"Viridis\", showscale=True))\n",
    "py.iplot([trace], filename=\"basic-scatter\")"
   ]
  },
  {
   "cell_type": "markdown",
   "metadata": {},
   "source": [
    "### Dataset muy grandes "
   ]
  },
  {
   "cell_type": "code",
   "execution_count": 208,
   "metadata": {
    "scrolled": false
   },
   "outputs": [
    {
     "data": {
      "text/html": [
       "\n",
       "        <iframe\n",
       "            width=\"100%\"\n",
       "            height=\"525px\"\n",
       "            src=\"https://plotly.com/~andesdj/55.embed\"\n",
       "            frameborder=\"0\"\n",
       "            allowfullscreen\n",
       "        ></iframe>\n",
       "        "
      ],
      "text/plain": [
       "<IPython.lib.display.IFrame at 0x1cdac5c9b08>"
      ]
     },
     "execution_count": 208,
     "metadata": {},
     "output_type": "execute_result"
    }
   ],
   "source": [
    "N=10000\n",
    "trace= go.Scattergl(x=np.random.randn(N), y= np.random.randn(N),mode= \"markers\",\n",
    "                  marker= dict(color= \"#4A35FF\",size=10, line=dict(width=1, )))\n",
    "py.iplot([trace], filename=\"basic-scatter\")"
   ]
  }
 ],
 "metadata": {
  "kernelspec": {
   "display_name": "Python 3",
   "language": "python",
   "name": "python3"
  },
  "language_info": {
   "codemirror_mode": {
    "name": "ipython",
    "version": 3
   },
   "file_extension": ".py",
   "mimetype": "text/x-python",
   "name": "python",
   "nbconvert_exporter": "python",
   "pygments_lexer": "ipython3",
   "version": "3.7.6"
  }
 },
 "nbformat": 4,
 "nbformat_minor": 4
}
