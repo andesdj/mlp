{
 "cells": [
  {
   "cell_type": "code",
   "execution_count": 4,
   "metadata": {},
   "outputs": [
    {
     "data": {
      "text/plain": [
       "'../src/wine/wine/winequality-red.csv'"
      ]
     },
     "execution_count": 4,
     "metadata": {},
     "output_type": "execute_result"
    }
   ],
   "source": [
    "import pandas as pd\n",
    "import numpy as np\n",
    "import matplotlib.pyplot as plt\n",
    "import os\n",
    "%config IPCompleter.greedy=True\n",
    "mpath='../src/wine'\n",
    "pfile1='winequality-red.csv'\n",
    "pfile2='winequality-white.csv'\n",
    "src1=mpath+'/'+pfile1\n",
    "src2=mpath+'/'+pfile2\n",
    "#red_wine=pd.read_csv(src1, sep=';')\n",
    "#white_wine=pd.read_csv(src2, sep=';' )\n",
    "src1"
   ]
  }
 ],
 "metadata": {
  "kernelspec": {
   "display_name": "Python 3",
   "language": "python",
   "name": "python3"
  },
  "language_info": {
   "codemirror_mode": {
    "name": "ipython",
    "version": 3
   },
   "file_extension": ".py",
   "mimetype": "text/x-python",
   "name": "python",
   "nbconvert_exporter": "python",
   "pygments_lexer": "ipython3",
   "version": "3.7.4"
  }
 },
 "nbformat": 4,
 "nbformat_minor": 2
}
