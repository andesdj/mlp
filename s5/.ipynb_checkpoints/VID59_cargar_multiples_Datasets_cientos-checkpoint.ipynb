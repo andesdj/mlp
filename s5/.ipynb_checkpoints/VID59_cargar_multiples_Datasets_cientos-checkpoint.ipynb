{
 "cells": [
  {
   "cell_type": "markdown",
   "metadata": {},
   "source": [
    "#  Datos distribuidos"
   ]
  },
  {
   "cell_type": "markdown",
   "metadata": {},
   "source": [
    "## Importar el primer fichero\n",
    "### Matriz de datos sparsed Pocas filas o columnas contienen datos utiles no nulos\n",
    "* hacer un bucle para recorrer todos y cada uno de los ficheros\n",
    "* importante consistencia en el nombre de los ficheros (Secuencia)\n",
    "* Importar los ficheros  uno a uno\n",
    "* Cada uno de los ficheros debe apendizarse (Cargarse al final del primer fichero)\n",
    "* Repetir el bucle hasta que no queden ficheros\n"
   ]
  },
  {
   "cell_type": "code",
   "execution_count": 6,
   "metadata": {},
   "outputs": [],
   "source": [
    "import pandas as pd\n",
    "import numpy as np\n",
    "import matplotlib.pyplot as plt\n",
    "import os\n",
    "%config IPCompleter.greedy=True\n",
    "\n"
   ]
  },
  {
   "cell_type": "code",
   "execution_count": 22,
   "metadata": {},
   "outputs": [],
   "source": [
    "mpath='../src/datasets/distributed-data/'\n",
    "#Cargar el primer fichero\n",
    "pfile1='001.csv'\n",
    "c='.csv'\n",
    "src=mpath+pfile1\n",
    "data=pd.read_csv(src, sep=',')\n",
    "final_length=len(data)\n"
   ]
  },
  {
   "cell_type": "code",
   "execution_count": 31,
   "metadata": {},
   "outputs": [],
   "source": [
    "#Total 332 archivos\n",
    "#Se puede convertir en una funcion\n",
    "# Para comprobar que se cargo todoSumar todas lsa filas de los datasets, sumar los archivos cargados\n",
    "mpath='../src/datasets/distributed-data/'\n",
    "pfile1='001.csv'\n",
    "c='.csv'\n",
    "src=mpath+pfile1\n",
    "data=pd.read_csv(src, sep=',')\n",
    "final_length=len(data)\n",
    "\n",
    "for i in range (2,333):\n",
    "    if i < 10:\n",
    "        filename = \"00\"+str(i)\n",
    "    elif 10 <= i < 100:\n",
    "        filename ='0' + str(i)\n",
    "    if i >= 100:\n",
    "        filename = str(i)\n",
    "    file = mpath+filename+c\n",
    "    final_length+=len(temp_data)\n",
    "    temp_data = pd.read_csv(file)\n",
    "    data = pd.concat([data,temp_data], axis = 0)"
   ]
  },
  {
   "cell_type": "code",
   "execution_count": 33,
   "metadata": {},
   "outputs": [
    {
     "data": {
      "text/plain": [
       "True"
      ]
     },
     "execution_count": 33,
     "metadata": {},
     "output_type": "execute_result"
    }
   ],
   "source": [
    "#Comprobar que la carga global coincide con el número de datos\n",
    "\n",
    "final_length==data.shape[0]"
   ]
  },
  {
   "cell_type": "code",
   "execution_count": 32,
   "metadata": {},
   "outputs": [
    {
     "data": {
      "text/plain": [
       "(772087, 4)"
      ]
     },
     "execution_count": 32,
     "metadata": {},
     "output_type": "execute_result"
    }
   ],
   "source": [
    "#se tienen  listos los datos\n",
    "data.shape"
   ]
  }
 ],
 "metadata": {
  "kernelspec": {
   "display_name": "Python 3",
   "language": "python",
   "name": "python3"
  },
  "language_info": {
   "codemirror_mode": {
    "name": "ipython",
    "version": 3
   },
   "file_extension": ".py",
   "mimetype": "text/x-python",
   "name": "python",
   "nbconvert_exporter": "python",
   "pygments_lexer": "ipython3",
   "version": "3.7.4"
  }
 },
 "nbformat": 4,
 "nbformat_minor": 2
}
